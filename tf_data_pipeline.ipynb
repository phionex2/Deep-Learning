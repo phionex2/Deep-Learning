{
  "nbformat": 4,
  "nbformat_minor": 0,
  "metadata": {
    "colab": {
      "provenance": [],
      "authorship_tag": "ABX9TyPT3hhiYVMUmJITf4jC8OqA",
      "include_colab_link": true
    },
    "kernelspec": {
      "name": "python3",
      "display_name": "Python 3"
    },
    "language_info": {
      "name": "python"
    }
  },
  "cells": [
    {
      "cell_type": "markdown",
      "metadata": {
        "id": "view-in-github",
        "colab_type": "text"
      },
      "source": [
        "<a href=\"https://colab.research.google.com/github/phionex2/Deep-Learning/blob/main/tf_data_pipeline.ipynb\" target=\"_parent\"><img src=\"https://colab.research.google.com/assets/colab-badge.svg\" alt=\"Open In Colab\"/></a>"
      ]
    },
    {
      "cell_type": "code",
      "execution_count": 1,
      "metadata": {
        "id": "_V8cH-nnfju-"
      },
      "outputs": [],
      "source": [
        "import tensorflow as tf"
      ]
    },
    {
      "cell_type": "code",
      "source": [
        "daily_sales_numbers = [21, 22, -108, 31, -1, 32, 34,31]\n",
        "\n",
        "tf_dataset = tf.data.Dataset.from_tensor_slices(daily_sales_numbers)\n",
        "tf_dataset"
      ],
      "metadata": {
        "colab": {
          "base_uri": "https://localhost:8080/"
        },
        "id": "l2h5xtvufrO1",
        "outputId": "9f9b0d7a-70f8-4440-aa5b-7cea802faf89"
      },
      "execution_count": 2,
      "outputs": [
        {
          "output_type": "execute_result",
          "data": {
            "text/plain": [
              "<_TensorSliceDataset element_spec=TensorSpec(shape=(), dtype=tf.int32, name=None)>"
            ]
          },
          "metadata": {},
          "execution_count": 2
        }
      ]
    },
    {
      "cell_type": "code",
      "source": [
        "for sales in tf_dataset:\n",
        "    print(sales.numpy())"
      ],
      "metadata": {
        "colab": {
          "base_uri": "https://localhost:8080/"
        },
        "id": "q26shoKVfu0k",
        "outputId": "a19f8707-a4ec-4166-b0c6-615a8d1da778"
      },
      "execution_count": 3,
      "outputs": [
        {
          "output_type": "stream",
          "name": "stdout",
          "text": [
            "21\n",
            "22\n",
            "-108\n",
            "31\n",
            "-1\n",
            "32\n",
            "34\n",
            "31\n"
          ]
        }
      ]
    },
    {
      "cell_type": "code",
      "source": [
        "for sales in tf_dataset.as_numpy_iterator():\n",
        "    print(sales)"
      ],
      "metadata": {
        "colab": {
          "base_uri": "https://localhost:8080/"
        },
        "id": "3hFS0ibrfxGU",
        "outputId": "5b05f22e-11eb-4084-e322-c92aadd9ca52"
      },
      "execution_count": 4,
      "outputs": [
        {
          "output_type": "stream",
          "name": "stdout",
          "text": [
            "21\n",
            "22\n",
            "-108\n",
            "31\n",
            "-1\n",
            "32\n",
            "34\n",
            "31\n"
          ]
        }
      ]
    },
    {
      "cell_type": "code",
      "source": [
        "for sales in tf_dataset.take(3):\n",
        "    print(sales.numpy())"
      ],
      "metadata": {
        "colab": {
          "base_uri": "https://localhost:8080/"
        },
        "id": "wjuh46jHf1Qa",
        "outputId": "7bb354ad-6fce-4257-f495-413db7a25d4a"
      },
      "execution_count": 5,
      "outputs": [
        {
          "output_type": "stream",
          "name": "stdout",
          "text": [
            "21\n",
            "22\n",
            "-108\n"
          ]
        }
      ]
    },
    {
      "cell_type": "code",
      "source": [
        "tf_dataset = tf_dataset.filter(lambda x: x>0)\n",
        "for sales in tf_dataset.as_numpy_iterator():\n",
        "    print(sales)"
      ],
      "metadata": {
        "colab": {
          "base_uri": "https://localhost:8080/"
        },
        "id": "sqm4j9_mf3Vd",
        "outputId": "c4fb89ef-2c34-4e85-efe3-3fc629259e82"
      },
      "execution_count": 6,
      "outputs": [
        {
          "output_type": "stream",
          "name": "stdout",
          "text": [
            "21\n",
            "22\n",
            "31\n",
            "32\n",
            "34\n",
            "31\n"
          ]
        }
      ]
    },
    {
      "cell_type": "code",
      "source": [
        "tf_dataset = tf_dataset.map(lambda x: x*72)\n",
        "for sales in tf_dataset.as_numpy_iterator():\n",
        "    print(sales)"
      ],
      "metadata": {
        "colab": {
          "base_uri": "https://localhost:8080/"
        },
        "id": "XmfSBj8_f45U",
        "outputId": "c782ef65-be5e-4360-8b2f-6e582c16addf"
      },
      "execution_count": 7,
      "outputs": [
        {
          "output_type": "stream",
          "name": "stdout",
          "text": [
            "1512\n",
            "1584\n",
            "2232\n",
            "2304\n",
            "2448\n",
            "2232\n"
          ]
        }
      ]
    },
    {
      "cell_type": "code",
      "source": [
        "tf_dataset = tf_dataset.shuffle(2)\n",
        "for sales in tf_dataset.as_numpy_iterator():\n",
        "    print(sales)"
      ],
      "metadata": {
        "colab": {
          "base_uri": "https://localhost:8080/"
        },
        "id": "lX7u9yVhf7WQ",
        "outputId": "59f8d79e-7859-4c96-deb5-2707518e92dd"
      },
      "execution_count": 8,
      "outputs": [
        {
          "output_type": "stream",
          "name": "stdout",
          "text": [
            "1584\n",
            "2232\n",
            "2304\n",
            "2448\n",
            "1512\n",
            "2232\n"
          ]
        }
      ]
    },
    {
      "cell_type": "code",
      "source": [
        "for sales_batch in tf_dataset.batch(2):\n",
        "    print(sales_batch.numpy())"
      ],
      "metadata": {
        "colab": {
          "base_uri": "https://localhost:8080/"
        },
        "id": "ATDVwM0jf9SQ",
        "outputId": "0a36382d-ae8a-4fcb-e4d0-b38a0a9b464e"
      },
      "execution_count": 9,
      "outputs": [
        {
          "output_type": "stream",
          "name": "stdout",
          "text": [
            "[1584 1512]\n",
            "[2232 2448]\n",
            "[2232 2304]\n"
          ]
        }
      ]
    },
    {
      "cell_type": "code",
      "source": [
        "tf_dataset = tf.data.Dataset.from_tensor_slices(daily_sales_numbers)\n",
        "\n",
        "tf_dataset = tf_dataset.filter(lambda x: x>0).map(lambda y: y*72).shuffle(2).batch(2)\n",
        "for sales in tf_dataset.as_numpy_iterator():\n",
        "    print(sales)"
      ],
      "metadata": {
        "colab": {
          "base_uri": "https://localhost:8080/"
        },
        "id": "DL965Tiff_Hn",
        "outputId": "d92b834d-fcca-44c5-8dfc-762c0a5359ed"
      },
      "execution_count": 10,
      "outputs": [
        {
          "output_type": "stream",
          "name": "stdout",
          "text": [
            "[1584 1512]\n",
            "[2304 2448]\n",
            "[2232 2232]\n"
          ]
        }
      ]
    },
    {
      "cell_type": "code",
      "source": [
        "images_ds = tf.data.Dataset.list_files('/content/th.jpg', shuffle=False)"
      ],
      "metadata": {
        "id": "BDGkmWaIgA9U"
      },
      "execution_count": 24,
      "outputs": []
    },
    {
      "cell_type": "code",
      "source": [
        "image_count = len(images_ds)\n",
        "image_count"
      ],
      "metadata": {
        "colab": {
          "base_uri": "https://localhost:8080/"
        },
        "id": "i450qgkMgC6M",
        "outputId": "b6a75caf-f49d-4b55-a085-55c88651a3db"
      },
      "execution_count": 25,
      "outputs": [
        {
          "output_type": "execute_result",
          "data": {
            "text/plain": [
              "1"
            ]
          },
          "metadata": {},
          "execution_count": 25
        }
      ]
    },
    {
      "cell_type": "code",
      "source": [
        "type(images_ds)"
      ],
      "metadata": {
        "colab": {
          "base_uri": "https://localhost:8080/",
          "height": 121
        },
        "id": "lL6dwYr9gG1V",
        "outputId": "7623107c-18ba-4ac4-9062-e34291cbe47c"
      },
      "execution_count": 26,
      "outputs": [
        {
          "output_type": "execute_result",
          "data": {
            "text/plain": [
              "tensorflow.python.data.ops.from_tensor_slices_op._TensorSliceDataset"
            ],
            "text/html": [
              "<div style=\"max-width:800px; border: 1px solid var(--colab-border-color);\"><style>\n",
              "      pre.function-repr-contents {\n",
              "        overflow-x: auto;\n",
              "        padding: 8px 12px;\n",
              "        max-height: 500px;\n",
              "      }\n",
              "\n",
              "      pre.function-repr-contents.function-repr-contents-collapsed {\n",
              "        cursor: pointer;\n",
              "        max-height: 100px;\n",
              "      }\n",
              "    </style>\n",
              "    <pre style=\"white-space: initial; background:\n",
              "         var(--colab-secondary-surface-color); padding: 8px 12px;\n",
              "         border-bottom: 1px solid var(--colab-border-color);\"><b>tensorflow.python.data.ops.from_tensor_slices_op._TensorSliceDataset</b><br/>def __init__(element, is_files=False, name=None)</pre><pre class=\"function-repr-contents function-repr-contents-collapsed\" style=\"\"><a class=\"filepath\" style=\"display:none\" href=\"#\">/usr/local/lib/python3.10/dist-packages/tensorflow/python/data/ops/from_tensor_slices_op.py</a>A `Dataset` of slices from a dataset element.</pre>\n",
              "      <script>\n",
              "      if (google.colab.kernel.accessAllowed && google.colab.files && google.colab.files.view) {\n",
              "        for (const element of document.querySelectorAll('.filepath')) {\n",
              "          element.style.display = 'block'\n",
              "          element.onclick = (event) => {\n",
              "            event.preventDefault();\n",
              "            event.stopPropagation();\n",
              "            google.colab.files.view(element.textContent, 28);\n",
              "          };\n",
              "        }\n",
              "      }\n",
              "      for (const element of document.querySelectorAll('.function-repr-contents')) {\n",
              "        element.onclick = (event) => {\n",
              "          event.preventDefault();\n",
              "          event.stopPropagation();\n",
              "          element.classList.toggle('function-repr-contents-collapsed');\n",
              "        };\n",
              "      }\n",
              "      </script>\n",
              "      </div>"
            ]
          },
          "metadata": {},
          "execution_count": 26
        }
      ]
    },
    {
      "cell_type": "code",
      "source": [
        "for file in images_ds.take(3):\n",
        "    print(file.numpy())"
      ],
      "metadata": {
        "colab": {
          "base_uri": "https://localhost:8080/"
        },
        "id": "DykootEkgnqj",
        "outputId": "b2dcc1eb-b3cc-4546-8070-6e079821268e"
      },
      "execution_count": 27,
      "outputs": [
        {
          "output_type": "stream",
          "name": "stdout",
          "text": [
            "b'/content/th.jpg'\n"
          ]
        }
      ]
    },
    {
      "cell_type": "code",
      "source": [
        "images_ds = images_ds.shuffle(200)\n",
        "for file in images_ds.take(3):\n",
        "    print(file.numpy())"
      ],
      "metadata": {
        "colab": {
          "base_uri": "https://localhost:8080/"
        },
        "id": "A_3dqEYrgqR5",
        "outputId": "2fa587e7-e363-4aed-935c-fb7c780dffed"
      },
      "execution_count": 28,
      "outputs": [
        {
          "output_type": "stream",
          "name": "stdout",
          "text": [
            "b'/content/th.jpg'\n"
          ]
        }
      ]
    },
    {
      "cell_type": "code",
      "source": [
        "class_names = [\"cat\",\"dog\"]"
      ],
      "metadata": {
        "id": "cilXZU4MgsMP"
      },
      "execution_count": 29,
      "outputs": []
    },
    {
      "cell_type": "code",
      "source": [
        "train_size = int(image_count*0.8)\n",
        "train_ds = images_ds.take(train_size)\n",
        "test_ds = images_ds.skip(train_size)"
      ],
      "metadata": {
        "id": "iaX2yGwGguAH"
      },
      "execution_count": 30,
      "outputs": []
    },
    {
      "cell_type": "code",
      "source": [
        "\n",
        "len(train_ds)"
      ],
      "metadata": {
        "colab": {
          "base_uri": "https://localhost:8080/"
        },
        "id": "8dSdoMo9gwMo",
        "outputId": "111ae3a9-da8a-4536-d93a-b52e00cc0acc"
      },
      "execution_count": 31,
      "outputs": [
        {
          "output_type": "execute_result",
          "data": {
            "text/plain": [
              "0"
            ]
          },
          "metadata": {},
          "execution_count": 31
        }
      ]
    },
    {
      "cell_type": "code",
      "source": [
        "len(test_ds)"
      ],
      "metadata": {
        "colab": {
          "base_uri": "https://localhost:8080/"
        },
        "id": "b5W2pIqjgyF3",
        "outputId": "756b2f8a-7062-46c0-9561-ecda20a80ac9"
      },
      "execution_count": 32,
      "outputs": [
        {
          "output_type": "execute_result",
          "data": {
            "text/plain": [
              "1"
            ]
          },
          "metadata": {},
          "execution_count": 32
        }
      ]
    },
    {
      "cell_type": "code",
      "source": [
        "def get_label(file_path):\n",
        "    import os\n",
        "    parts = tf.strings.split(file_path, os.path.sep)\n",
        "    return parts[-2]"
      ],
      "metadata": {
        "id": "86A_l5SMgzoC"
      },
      "execution_count": 33,
      "outputs": []
    },
    {
      "cell_type": "code",
      "source": [
        "get_label(\"/content/unnamed.jpg\")"
      ],
      "metadata": {
        "colab": {
          "base_uri": "https://localhost:8080/"
        },
        "id": "WBHNMiBfg1o5",
        "outputId": "2566538b-43f9-4582-b7ba-5001e2af9638"
      },
      "execution_count": 35,
      "outputs": [
        {
          "output_type": "execute_result",
          "data": {
            "text/plain": [
              "<tf.Tensor: shape=(), dtype=string, numpy=b'content'>"
            ]
          },
          "metadata": {},
          "execution_count": 35
        }
      ]
    },
    {
      "cell_type": "code",
      "source": [
        "def process_image(file_path):\n",
        "    label = get_label(file_path)\n",
        "    img = tf.io.read_file(file_path) # load the raw data from the file as a string\n",
        "    img = tf.image.decode_jpeg(img)\n",
        "    img = tf.image.resize(img, [128, 128])\n",
        "    return img, label"
      ],
      "metadata": {
        "id": "wg5Tq_XEg4JP"
      },
      "execution_count": 36,
      "outputs": []
    },
    {
      "cell_type": "code",
      "source": [
        "img, label = process_image(\"/content/unnamed.jpg\")\n",
        "img.numpy()[:2]"
      ],
      "metadata": {
        "colab": {
          "base_uri": "https://localhost:8080/"
        },
        "id": "vWRoBhyZhXTn",
        "outputId": "1241cb8d-8410-4235-a39b-cfa1f7555aca"
      },
      "execution_count": 37,
      "outputs": [
        {
          "output_type": "execute_result",
          "data": {
            "text/plain": [
              "array([[[8.47286987e+01, 1.07728699e+02, 1.72869873e+00],\n",
              "        [7.77162476e+01, 1.02306091e+02, 2.54937744e+00],\n",
              "        [6.59549561e+01, 8.99549561e+01, 1.95495605e+00],\n",
              "        [5.70358276e+01, 8.00045776e+01, 6.38427734e-02],\n",
              "        [6.20805054e+01, 8.50648804e+01, 3.06488037e+00],\n",
              "        [6.05509033e+01, 8.45196533e+01, 5.35278320e-01],\n",
              "        [6.63406982e+01, 8.91180420e+01, 1.78601074e+00],\n",
              "        [6.70718994e+01, 9.01734619e+01, 1.52343750e-01],\n",
              "        [6.73515625e+01, 9.13515625e+01, 3.35156250e+00],\n",
              "        [5.94116821e+01, 8.66069946e+01, 9.33837891e-03],\n",
              "        [4.94003296e+01, 8.42714233e+01, 1.36108398e-02],\n",
              "        [4.26441040e+01, 8.16441040e+01, 2.67083740e+00],\n",
              "        [4.87694702e+01, 8.27694702e+01, 5.76947021e+00],\n",
              "        [5.36408691e+01, 8.46408691e+01, 6.64086914e+00],\n",
              "        [5.49944458e+01, 7.90999146e+01, 1.06475830e+00],\n",
              "        [5.97386475e+01, 8.27698975e+01, 2.75427246e+00],\n",
              "        [5.59761963e+01, 7.89761963e+01, 1.00708008e+00],\n",
              "        [6.17349243e+01, 8.27416382e+01, 3.73828125e+00],\n",
              "        [5.89871216e+01, 8.19285278e+01, 1.86901855e+00],\n",
              "        [6.33463745e+01, 8.53463745e+01, 6.78405762e-01],\n",
              "        [6.93945312e+01, 8.93945312e+01, 2.39453125e+00],\n",
              "        [6.72715454e+01, 8.92715454e+01, 7.13293457e+00],\n",
              "        [6.33882446e+01, 8.83882446e+01, 5.38824463e+00],\n",
              "        [5.41730347e+01, 8.20245972e+01, 5.98815918e-01],\n",
              "        [5.16296387e+01, 8.26296387e+01, 2.62963867e+00],\n",
              "        [5.30889893e+01, 8.20889893e+01, 2.08898926e+00],\n",
              "        [5.47421265e+01, 7.87421265e+01, 7.42126465e-01],\n",
              "        [5.49612427e+01, 7.79612427e+01, 0.00000000e+00],\n",
              "        [6.27617188e+01, 8.57617188e+01, 3.76171875e+00],\n",
              "        [6.68710938e+01, 9.08710938e+01, 6.73828125e+00],\n",
              "        [6.03881226e+01, 8.63917236e+01, 3.05718994e+00],\n",
              "        [5.94179688e+01, 8.44179688e+01, 1.41796875e+00],\n",
              "        [5.99982300e+01, 8.49982300e+01, 1.99822998e+00],\n",
              "        [5.83203125e+01, 8.34804688e+01, 0.00000000e+00],\n",
              "        [6.89375000e+01, 9.49375000e+01, 3.93750000e+00],\n",
              "        [6.16236572e+01, 8.76236572e+01, 0.00000000e+00],\n",
              "        [6.00384521e+01, 8.50579834e+01, 9.99694824e-01],\n",
              "        [4.92811890e+01, 7.80312500e+01, 2.49938965e-01],\n",
              "        [5.21254272e+01, 8.30941772e+01, 5.06292725e+00],\n",
              "        [5.75460205e+01, 8.13554077e+01, 8.32806396e+00],\n",
              "        [5.09117432e+01, 7.69570312e+01, 2.77850342e+00],\n",
              "        [4.86367188e+01, 7.56367188e+01, 0.00000000e+00],\n",
              "        [5.18912354e+01, 7.52701416e+01, 2.51232910e+00],\n",
              "        [5.25797729e+01, 8.05797729e+01, 3.57977295e+00],\n",
              "        [4.98476562e+01, 8.20156250e+01, 0.00000000e+00],\n",
              "        [6.58828125e+01, 9.35585938e+01, 4.00000000e+00],\n",
              "        [6.37237549e+01, 8.87237549e+01, 0.00000000e+00],\n",
              "        [6.60193481e+01, 9.10193481e+01, 3.08837891e-02],\n",
              "        [5.87885132e+01, 8.40502319e+01, 0.00000000e+00],\n",
              "        [6.59380493e+01, 9.29380493e+01, 4.64843750e-01],\n",
              "        [6.74287720e+01, 9.44287720e+01, 1.61718750e+00],\n",
              "        [6.92317505e+01, 9.51497192e+01, 4.14971924e+00],\n",
              "        [6.69179688e+01, 8.99492188e+01, 1.00708008e-02],\n",
              "        [6.92225342e+01, 9.09843750e+01, 0.00000000e+00],\n",
              "        [6.81766357e+01, 9.09843750e+01, 0.00000000e+00],\n",
              "        [6.67929688e+01, 9.18085938e+01, 0.00000000e+00],\n",
              "        [6.08742065e+01, 8.82406616e+01, 4.56237793e-01],\n",
              "        [5.92617188e+01, 8.89887085e+01, 7.15698242e-01],\n",
              "        [4.99569702e+01, 7.89686890e+01, 0.00000000e+00],\n",
              "        [5.59020386e+01, 8.43671875e+01, 5.18719482e+00],\n",
              "        [5.27219849e+01, 7.87219849e+01, 4.72198486e+00],\n",
              "        [4.97919312e+01, 7.65955811e+01, 1.83020020e+00],\n",
              "        [5.22851562e+01, 8.11082764e+01, 1.01702881e+00],\n",
              "        [5.75965576e+01, 8.25965576e+01, 6.69372559e-01],\n",
              "        [5.59886475e+01, 8.09886475e+01, 0.00000000e+00],\n",
              "        [6.59631348e+01, 9.19631348e+01, 4.96453857e+00],\n",
              "        [5.79255371e+01, 8.34763184e+01, 8.34899902e-01],\n",
              "        [5.60312500e+01, 8.51171875e+01, 3.12500000e-02],\n",
              "        [5.47004395e+01, 7.97004395e+01, 0.00000000e+00],\n",
              "        [6.89529419e+01, 9.19529419e+01, 3.95306396e+00],\n",
              "        [6.95503540e+01, 9.25503540e+01, 2.27301025e+00],\n",
              "        [7.15421753e+01, 9.55421753e+01, 1.54217529e+00],\n",
              "        [7.69972534e+01, 9.89972534e+01, 9.97253418e-01],\n",
              "        [7.60140991e+01, 9.60140991e+01, 0.00000000e+00],\n",
              "        [7.31034546e+01, 9.31034546e+01, 0.00000000e+00],\n",
              "        [7.34827271e+01, 9.44827271e+01, 2.12725830e+00],\n",
              "        [7.49687500e+01, 9.79687500e+01, 6.96875000e+00],\n",
              "        [7.10252686e+01, 9.50252686e+01, 1.02526855e+00],\n",
              "        [6.94112549e+01, 9.39464111e+01, 4.34094238e+00],\n",
              "        [5.97382812e+01, 8.57382812e+01, 0.00000000e+00],\n",
              "        [6.60001831e+01, 9.20001831e+01, 1.00018311e+00],\n",
              "        [7.02606201e+01, 9.72606201e+01, 4.26062012e+00],\n",
              "        [7.32256470e+01, 9.72256470e+01, 1.66705322e+00],\n",
              "        [8.16640625e+01, 1.02000000e+02, 2.83203125e+00],\n",
              "        [8.55501709e+01, 1.03578125e+02, 4.57812500e+00],\n",
              "        [7.61113892e+01, 9.71113892e+01, 4.11138916e+00],\n",
              "        [5.96523438e+01, 8.43046875e+01, 6.52343750e-01],\n",
              "        [5.39257812e+01, 8.29257812e+01, 9.25781250e-01],\n",
              "        [5.86413574e+01, 8.26413574e+01, 2.17895508e-01],\n",
              "        [6.88363647e+01, 8.93090210e+01, 4.65270996e-01],\n",
              "        [6.77381592e+01, 9.07381592e+01, 4.99877930e-01],\n",
              "        [6.59414062e+01, 8.99414062e+01, 1.96093750e+00],\n",
              "        [6.19427490e+01, 8.39381714e+01, 2.81707764e+00],\n",
              "        [6.23757935e+01, 8.14070435e+01, 4.47143555e-01],\n",
              "        [5.66821899e+01, 8.06796875e+01, 0.00000000e+00],\n",
              "        [6.32336426e+01, 8.72336426e+01, 1.20361328e-01],\n",
              "        [6.45347900e+01, 8.95347900e+01, 0.00000000e+00],\n",
              "        [7.93306274e+01, 1.02330627e+02, 0.00000000e+00],\n",
              "        [8.68828125e+01, 1.08817444e+02, 1.01354980e+00],\n",
              "        [8.84453125e+01, 1.10445312e+02, 2.25891113e-01],\n",
              "        [9.19918823e+01, 1.11991882e+02, 0.00000000e+00],\n",
              "        [9.07539062e+01, 1.10753906e+02, 4.96032715e-01],\n",
              "        [7.49183960e+01, 9.89183960e+01, 9.72656250e-01],\n",
              "        [6.14343872e+01, 8.74343872e+01, 1.09252930e-02],\n",
              "        [6.25742188e+01, 8.85742188e+01, 2.45971680e-02],\n",
              "        [6.04631348e+01, 8.64631348e+01, 0.00000000e+00],\n",
              "        [6.19981079e+01, 9.18476562e+01, 3.62487793e+00],\n",
              "        [6.26367188e+01, 8.86054688e+01, 9.46044922e-03],\n",
              "        [7.13463745e+01, 9.43150635e+01, 3.66796875e+00],\n",
              "        [6.90165405e+01, 9.40165405e+01, 3.00091553e+00],\n",
              "        [6.28041382e+01, 8.68041382e+01, 0.00000000e+00],\n",
              "        [6.29616699e+01, 8.69616699e+01, 9.69299316e-01],\n",
              "        [6.25271606e+01, 8.85271606e+01, 2.75268555e-02],\n",
              "        [6.90150757e+01, 9.00150757e+01, 0.00000000e+00],\n",
              "        [6.44140625e+01, 9.20312500e+01, 2.04467773e-02],\n",
              "        [5.82695312e+01, 9.18424683e+01, 3.98834229e+00],\n",
              "        [5.50976562e+01, 9.02555542e+01, 5.77960205e+00],\n",
              "        [4.22206421e+01, 7.88046875e+01, 9.02343750e-01],\n",
              "        [4.93710938e+01, 8.33461304e+01, 6.93121338e+00],\n",
              "        [4.53152466e+01, 8.02839966e+01, 6.65222168e-01],\n",
              "        [4.00976562e+01, 7.40664062e+01, 0.00000000e+00],\n",
              "        [4.70976562e+01, 7.74296875e+01, 1.20703125e+00],\n",
              "        [5.94960327e+01, 8.35038452e+01, 9.99938965e-01],\n",
              "        [6.38007812e+01, 8.58007812e+01, 8.00781250e-01],\n",
              "        [6.40162964e+01, 8.80592651e+01, 1.49536133e-02],\n",
              "        [6.96541748e+01, 9.49705811e+01, 2.13623047e-02],\n",
              "        [7.39843750e+01, 9.99843750e+01, 0.00000000e+00],\n",
              "        [7.43231201e+01, 1.00323120e+02, 1.32312012e+00]],\n",
              "\n",
              "       [[7.65898438e+01, 9.85898438e+01, 0.00000000e+00],\n",
              "        [6.62304688e+01, 8.92112427e+01, 1.26892090e+00],\n",
              "        [6.12078247e+01, 8.45093994e+01, 1.97033691e+00],\n",
              "        [5.59570312e+01, 7.89140625e+01, 1.04296875e+00],\n",
              "        [6.11091309e+01, 8.41091309e+01, 3.64819336e+00],\n",
              "        [6.05505981e+01, 8.45505981e+01, 1.00781250e+00],\n",
              "        [7.14817505e+01, 9.44817505e+01, 6.48175049e+00],\n",
              "        [6.31484375e+01, 8.51992188e+01, 2.25000000e+00],\n",
              "        [6.13515625e+01, 8.43515625e+01, 2.35156250e+00],\n",
              "        [5.86934204e+01, 8.48887329e+01, 3.88873291e+00],\n",
              "        [4.27851562e+01, 7.75273438e+01, 1.20849609e-02],\n",
              "        [4.79062500e+01, 8.59062500e+01, 8.90625000e+00],\n",
              "        [3.99843140e+01, 7.39843140e+01, 2.72827148e-02],\n",
              "        [4.42660522e+01, 7.52660522e+01, 0.00000000e+00],\n",
              "        [5.49782104e+01, 7.90836792e+01, 1.04852295e+00],\n",
              "        [5.55122681e+01, 7.95122681e+01, 3.51226807e+00],\n",
              "        [5.70234375e+01, 8.10234375e+01, 5.02343750e+00],\n",
              "        [5.23922729e+01, 7.43922729e+01, 1.40625000e-01],\n",
              "        [5.91730347e+01, 8.11144409e+01, 6.20269775e+00],\n",
              "        [6.73125610e+01, 8.93281250e+01, 5.61737061e+00],\n",
              "        [7.01823120e+01, 9.11823120e+01, 8.44543457e-01],\n",
              "        [7.38732300e+01, 9.78732300e+01, 2.10406494e+00],\n",
              "        [6.81328125e+01, 9.41725464e+01, 3.39062500e+00],\n",
              "        [5.91484375e+01, 8.75742188e+01, 3.00000000e+00],\n",
              "        [5.00000000e+01, 8.10000000e+01, 1.00000000e+00],\n",
              "        [5.20000000e+01, 8.10000000e+01, 1.00000000e+00],\n",
              "        [5.39531250e+01, 7.79531250e+01, 0.00000000e+00],\n",
              "        [5.99168091e+01, 8.29168091e+01, 3.00689697e+00],\n",
              "        [5.59099121e+01, 7.89099121e+01, 0.00000000e+00],\n",
              "        [6.19531250e+01, 8.59531250e+01, 1.82342529e+00],\n",
              "        [6.54326782e+01, 8.63203125e+01, 3.69110107e+00],\n",
              "        [6.48384399e+01, 8.67840576e+01, 3.80218506e+00],\n",
              "        [5.99531250e+01, 8.39531250e+01, 0.00000000e+00],\n",
              "        [5.81601562e+01, 8.41601562e+01, 0.00000000e+00],\n",
              "        [6.65398560e+01, 9.25398560e+01, 1.53985596e+00],\n",
              "        [6.10331421e+01, 8.70331421e+01, 0.00000000e+00],\n",
              "        [6.32042847e+01, 8.92042847e+01, 1.12365723e-01],\n",
              "        [6.53357544e+01, 8.83357544e+01, 2.42004395e-01],\n",
              "        [7.19400635e+01, 9.34726562e+01, 4.82159424e+00],\n",
              "        [7.80507812e+01, 9.94585571e+01, 8.33679199e+00],\n",
              "        [5.90894165e+01, 8.43554688e+01, 2.21801758e-01],\n",
              "        [4.33476562e+01, 7.13476562e+01, 0.00000000e+00],\n",
              "        [4.51953125e+01, 7.31953125e+01, 0.00000000e+00],\n",
              "        [4.99463501e+01, 8.09463501e+01, 2.94635010e+00],\n",
              "        [5.68399048e+01, 8.60078735e+01, 1.67193604e+00],\n",
              "        [6.64152222e+01, 9.15324097e+01, 2.97381592e+00],\n",
              "        [6.87282104e+01, 9.37282104e+01, 2.72821045e+00],\n",
              "        [6.51640625e+01, 9.01640625e+01, 1.06018066e-01],\n",
              "        [6.32271118e+01, 8.77036743e+01, 0.00000000e+00],\n",
              "        [7.39514771e+01, 9.69765625e+01, 5.90130615e+00],\n",
              "        [6.81914062e+01, 9.21914062e+01, 0.00000000e+00],\n",
              "        [7.28438110e+01, 9.60078735e+01, 5.00787354e+00],\n",
              "        [6.03557129e+01, 8.53557129e+01, 0.00000000e+00],\n",
              "        [6.66779175e+01, 9.26779175e+01, 4.93572998e+00],\n",
              "        [6.27462158e+01, 8.77462158e+01, 3.83081055e+00],\n",
              "        [5.74674683e+01, 8.54674683e+01, 1.46746826e+00],\n",
              "        [5.41484375e+01, 8.44750366e+01, 2.08898926e+00],\n",
              "        [4.66757812e+01, 7.76757812e+01, 0.00000000e+00],\n",
              "        [5.09101562e+01, 7.99101562e+01, 3.72314453e-03],\n",
              "        [4.62635498e+01, 7.69940186e+01, 1.53308105e+00],\n",
              "        [4.87069092e+01, 7.87069092e+01, 6.75378418e+00],\n",
              "        [4.32656250e+01, 7.52656250e+01, 0.00000000e+00],\n",
              "        [5.00045166e+01, 8.08248291e+01, 2.64514160e+00],\n",
              "        [5.63931274e+01, 8.13931274e+01, 3.93127441e-01],\n",
              "        [5.70468750e+01, 8.20468750e+01, 0.00000000e+00],\n",
              "        [5.96878052e+01, 8.56878052e+01, 0.00000000e+00],\n",
              "        [6.52742310e+01, 9.08250122e+01, 7.64141846e+00],\n",
              "        [5.29276733e+01, 8.20136108e+01, 0.00000000e+00],\n",
              "        [6.37111816e+01, 8.87111816e+01, 5.71118164e+00],\n",
              "        [6.58943481e+01, 8.88943481e+01, 9.49401855e-01],\n",
              "        [6.97226562e+01, 9.27226562e+01, 4.16796875e+00],\n",
              "        [6.90000000e+01, 9.25249634e+01, 4.75036621e-01],\n",
              "        [7.58242188e+01, 9.68242188e+01, 1.82421875e+00],\n",
              "        [7.76693115e+01, 9.76693115e+01, 8.60046387e-01],\n",
              "        [7.40000000e+01, 9.40000000e+01, 0.00000000e+00],\n",
              "        [7.13856812e+01, 9.23856812e+01, 0.00000000e+00],\n",
              "        [6.98710938e+01, 9.28710938e+01, 1.87109375e+00],\n",
              "        [6.74207153e+01, 9.14207153e+01, 0.00000000e+00],\n",
              "        [7.00452271e+01, 9.45803833e+01, 4.97491455e+00],\n",
              "        [6.53085938e+01, 9.13085938e+01, 3.08593750e-01],\n",
              "        [6.00346069e+01, 8.60346069e+01, 0.00000000e+00],\n",
              "        [6.25530396e+01, 8.85530396e+01, 3.11889648e-01],\n",
              "        [7.16785278e+01, 9.76785278e+01, 6.78527832e-01],\n",
              "        [8.12737427e+01, 1.03777649e+02, 3.60968018e+00],\n",
              "        [7.50419312e+01, 9.50419312e+01, 0.00000000e+00],\n",
              "        [7.26388550e+01, 9.36388550e+01, 6.38854980e-01],\n",
              "        [6.26504517e+01, 8.73027954e+01, 2.60748291e+00],\n",
              "        [5.01449585e+01, 7.91449585e+01, 0.00000000e+00],\n",
              "        [6.44453125e+01, 8.84453125e+01, 4.44531250e+00],\n",
              "        [7.19453125e+01, 9.24179688e+01, 2.47265625e+00],\n",
              "        [6.65078125e+01, 8.95078125e+01, 0.00000000e+00],\n",
              "        [6.39804688e+01, 8.79804688e+01, 0.00000000e+00],\n",
              "        [6.00742188e+01, 8.50604858e+01, 2.75390625e+00],\n",
              "        [5.32804565e+01, 7.72804565e+01, 1.28045654e+00],\n",
              "        [5.94651489e+01, 8.24651489e+01, 2.86419678e+00],\n",
              "        [6.47787476e+01, 8.87787476e+01, 2.67077637e+00],\n",
              "        [6.83685913e+01, 9.33685913e+01, 6.13281250e-01],\n",
              "        [8.15628052e+01, 1.06562805e+02, 2.57873535e+00],\n",
              "        [8.47132568e+01, 1.07713257e+02, 3.11279297e-03],\n",
              "        [8.98965454e+01, 1.13896545e+02, 3.50189209e+00],\n",
              "        [9.79158936e+01, 1.17915894e+02, 4.91589355e+00],\n",
              "        [8.87185669e+01, 1.07718567e+02, 0.00000000e+00],\n",
              "        [7.40729370e+01, 9.80729370e+01, 2.18811035e-01],\n",
              "        [6.54639893e+01, 9.44639893e+01, 4.46398926e+00],\n",
              "        [5.97187500e+01, 8.97187500e+01, 1.90625000e+00],\n",
              "        [5.16588135e+01, 8.36588135e+01, 2.74658203e-01],\n",
              "        [5.63164062e+01, 8.51953125e+01, 1.07421875e+00],\n",
              "        [6.19815063e+01, 8.69815063e+01, 2.98150635e+00],\n",
              "        [6.39412842e+01, 8.72733154e+01, 0.00000000e+00],\n",
              "        [6.69062500e+01, 9.19062500e+01, 0.00000000e+00],\n",
              "        [6.73085938e+01, 9.23085938e+01, 1.30859375e+00],\n",
              "        [7.14648438e+01, 9.54648438e+01, 7.46484375e+00],\n",
              "        [6.29062500e+01, 8.69062500e+01, 9.53125000e-01],\n",
              "        [6.90368042e+01, 9.20368042e+01, 2.03680420e+00],\n",
              "        [6.60000000e+01, 9.06914062e+01, 6.17187500e-01],\n",
              "        [6.55897217e+01, 8.95897217e+01, 1.58972168e+00],\n",
              "        [6.10361938e+01, 8.98955688e+01, 8.02001953e-02],\n",
              "        [6.40181274e+01, 9.28952637e+01, 3.26385498e+00],\n",
              "        [6.16445312e+01, 8.76445312e+01, 5.69641113e-01],\n",
              "        [5.79891357e+01, 8.73558960e+01, 3.09020996e-01],\n",
              "        [4.92382812e+01, 8.03296509e+01, 2.78015137e-01],\n",
              "        [5.17254028e+01, 7.98347168e+01, 4.79827881e+00],\n",
              "        [5.90623169e+01, 8.30701294e+01, 5.66223145e-01],\n",
              "        [6.57695312e+01, 8.87695312e+01, 0.00000000e+00],\n",
              "        [6.68732300e+01, 9.18732300e+01, 9.14184570e-01],\n",
              "        [6.76984253e+01, 9.30148315e+01, 0.00000000e+00],\n",
              "        [7.20000000e+01, 9.80000000e+01, 1.00000000e+00],\n",
              "        [6.94595337e+01, 9.44595337e+01, 5.40466309e-01]]], dtype=float32)"
            ]
          },
          "metadata": {},
          "execution_count": 37
        }
      ]
    },
    {
      "cell_type": "code",
      "source": [
        " train_ds.map(process_image)\n",
        "test_ds = test_ds.map(process_image)"
      ],
      "metadata": {
        "id": "nzToNALmhfcw"
      },
      "execution_count": 38,
      "outputs": []
    },
    {
      "cell_type": "code",
      "source": [
        "\n",
        "for image, label in train_ds.take(1):\n",
        "    print(\"****\",image)\n",
        "    print(\"****\",label)"
      ],
      "metadata": {
        "id": "WZO_9gFhhmfS"
      },
      "execution_count": 39,
      "outputs": []
    },
    {
      "cell_type": "code",
      "source": [
        "\n",
        "def scale(image, label):\n",
        "    return image/255, label"
      ],
      "metadata": {
        "id": "8TUxpk12ho8h"
      },
      "execution_count": 40,
      "outputs": []
    },
    {
      "cell_type": "code",
      "source": [
        "for image, label in train_ds.take(5):\n",
        "    print(\"****Image: \",image.numpy()[0][0])\n",
        "    print(\"****Label: \",label.numpy())"
      ],
      "metadata": {
        "id": "0CPhVzQ7hurT"
      },
      "execution_count": 42,
      "outputs": []
    },
    {
      "cell_type": "code",
      "source": [],
      "metadata": {
        "id": "i7kaObrThwrK"
      },
      "execution_count": null,
      "outputs": []
    }
  ]
}