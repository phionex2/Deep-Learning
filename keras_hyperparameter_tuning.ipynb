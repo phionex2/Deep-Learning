{
  "nbformat": 4,
  "nbformat_minor": 0,
  "metadata": {
    "colab": {
      "provenance": [],
      "authorship_tag": "ABX9TyMrCfWJx88LrrlM8egnsces",
      "include_colab_link": true
    },
    "kernelspec": {
      "name": "python3",
      "display_name": "Python 3"
    },
    "language_info": {
      "name": "python"
    }
  },
  "cells": [
    {
      "cell_type": "markdown",
      "metadata": {
        "id": "view-in-github",
        "colab_type": "text"
      },
      "source": [
        "<a href=\"https://colab.research.google.com/github/phionex2/Deep-Learning/blob/main/keras_hyperparameter_tuning.ipynb\" target=\"_parent\"><img src=\"https://colab.research.google.com/assets/colab-badge.svg\" alt=\"Open In Colab\"/></a>"
      ]
    },
    {
      "cell_type": "code",
      "execution_count": 18,
      "metadata": {
        "id": "wiyFCTDU4Rjl"
      },
      "outputs": [],
      "source": [
        "import numpy as np\n",
        "import pandas as pd\n"
      ]
    },
    {
      "cell_type": "code",
      "source": [
        "df = pd.read_csv('diabetes.csv')"
      ],
      "metadata": {
        "id": "NyYadThpGk1E"
      },
      "execution_count": 19,
      "outputs": []
    },
    {
      "cell_type": "code",
      "source": [
        "df.head()"
      ],
      "metadata": {
        "colab": {
          "base_uri": "https://localhost:8080/",
          "height": 226
        },
        "id": "OLNKQO23G5ky",
        "outputId": "75edb967-4fc1-4002-8744-b264e15f7b83"
      },
      "execution_count": 20,
      "outputs": [
        {
          "output_type": "execute_result",
          "data": {
            "text/plain": [
              "   Pregnancies  Glucose  BloodPressure  SkinThickness  Insulin   BMI  \\\n",
              "0            6      148             72             35        0  33.6   \n",
              "1            1       85             66             29        0  26.6   \n",
              "2            8      183             64              0        0  23.3   \n",
              "3            1       89             66             23       94  28.1   \n",
              "4            0      137             40             35      168  43.1   \n",
              "\n",
              "   DiabetesPedigreeFunction  Age  Outcome  \n",
              "0                     0.627   50        1  \n",
              "1                     0.351   31        0  \n",
              "2                     0.672   32        1  \n",
              "3                     0.167   21        0  \n",
              "4                     2.288   33        1  "
            ],
            "text/html": [
              "\n",
              "  <div id=\"df-7299372d-8b78-4de1-bcb0-a32924809543\" class=\"colab-df-container\">\n",
              "    <div>\n",
              "<style scoped>\n",
              "    .dataframe tbody tr th:only-of-type {\n",
              "        vertical-align: middle;\n",
              "    }\n",
              "\n",
              "    .dataframe tbody tr th {\n",
              "        vertical-align: top;\n",
              "    }\n",
              "\n",
              "    .dataframe thead th {\n",
              "        text-align: right;\n",
              "    }\n",
              "</style>\n",
              "<table border=\"1\" class=\"dataframe\">\n",
              "  <thead>\n",
              "    <tr style=\"text-align: right;\">\n",
              "      <th></th>\n",
              "      <th>Pregnancies</th>\n",
              "      <th>Glucose</th>\n",
              "      <th>BloodPressure</th>\n",
              "      <th>SkinThickness</th>\n",
              "      <th>Insulin</th>\n",
              "      <th>BMI</th>\n",
              "      <th>DiabetesPedigreeFunction</th>\n",
              "      <th>Age</th>\n",
              "      <th>Outcome</th>\n",
              "    </tr>\n",
              "  </thead>\n",
              "  <tbody>\n",
              "    <tr>\n",
              "      <th>0</th>\n",
              "      <td>6</td>\n",
              "      <td>148</td>\n",
              "      <td>72</td>\n",
              "      <td>35</td>\n",
              "      <td>0</td>\n",
              "      <td>33.6</td>\n",
              "      <td>0.627</td>\n",
              "      <td>50</td>\n",
              "      <td>1</td>\n",
              "    </tr>\n",
              "    <tr>\n",
              "      <th>1</th>\n",
              "      <td>1</td>\n",
              "      <td>85</td>\n",
              "      <td>66</td>\n",
              "      <td>29</td>\n",
              "      <td>0</td>\n",
              "      <td>26.6</td>\n",
              "      <td>0.351</td>\n",
              "      <td>31</td>\n",
              "      <td>0</td>\n",
              "    </tr>\n",
              "    <tr>\n",
              "      <th>2</th>\n",
              "      <td>8</td>\n",
              "      <td>183</td>\n",
              "      <td>64</td>\n",
              "      <td>0</td>\n",
              "      <td>0</td>\n",
              "      <td>23.3</td>\n",
              "      <td>0.672</td>\n",
              "      <td>32</td>\n",
              "      <td>1</td>\n",
              "    </tr>\n",
              "    <tr>\n",
              "      <th>3</th>\n",
              "      <td>1</td>\n",
              "      <td>89</td>\n",
              "      <td>66</td>\n",
              "      <td>23</td>\n",
              "      <td>94</td>\n",
              "      <td>28.1</td>\n",
              "      <td>0.167</td>\n",
              "      <td>21</td>\n",
              "      <td>0</td>\n",
              "    </tr>\n",
              "    <tr>\n",
              "      <th>4</th>\n",
              "      <td>0</td>\n",
              "      <td>137</td>\n",
              "      <td>40</td>\n",
              "      <td>35</td>\n",
              "      <td>168</td>\n",
              "      <td>43.1</td>\n",
              "      <td>2.288</td>\n",
              "      <td>33</td>\n",
              "      <td>1</td>\n",
              "    </tr>\n",
              "  </tbody>\n",
              "</table>\n",
              "</div>\n",
              "    <div class=\"colab-df-buttons\">\n",
              "\n",
              "  <div class=\"colab-df-container\">\n",
              "    <button class=\"colab-df-convert\" onclick=\"convertToInteractive('df-7299372d-8b78-4de1-bcb0-a32924809543')\"\n",
              "            title=\"Convert this dataframe to an interactive table.\"\n",
              "            style=\"display:none;\">\n",
              "\n",
              "  <svg xmlns=\"http://www.w3.org/2000/svg\" height=\"24px\" viewBox=\"0 -960 960 960\">\n",
              "    <path d=\"M120-120v-720h720v720H120Zm60-500h600v-160H180v160Zm220 220h160v-160H400v160Zm0 220h160v-160H400v160ZM180-400h160v-160H180v160Zm440 0h160v-160H620v160ZM180-180h160v-160H180v160Zm440 0h160v-160H620v160Z\"/>\n",
              "  </svg>\n",
              "    </button>\n",
              "\n",
              "  <style>\n",
              "    .colab-df-container {\n",
              "      display:flex;\n",
              "      gap: 12px;\n",
              "    }\n",
              "\n",
              "    .colab-df-convert {\n",
              "      background-color: #E8F0FE;\n",
              "      border: none;\n",
              "      border-radius: 50%;\n",
              "      cursor: pointer;\n",
              "      display: none;\n",
              "      fill: #1967D2;\n",
              "      height: 32px;\n",
              "      padding: 0 0 0 0;\n",
              "      width: 32px;\n",
              "    }\n",
              "\n",
              "    .colab-df-convert:hover {\n",
              "      background-color: #E2EBFA;\n",
              "      box-shadow: 0px 1px 2px rgba(60, 64, 67, 0.3), 0px 1px 3px 1px rgba(60, 64, 67, 0.15);\n",
              "      fill: #174EA6;\n",
              "    }\n",
              "\n",
              "    .colab-df-buttons div {\n",
              "      margin-bottom: 4px;\n",
              "    }\n",
              "\n",
              "    [theme=dark] .colab-df-convert {\n",
              "      background-color: #3B4455;\n",
              "      fill: #D2E3FC;\n",
              "    }\n",
              "\n",
              "    [theme=dark] .colab-df-convert:hover {\n",
              "      background-color: #434B5C;\n",
              "      box-shadow: 0px 1px 3px 1px rgba(0, 0, 0, 0.15);\n",
              "      filter: drop-shadow(0px 1px 2px rgba(0, 0, 0, 0.3));\n",
              "      fill: #FFFFFF;\n",
              "    }\n",
              "  </style>\n",
              "\n",
              "    <script>\n",
              "      const buttonEl =\n",
              "        document.querySelector('#df-7299372d-8b78-4de1-bcb0-a32924809543 button.colab-df-convert');\n",
              "      buttonEl.style.display =\n",
              "        google.colab.kernel.accessAllowed ? 'block' : 'none';\n",
              "\n",
              "      async function convertToInteractive(key) {\n",
              "        const element = document.querySelector('#df-7299372d-8b78-4de1-bcb0-a32924809543');\n",
              "        const dataTable =\n",
              "          await google.colab.kernel.invokeFunction('convertToInteractive',\n",
              "                                                    [key], {});\n",
              "        if (!dataTable) return;\n",
              "\n",
              "        const docLinkHtml = 'Like what you see? Visit the ' +\n",
              "          '<a target=\"_blank\" href=https://colab.research.google.com/notebooks/data_table.ipynb>data table notebook</a>'\n",
              "          + ' to learn more about interactive tables.';\n",
              "        element.innerHTML = '';\n",
              "        dataTable['output_type'] = 'display_data';\n",
              "        await google.colab.output.renderOutput(dataTable, element);\n",
              "        const docLink = document.createElement('div');\n",
              "        docLink.innerHTML = docLinkHtml;\n",
              "        element.appendChild(docLink);\n",
              "      }\n",
              "    </script>\n",
              "  </div>\n",
              "\n",
              "\n",
              "<div id=\"df-0312e2ba-ac9c-4499-8c9e-3eed7bc9a7cd\">\n",
              "  <button class=\"colab-df-quickchart\" onclick=\"quickchart('df-0312e2ba-ac9c-4499-8c9e-3eed7bc9a7cd')\"\n",
              "            title=\"Suggest charts\"\n",
              "            style=\"display:none;\">\n",
              "\n",
              "<svg xmlns=\"http://www.w3.org/2000/svg\" height=\"24px\"viewBox=\"0 0 24 24\"\n",
              "     width=\"24px\">\n",
              "    <g>\n",
              "        <path d=\"M19 3H5c-1.1 0-2 .9-2 2v14c0 1.1.9 2 2 2h14c1.1 0 2-.9 2-2V5c0-1.1-.9-2-2-2zM9 17H7v-7h2v7zm4 0h-2V7h2v10zm4 0h-2v-4h2v4z\"/>\n",
              "    </g>\n",
              "</svg>\n",
              "  </button>\n",
              "\n",
              "<style>\n",
              "  .colab-df-quickchart {\n",
              "      --bg-color: #E8F0FE;\n",
              "      --fill-color: #1967D2;\n",
              "      --hover-bg-color: #E2EBFA;\n",
              "      --hover-fill-color: #174EA6;\n",
              "      --disabled-fill-color: #AAA;\n",
              "      --disabled-bg-color: #DDD;\n",
              "  }\n",
              "\n",
              "  [theme=dark] .colab-df-quickchart {\n",
              "      --bg-color: #3B4455;\n",
              "      --fill-color: #D2E3FC;\n",
              "      --hover-bg-color: #434B5C;\n",
              "      --hover-fill-color: #FFFFFF;\n",
              "      --disabled-bg-color: #3B4455;\n",
              "      --disabled-fill-color: #666;\n",
              "  }\n",
              "\n",
              "  .colab-df-quickchart {\n",
              "    background-color: var(--bg-color);\n",
              "    border: none;\n",
              "    border-radius: 50%;\n",
              "    cursor: pointer;\n",
              "    display: none;\n",
              "    fill: var(--fill-color);\n",
              "    height: 32px;\n",
              "    padding: 0;\n",
              "    width: 32px;\n",
              "  }\n",
              "\n",
              "  .colab-df-quickchart:hover {\n",
              "    background-color: var(--hover-bg-color);\n",
              "    box-shadow: 0 1px 2px rgba(60, 64, 67, 0.3), 0 1px 3px 1px rgba(60, 64, 67, 0.15);\n",
              "    fill: var(--button-hover-fill-color);\n",
              "  }\n",
              "\n",
              "  .colab-df-quickchart-complete:disabled,\n",
              "  .colab-df-quickchart-complete:disabled:hover {\n",
              "    background-color: var(--disabled-bg-color);\n",
              "    fill: var(--disabled-fill-color);\n",
              "    box-shadow: none;\n",
              "  }\n",
              "\n",
              "  .colab-df-spinner {\n",
              "    border: 2px solid var(--fill-color);\n",
              "    border-color: transparent;\n",
              "    border-bottom-color: var(--fill-color);\n",
              "    animation:\n",
              "      spin 1s steps(1) infinite;\n",
              "  }\n",
              "\n",
              "  @keyframes spin {\n",
              "    0% {\n",
              "      border-color: transparent;\n",
              "      border-bottom-color: var(--fill-color);\n",
              "      border-left-color: var(--fill-color);\n",
              "    }\n",
              "    20% {\n",
              "      border-color: transparent;\n",
              "      border-left-color: var(--fill-color);\n",
              "      border-top-color: var(--fill-color);\n",
              "    }\n",
              "    30% {\n",
              "      border-color: transparent;\n",
              "      border-left-color: var(--fill-color);\n",
              "      border-top-color: var(--fill-color);\n",
              "      border-right-color: var(--fill-color);\n",
              "    }\n",
              "    40% {\n",
              "      border-color: transparent;\n",
              "      border-right-color: var(--fill-color);\n",
              "      border-top-color: var(--fill-color);\n",
              "    }\n",
              "    60% {\n",
              "      border-color: transparent;\n",
              "      border-right-color: var(--fill-color);\n",
              "    }\n",
              "    80% {\n",
              "      border-color: transparent;\n",
              "      border-right-color: var(--fill-color);\n",
              "      border-bottom-color: var(--fill-color);\n",
              "    }\n",
              "    90% {\n",
              "      border-color: transparent;\n",
              "      border-bottom-color: var(--fill-color);\n",
              "    }\n",
              "  }\n",
              "</style>\n",
              "\n",
              "  <script>\n",
              "    async function quickchart(key) {\n",
              "      const quickchartButtonEl =\n",
              "        document.querySelector('#' + key + ' button');\n",
              "      quickchartButtonEl.disabled = true;  // To prevent multiple clicks.\n",
              "      quickchartButtonEl.classList.add('colab-df-spinner');\n",
              "      try {\n",
              "        const charts = await google.colab.kernel.invokeFunction(\n",
              "            'suggestCharts', [key], {});\n",
              "      } catch (error) {\n",
              "        console.error('Error during call to suggestCharts:', error);\n",
              "      }\n",
              "      quickchartButtonEl.classList.remove('colab-df-spinner');\n",
              "      quickchartButtonEl.classList.add('colab-df-quickchart-complete');\n",
              "    }\n",
              "    (() => {\n",
              "      let quickchartButtonEl =\n",
              "        document.querySelector('#df-0312e2ba-ac9c-4499-8c9e-3eed7bc9a7cd button');\n",
              "      quickchartButtonEl.style.display =\n",
              "        google.colab.kernel.accessAllowed ? 'block' : 'none';\n",
              "    })();\n",
              "  </script>\n",
              "</div>\n",
              "\n",
              "    </div>\n",
              "  </div>\n"
            ]
          },
          "metadata": {},
          "execution_count": 20
        }
      ]
    },
    {
      "cell_type": "code",
      "source": [
        "df.corr()['Outcome']"
      ],
      "metadata": {
        "colab": {
          "base_uri": "https://localhost:8080/"
        },
        "id": "mjPdkP71G7AL",
        "outputId": "c99e9611-d4c5-46c3-afcd-45d4e1df2752"
      },
      "execution_count": 21,
      "outputs": [
        {
          "output_type": "execute_result",
          "data": {
            "text/plain": [
              "Pregnancies                 0.221898\n",
              "Glucose                     0.466581\n",
              "BloodPressure               0.065068\n",
              "SkinThickness               0.074752\n",
              "Insulin                     0.130548\n",
              "BMI                         0.292695\n",
              "DiabetesPedigreeFunction    0.173844\n",
              "Age                         0.238356\n",
              "Outcome                     1.000000\n",
              "Name: Outcome, dtype: float64"
            ]
          },
          "metadata": {},
          "execution_count": 21
        }
      ]
    },
    {
      "cell_type": "code",
      "source": [
        "X = df.iloc[:,:-1].values\n",
        "y =df.iloc[:,-1].values"
      ],
      "metadata": {
        "id": "pD980F0YHVoY"
      },
      "execution_count": 22,
      "outputs": []
    },
    {
      "cell_type": "code",
      "source": [
        "from sklearn.preprocessing import StandardScaler\n",
        "scaler = StandardScaler()"
      ],
      "metadata": {
        "id": "lOgYTC21Hxns"
      },
      "execution_count": 23,
      "outputs": []
    },
    {
      "cell_type": "code",
      "source": [
        "X = scaler.fit_transform(X)#Scale the x data"
      ],
      "metadata": {
        "id": "aXL88BOUIAcs"
      },
      "execution_count": 24,
      "outputs": []
    },
    {
      "cell_type": "code",
      "source": [
        "X.shape"
      ],
      "metadata": {
        "colab": {
          "base_uri": "https://localhost:8080/"
        },
        "id": "MoCEAvESIGHW",
        "outputId": "ee529992-2191-4e67-97ef-ff71b94a1618"
      },
      "execution_count": 25,
      "outputs": [
        {
          "output_type": "execute_result",
          "data": {
            "text/plain": [
              "(768, 8)"
            ]
          },
          "metadata": {},
          "execution_count": 25
        }
      ]
    },
    {
      "cell_type": "code",
      "source": [
        "from sklearn.model_selection import train_test_split\n",
        "X_train,X_test,y_train,y_test = train_test_split(X,y,test_size=0.2,random_state = 1)"
      ],
      "metadata": {
        "id": "puJXgma_IIVU"
      },
      "execution_count": 26,
      "outputs": []
    },
    {
      "cell_type": "code",
      "source": [
        "import tensorflow\n",
        "from tensorflow import keras\n",
        "from keras import Sequential\n",
        "from keras.layers import Dense"
      ],
      "metadata": {
        "id": "dPZVyQ-ZIiYN"
      },
      "execution_count": 27,
      "outputs": []
    },
    {
      "cell_type": "code",
      "source": [
        "model = Sequential()\n",
        "model.add(Dense(32,activation='relu',input_dim=8))\n",
        "model.add(Dense(1,activation='sigmoid'))\n",
        "\n",
        "model.compile(optimizer='Adam',loss='binary_crossentropy',metrics=['accuracy'])"
      ],
      "metadata": {
        "id": "rAvKxT3WIydx"
      },
      "execution_count": 28,
      "outputs": []
    },
    {
      "cell_type": "code",
      "source": [
        "model.fit(X_train,y_train,batch_size=32,epochs=100,validation_data=(X_test,y_test))"
      ],
      "metadata": {
        "colab": {
          "base_uri": "https://localhost:8080/"
        },
        "id": "iqZO-OkvJdk3",
        "outputId": "0fd55cea-c1f3-49b7-f908-bab060514b9e"
      },
      "execution_count": 29,
      "outputs": [
        {
          "output_type": "stream",
          "name": "stdout",
          "text": [
            "Epoch 1/100\n",
            "20/20 [==============================] - 1s 17ms/step - loss: 0.7325 - accuracy: 0.5391 - val_loss: 0.7154 - val_accuracy: 0.5455\n",
            "Epoch 2/100\n",
            "20/20 [==============================] - 0s 4ms/step - loss: 0.6722 - accuracy: 0.6059 - val_loss: 0.6572 - val_accuracy: 0.6039\n",
            "Epoch 3/100\n",
            "20/20 [==============================] - 0s 5ms/step - loss: 0.6287 - accuracy: 0.6450 - val_loss: 0.6153 - val_accuracy: 0.6688\n",
            "Epoch 4/100\n",
            "20/20 [==============================] - 0s 4ms/step - loss: 0.5959 - accuracy: 0.6726 - val_loss: 0.5862 - val_accuracy: 0.6948\n",
            "Epoch 5/100\n",
            "20/20 [==============================] - 0s 5ms/step - loss: 0.5711 - accuracy: 0.6954 - val_loss: 0.5621 - val_accuracy: 0.7143\n",
            "Epoch 6/100\n",
            "20/20 [==============================] - 0s 5ms/step - loss: 0.5512 - accuracy: 0.7020 - val_loss: 0.5434 - val_accuracy: 0.7273\n",
            "Epoch 7/100\n",
            "20/20 [==============================] - 0s 5ms/step - loss: 0.5350 - accuracy: 0.7231 - val_loss: 0.5289 - val_accuracy: 0.7468\n",
            "Epoch 8/100\n",
            "20/20 [==============================] - 0s 5ms/step - loss: 0.5213 - accuracy: 0.7329 - val_loss: 0.5153 - val_accuracy: 0.7532\n",
            "Epoch 9/100\n",
            "20/20 [==============================] - 0s 5ms/step - loss: 0.5094 - accuracy: 0.7492 - val_loss: 0.5052 - val_accuracy: 0.7532\n",
            "Epoch 10/100\n",
            "20/20 [==============================] - 0s 5ms/step - loss: 0.5000 - accuracy: 0.7622 - val_loss: 0.4969 - val_accuracy: 0.7532\n",
            "Epoch 11/100\n",
            "20/20 [==============================] - 0s 5ms/step - loss: 0.4915 - accuracy: 0.7655 - val_loss: 0.4910 - val_accuracy: 0.7662\n",
            "Epoch 12/100\n",
            "20/20 [==============================] - 0s 5ms/step - loss: 0.4846 - accuracy: 0.7704 - val_loss: 0.4872 - val_accuracy: 0.7662\n",
            "Epoch 13/100\n",
            "20/20 [==============================] - 0s 4ms/step - loss: 0.4787 - accuracy: 0.7671 - val_loss: 0.4840 - val_accuracy: 0.7727\n",
            "Epoch 14/100\n",
            "20/20 [==============================] - 0s 3ms/step - loss: 0.4734 - accuracy: 0.7671 - val_loss: 0.4790 - val_accuracy: 0.7597\n",
            "Epoch 15/100\n",
            "20/20 [==============================] - 0s 4ms/step - loss: 0.4696 - accuracy: 0.7704 - val_loss: 0.4767 - val_accuracy: 0.7727\n",
            "Epoch 16/100\n",
            "20/20 [==============================] - 0s 4ms/step - loss: 0.4654 - accuracy: 0.7752 - val_loss: 0.4761 - val_accuracy: 0.7857\n",
            "Epoch 17/100\n",
            "20/20 [==============================] - 0s 4ms/step - loss: 0.4625 - accuracy: 0.7769 - val_loss: 0.4740 - val_accuracy: 0.7987\n",
            "Epoch 18/100\n",
            "20/20 [==============================] - 0s 3ms/step - loss: 0.4594 - accuracy: 0.7801 - val_loss: 0.4745 - val_accuracy: 0.7857\n",
            "Epoch 19/100\n",
            "20/20 [==============================] - 0s 3ms/step - loss: 0.4566 - accuracy: 0.7850 - val_loss: 0.4732 - val_accuracy: 0.7727\n",
            "Epoch 20/100\n",
            "20/20 [==============================] - 0s 3ms/step - loss: 0.4548 - accuracy: 0.7883 - val_loss: 0.4730 - val_accuracy: 0.7792\n",
            "Epoch 21/100\n",
            "20/20 [==============================] - 0s 4ms/step - loss: 0.4529 - accuracy: 0.7899 - val_loss: 0.4725 - val_accuracy: 0.7792\n",
            "Epoch 22/100\n",
            "20/20 [==============================] - 0s 4ms/step - loss: 0.4507 - accuracy: 0.7866 - val_loss: 0.4707 - val_accuracy: 0.7857\n",
            "Epoch 23/100\n",
            "20/20 [==============================] - 0s 3ms/step - loss: 0.4496 - accuracy: 0.7850 - val_loss: 0.4705 - val_accuracy: 0.7727\n",
            "Epoch 24/100\n",
            "20/20 [==============================] - 0s 3ms/step - loss: 0.4480 - accuracy: 0.7866 - val_loss: 0.4706 - val_accuracy: 0.7727\n",
            "Epoch 25/100\n",
            "20/20 [==============================] - 0s 3ms/step - loss: 0.4471 - accuracy: 0.7818 - val_loss: 0.4704 - val_accuracy: 0.7727\n",
            "Epoch 26/100\n",
            "20/20 [==============================] - 0s 3ms/step - loss: 0.4455 - accuracy: 0.7866 - val_loss: 0.4714 - val_accuracy: 0.7597\n",
            "Epoch 27/100\n",
            "20/20 [==============================] - 0s 4ms/step - loss: 0.4451 - accuracy: 0.7866 - val_loss: 0.4717 - val_accuracy: 0.7597\n",
            "Epoch 28/100\n",
            "20/20 [==============================] - 0s 4ms/step - loss: 0.4440 - accuracy: 0.7899 - val_loss: 0.4705 - val_accuracy: 0.7597\n",
            "Epoch 29/100\n",
            "20/20 [==============================] - 0s 4ms/step - loss: 0.4429 - accuracy: 0.7850 - val_loss: 0.4684 - val_accuracy: 0.7662\n",
            "Epoch 30/100\n",
            "20/20 [==============================] - 0s 3ms/step - loss: 0.4420 - accuracy: 0.7850 - val_loss: 0.4680 - val_accuracy: 0.7792\n",
            "Epoch 31/100\n",
            "20/20 [==============================] - 0s 3ms/step - loss: 0.4413 - accuracy: 0.7883 - val_loss: 0.4681 - val_accuracy: 0.7792\n",
            "Epoch 32/100\n",
            "20/20 [==============================] - 0s 3ms/step - loss: 0.4401 - accuracy: 0.7883 - val_loss: 0.4695 - val_accuracy: 0.7727\n",
            "Epoch 33/100\n",
            "20/20 [==============================] - 0s 4ms/step - loss: 0.4404 - accuracy: 0.7866 - val_loss: 0.4704 - val_accuracy: 0.7662\n",
            "Epoch 34/100\n",
            "20/20 [==============================] - 0s 3ms/step - loss: 0.4385 - accuracy: 0.7932 - val_loss: 0.4706 - val_accuracy: 0.7727\n",
            "Epoch 35/100\n",
            "20/20 [==============================] - 0s 4ms/step - loss: 0.4379 - accuracy: 0.7899 - val_loss: 0.4692 - val_accuracy: 0.7727\n",
            "Epoch 36/100\n",
            "20/20 [==============================] - 0s 4ms/step - loss: 0.4374 - accuracy: 0.7899 - val_loss: 0.4690 - val_accuracy: 0.7727\n",
            "Epoch 37/100\n",
            "20/20 [==============================] - 0s 3ms/step - loss: 0.4362 - accuracy: 0.7899 - val_loss: 0.4693 - val_accuracy: 0.7792\n",
            "Epoch 38/100\n",
            "20/20 [==============================] - 0s 3ms/step - loss: 0.4361 - accuracy: 0.7932 - val_loss: 0.4693 - val_accuracy: 0.7792\n",
            "Epoch 39/100\n",
            "20/20 [==============================] - 0s 3ms/step - loss: 0.4351 - accuracy: 0.7932 - val_loss: 0.4695 - val_accuracy: 0.7727\n",
            "Epoch 40/100\n",
            "20/20 [==============================] - 0s 4ms/step - loss: 0.4345 - accuracy: 0.7834 - val_loss: 0.4691 - val_accuracy: 0.7857\n",
            "Epoch 41/100\n",
            "20/20 [==============================] - 0s 3ms/step - loss: 0.4340 - accuracy: 0.7899 - val_loss: 0.4688 - val_accuracy: 0.7792\n",
            "Epoch 42/100\n",
            "20/20 [==============================] - 0s 3ms/step - loss: 0.4334 - accuracy: 0.7932 - val_loss: 0.4678 - val_accuracy: 0.7922\n",
            "Epoch 43/100\n",
            "20/20 [==============================] - 0s 3ms/step - loss: 0.4325 - accuracy: 0.7915 - val_loss: 0.4686 - val_accuracy: 0.7922\n",
            "Epoch 44/100\n",
            "20/20 [==============================] - 0s 3ms/step - loss: 0.4325 - accuracy: 0.7915 - val_loss: 0.4695 - val_accuracy: 0.7857\n",
            "Epoch 45/100\n",
            "20/20 [==============================] - 0s 3ms/step - loss: 0.4312 - accuracy: 0.7948 - val_loss: 0.4693 - val_accuracy: 0.8052\n",
            "Epoch 46/100\n",
            "20/20 [==============================] - 0s 3ms/step - loss: 0.4306 - accuracy: 0.7883 - val_loss: 0.4682 - val_accuracy: 0.7987\n",
            "Epoch 47/100\n",
            "20/20 [==============================] - 0s 3ms/step - loss: 0.4304 - accuracy: 0.7883 - val_loss: 0.4678 - val_accuracy: 0.8117\n",
            "Epoch 48/100\n",
            "20/20 [==============================] - 0s 3ms/step - loss: 0.4302 - accuracy: 0.7883 - val_loss: 0.4675 - val_accuracy: 0.7922\n",
            "Epoch 49/100\n",
            "20/20 [==============================] - 0s 3ms/step - loss: 0.4294 - accuracy: 0.7899 - val_loss: 0.4670 - val_accuracy: 0.8117\n",
            "Epoch 50/100\n",
            "20/20 [==============================] - 0s 4ms/step - loss: 0.4285 - accuracy: 0.7915 - val_loss: 0.4673 - val_accuracy: 0.8052\n",
            "Epoch 51/100\n",
            "20/20 [==============================] - 0s 4ms/step - loss: 0.4280 - accuracy: 0.7915 - val_loss: 0.4675 - val_accuracy: 0.8052\n",
            "Epoch 52/100\n",
            "20/20 [==============================] - 0s 3ms/step - loss: 0.4274 - accuracy: 0.7899 - val_loss: 0.4675 - val_accuracy: 0.8117\n",
            "Epoch 53/100\n",
            "20/20 [==============================] - 0s 3ms/step - loss: 0.4272 - accuracy: 0.7899 - val_loss: 0.4670 - val_accuracy: 0.8052\n",
            "Epoch 54/100\n",
            "20/20 [==============================] - 0s 3ms/step - loss: 0.4275 - accuracy: 0.7915 - val_loss: 0.4661 - val_accuracy: 0.8052\n",
            "Epoch 55/100\n",
            "20/20 [==============================] - 0s 4ms/step - loss: 0.4263 - accuracy: 0.7964 - val_loss: 0.4653 - val_accuracy: 0.8117\n",
            "Epoch 56/100\n",
            "20/20 [==============================] - 0s 4ms/step - loss: 0.4258 - accuracy: 0.7964 - val_loss: 0.4660 - val_accuracy: 0.8052\n",
            "Epoch 57/100\n",
            "20/20 [==============================] - 0s 4ms/step - loss: 0.4253 - accuracy: 0.7932 - val_loss: 0.4670 - val_accuracy: 0.7987\n",
            "Epoch 58/100\n",
            "20/20 [==============================] - 0s 4ms/step - loss: 0.4250 - accuracy: 0.7915 - val_loss: 0.4662 - val_accuracy: 0.7987\n",
            "Epoch 59/100\n",
            "20/20 [==============================] - 0s 3ms/step - loss: 0.4250 - accuracy: 0.7948 - val_loss: 0.4686 - val_accuracy: 0.8052\n",
            "Epoch 60/100\n",
            "20/20 [==============================] - 0s 4ms/step - loss: 0.4240 - accuracy: 0.7997 - val_loss: 0.4664 - val_accuracy: 0.8052\n",
            "Epoch 61/100\n",
            "20/20 [==============================] - 0s 4ms/step - loss: 0.4240 - accuracy: 0.7948 - val_loss: 0.4664 - val_accuracy: 0.8052\n",
            "Epoch 62/100\n",
            "20/20 [==============================] - 0s 3ms/step - loss: 0.4228 - accuracy: 0.7964 - val_loss: 0.4661 - val_accuracy: 0.8052\n",
            "Epoch 63/100\n",
            "20/20 [==============================] - 0s 4ms/step - loss: 0.4237 - accuracy: 0.7915 - val_loss: 0.4651 - val_accuracy: 0.7987\n",
            "Epoch 64/100\n",
            "20/20 [==============================] - 0s 3ms/step - loss: 0.4223 - accuracy: 0.7932 - val_loss: 0.4650 - val_accuracy: 0.8052\n",
            "Epoch 65/100\n",
            "20/20 [==============================] - 0s 3ms/step - loss: 0.4222 - accuracy: 0.7899 - val_loss: 0.4649 - val_accuracy: 0.8052\n",
            "Epoch 66/100\n",
            "20/20 [==============================] - 0s 4ms/step - loss: 0.4220 - accuracy: 0.7932 - val_loss: 0.4631 - val_accuracy: 0.7922\n",
            "Epoch 67/100\n",
            "20/20 [==============================] - 0s 4ms/step - loss: 0.4206 - accuracy: 0.7948 - val_loss: 0.4620 - val_accuracy: 0.7922\n",
            "Epoch 68/100\n",
            "20/20 [==============================] - 0s 3ms/step - loss: 0.4205 - accuracy: 0.8029 - val_loss: 0.4617 - val_accuracy: 0.8117\n",
            "Epoch 69/100\n",
            "20/20 [==============================] - 0s 4ms/step - loss: 0.4201 - accuracy: 0.7980 - val_loss: 0.4614 - val_accuracy: 0.7987\n",
            "Epoch 70/100\n",
            "20/20 [==============================] - 0s 3ms/step - loss: 0.4199 - accuracy: 0.7964 - val_loss: 0.4636 - val_accuracy: 0.8052\n",
            "Epoch 71/100\n",
            "20/20 [==============================] - 0s 3ms/step - loss: 0.4196 - accuracy: 0.7948 - val_loss: 0.4640 - val_accuracy: 0.8052\n",
            "Epoch 72/100\n",
            "20/20 [==============================] - 0s 4ms/step - loss: 0.4190 - accuracy: 0.7980 - val_loss: 0.4639 - val_accuracy: 0.8052\n",
            "Epoch 73/100\n",
            "20/20 [==============================] - 0s 3ms/step - loss: 0.4183 - accuracy: 0.7980 - val_loss: 0.4631 - val_accuracy: 0.8052\n",
            "Epoch 74/100\n",
            "20/20 [==============================] - 0s 3ms/step - loss: 0.4184 - accuracy: 0.7980 - val_loss: 0.4631 - val_accuracy: 0.8117\n",
            "Epoch 75/100\n",
            "20/20 [==============================] - 0s 3ms/step - loss: 0.4181 - accuracy: 0.8029 - val_loss: 0.4607 - val_accuracy: 0.8117\n",
            "Epoch 76/100\n",
            "20/20 [==============================] - 0s 3ms/step - loss: 0.4179 - accuracy: 0.8046 - val_loss: 0.4611 - val_accuracy: 0.8052\n",
            "Epoch 77/100\n",
            "20/20 [==============================] - 0s 4ms/step - loss: 0.4171 - accuracy: 0.7964 - val_loss: 0.4620 - val_accuracy: 0.8182\n",
            "Epoch 78/100\n",
            "20/20 [==============================] - 0s 3ms/step - loss: 0.4170 - accuracy: 0.8013 - val_loss: 0.4623 - val_accuracy: 0.8117\n",
            "Epoch 79/100\n",
            "20/20 [==============================] - 0s 3ms/step - loss: 0.4169 - accuracy: 0.7997 - val_loss: 0.4617 - val_accuracy: 0.8052\n",
            "Epoch 80/100\n",
            "20/20 [==============================] - 0s 4ms/step - loss: 0.4165 - accuracy: 0.8013 - val_loss: 0.4619 - val_accuracy: 0.8052\n",
            "Epoch 81/100\n",
            "20/20 [==============================] - 0s 4ms/step - loss: 0.4159 - accuracy: 0.7980 - val_loss: 0.4605 - val_accuracy: 0.8052\n",
            "Epoch 82/100\n",
            "20/20 [==============================] - 0s 3ms/step - loss: 0.4159 - accuracy: 0.7997 - val_loss: 0.4601 - val_accuracy: 0.8117\n",
            "Epoch 83/100\n",
            "20/20 [==============================] - 0s 3ms/step - loss: 0.4156 - accuracy: 0.7948 - val_loss: 0.4591 - val_accuracy: 0.8052\n",
            "Epoch 84/100\n",
            "20/20 [==============================] - 0s 3ms/step - loss: 0.4150 - accuracy: 0.8029 - val_loss: 0.4602 - val_accuracy: 0.8052\n",
            "Epoch 85/100\n",
            "20/20 [==============================] - 0s 3ms/step - loss: 0.4146 - accuracy: 0.7997 - val_loss: 0.4607 - val_accuracy: 0.8052\n",
            "Epoch 86/100\n",
            "20/20 [==============================] - 0s 4ms/step - loss: 0.4146 - accuracy: 0.7997 - val_loss: 0.4604 - val_accuracy: 0.8117\n",
            "Epoch 87/100\n",
            "20/20 [==============================] - 0s 3ms/step - loss: 0.4155 - accuracy: 0.7997 - val_loss: 0.4595 - val_accuracy: 0.7987\n",
            "Epoch 88/100\n",
            "20/20 [==============================] - 0s 3ms/step - loss: 0.4144 - accuracy: 0.8062 - val_loss: 0.4606 - val_accuracy: 0.8052\n",
            "Epoch 89/100\n",
            "20/20 [==============================] - 0s 4ms/step - loss: 0.4151 - accuracy: 0.8013 - val_loss: 0.4634 - val_accuracy: 0.8117\n",
            "Epoch 90/100\n",
            "20/20 [==============================] - 0s 4ms/step - loss: 0.4134 - accuracy: 0.8029 - val_loss: 0.4636 - val_accuracy: 0.8117\n",
            "Epoch 91/100\n",
            "20/20 [==============================] - 0s 4ms/step - loss: 0.4129 - accuracy: 0.7997 - val_loss: 0.4630 - val_accuracy: 0.8117\n",
            "Epoch 92/100\n",
            "20/20 [==============================] - 0s 3ms/step - loss: 0.4125 - accuracy: 0.8013 - val_loss: 0.4620 - val_accuracy: 0.8117\n",
            "Epoch 93/100\n",
            "20/20 [==============================] - 0s 4ms/step - loss: 0.4120 - accuracy: 0.8046 - val_loss: 0.4612 - val_accuracy: 0.8117\n",
            "Epoch 94/100\n",
            "20/20 [==============================] - 0s 4ms/step - loss: 0.4121 - accuracy: 0.8013 - val_loss: 0.4603 - val_accuracy: 0.8117\n",
            "Epoch 95/100\n",
            "20/20 [==============================] - 0s 3ms/step - loss: 0.4116 - accuracy: 0.8013 - val_loss: 0.4609 - val_accuracy: 0.8117\n",
            "Epoch 96/100\n",
            "20/20 [==============================] - 0s 3ms/step - loss: 0.4117 - accuracy: 0.8029 - val_loss: 0.4594 - val_accuracy: 0.8117\n",
            "Epoch 97/100\n",
            "20/20 [==============================] - 0s 4ms/step - loss: 0.4114 - accuracy: 0.8094 - val_loss: 0.4599 - val_accuracy: 0.8052\n",
            "Epoch 98/100\n",
            "20/20 [==============================] - 0s 3ms/step - loss: 0.4112 - accuracy: 0.8094 - val_loss: 0.4608 - val_accuracy: 0.8117\n",
            "Epoch 99/100\n",
            "20/20 [==============================] - 0s 4ms/step - loss: 0.4107 - accuracy: 0.8046 - val_loss: 0.4596 - val_accuracy: 0.8117\n",
            "Epoch 100/100\n",
            "20/20 [==============================] - 0s 4ms/step - loss: 0.4102 - accuracy: 0.8062 - val_loss: 0.4600 - val_accuracy: 0.8117\n"
          ]
        },
        {
          "output_type": "execute_result",
          "data": {
            "text/plain": [
              "<keras.src.callbacks.History at 0x7926bda3d5a0>"
            ]
          },
          "metadata": {},
          "execution_count": 29
        }
      ]
    },
    {
      "cell_type": "code",
      "source": [
        "#how to select appropriate optimizer\n",
        "!pip install -U keras-tuner"
      ],
      "metadata": {
        "colab": {
          "base_uri": "https://localhost:8080/"
        },
        "id": "bww5Yk2gJqYg",
        "outputId": "acb1273c-749b-45c0-8de5-b756b2c69868"
      },
      "execution_count": 30,
      "outputs": [
        {
          "output_type": "stream",
          "name": "stdout",
          "text": [
            "Requirement already satisfied: keras-tuner in /usr/local/lib/python3.10/dist-packages (1.4.6)\n",
            "Requirement already satisfied: keras in /usr/local/lib/python3.10/dist-packages (from keras-tuner) (2.15.0)\n",
            "Requirement already satisfied: packaging in /usr/local/lib/python3.10/dist-packages (from keras-tuner) (23.2)\n",
            "Requirement already satisfied: requests in /usr/local/lib/python3.10/dist-packages (from keras-tuner) (2.31.0)\n",
            "Requirement already satisfied: kt-legacy in /usr/local/lib/python3.10/dist-packages (from keras-tuner) (1.0.5)\n",
            "Requirement already satisfied: charset-normalizer<4,>=2 in /usr/local/lib/python3.10/dist-packages (from requests->keras-tuner) (3.3.2)\n",
            "Requirement already satisfied: idna<4,>=2.5 in /usr/local/lib/python3.10/dist-packages (from requests->keras-tuner) (3.6)\n",
            "Requirement already satisfied: urllib3<3,>=1.21.1 in /usr/local/lib/python3.10/dist-packages (from requests->keras-tuner) (2.0.7)\n",
            "Requirement already satisfied: certifi>=2017.4.17 in /usr/local/lib/python3.10/dist-packages (from requests->keras-tuner) (2023.11.17)\n"
          ]
        }
      ]
    },
    {
      "cell_type": "code",
      "source": [
        "import kerastuner as kt"
      ],
      "metadata": {
        "id": "FYPVw03FKsw5"
      },
      "execution_count": 31,
      "outputs": []
    },
    {
      "cell_type": "code",
      "source": [
        "def build_model(hp):       #hp-Hyperparameter\n",
        "  model = Sequential()\n",
        "  model.add(Dense(32,activation='relu',input_dim=8))\n",
        "  model.add(Dense(1,activation='sigmoid'))\n",
        "  optimizer=hp.Choice('optimizer', values = ['adam','sgd','rmsprop','adadelta'])\n",
        "  model.compile(optimizer=optimizer,loss='binary_crossentropy',metrics=['accuracy'])\n",
        "\n",
        "  return model"
      ],
      "metadata": {
        "id": "1NHKNVfFLIw8"
      },
      "execution_count": 32,
      "outputs": []
    },
    {
      "cell_type": "code",
      "source": [
        "tuner = kt.RandomSearch(build_model,\n",
        "                        objective = 'val_accuracy',\n",
        "                        max_trials = 3)"
      ],
      "metadata": {
        "id": "GXBl9uT0M1bp"
      },
      "execution_count": 33,
      "outputs": []
    },
    {
      "cell_type": "code",
      "source": [
        "tuner.search(X_train,y_train,epochs=5,validation_data=(X_test,y_test))"
      ],
      "metadata": {
        "colab": {
          "base_uri": "https://localhost:8080/"
        },
        "id": "hkj0R-rdNMyn",
        "outputId": "3b144fcf-ce6a-425f-9fd8-5f24324e1ecb"
      },
      "execution_count": 34,
      "outputs": [
        {
          "output_type": "stream",
          "name": "stdout",
          "text": [
            "Trial 3 Complete [00h 00m 01s]\n",
            "val_accuracy: 0.7792207598686218\n",
            "\n",
            "Best val_accuracy So Far: 0.7792207598686218\n",
            "Total elapsed time: 00h 00m 05s\n"
          ]
        }
      ]
    },
    {
      "cell_type": "code",
      "source": [
        "tuner.get_best_hyperparameters()[0].values"
      ],
      "metadata": {
        "colab": {
          "base_uri": "https://localhost:8080/"
        },
        "id": "TUfFOTdgOKHt",
        "outputId": "c2059475-2fda-415b-9f58-fcdc15c33b6f"
      },
      "execution_count": 35,
      "outputs": [
        {
          "output_type": "execute_result",
          "data": {
            "text/plain": [
              "{'optimizer': 'rmsprop'}"
            ]
          },
          "metadata": {},
          "execution_count": 35
        }
      ]
    },
    {
      "cell_type": "code",
      "source": [
        "model = tuner.get_best_models(num_models=1)[0]"
      ],
      "metadata": {
        "id": "-cSv9YxvO3NE"
      },
      "execution_count": 36,
      "outputs": []
    },
    {
      "cell_type": "code",
      "source": [
        "model.summary()"
      ],
      "metadata": {
        "colab": {
          "base_uri": "https://localhost:8080/"
        },
        "id": "uyBVwX7APAjJ",
        "outputId": "3ebf7aa1-a42e-4fbc-e38c-baf630264cd7"
      },
      "execution_count": 37,
      "outputs": [
        {
          "output_type": "stream",
          "name": "stdout",
          "text": [
            "Model: \"sequential\"\n",
            "_________________________________________________________________\n",
            " Layer (type)                Output Shape              Param #   \n",
            "=================================================================\n",
            " dense (Dense)               (None, 32)                288       \n",
            "                                                                 \n",
            " dense_1 (Dense)             (None, 1)                 33        \n",
            "                                                                 \n",
            "=================================================================\n",
            "Total params: 321 (1.25 KB)\n",
            "Trainable params: 321 (1.25 KB)\n",
            "Non-trainable params: 0 (0.00 Byte)\n",
            "_________________________________________________________________\n"
          ]
        }
      ]
    },
    {
      "cell_type": "code",
      "source": [
        "model.fit(X_train,y_train,batch_size=32,epochs=100,initial_epoch=4,validation_data=(X_test,y_test))"
      ],
      "metadata": {
        "colab": {
          "base_uri": "https://localhost:8080/"
        },
        "id": "auOq-LbZPDdX",
        "outputId": "299319be-3b3e-44a4-efc2-1ac51410d169"
      },
      "execution_count": 38,
      "outputs": [
        {
          "output_type": "stream",
          "name": "stdout",
          "text": [
            "Epoch 5/100\n",
            "20/20 [==============================] - 1s 12ms/step - loss: 0.5483 - accuracy: 0.7248 - val_loss: 0.5240 - val_accuracy: 0.7792\n",
            "Epoch 6/100\n",
            "20/20 [==============================] - 0s 4ms/step - loss: 0.5293 - accuracy: 0.7329 - val_loss: 0.5073 - val_accuracy: 0.7727\n",
            "Epoch 7/100\n",
            "20/20 [==============================] - 0s 4ms/step - loss: 0.5143 - accuracy: 0.7427 - val_loss: 0.4948 - val_accuracy: 0.7857\n",
            "Epoch 8/100\n",
            "20/20 [==============================] - 0s 4ms/step - loss: 0.5028 - accuracy: 0.7590 - val_loss: 0.4855 - val_accuracy: 0.7857\n",
            "Epoch 9/100\n",
            "20/20 [==============================] - 0s 3ms/step - loss: 0.4926 - accuracy: 0.7541 - val_loss: 0.4772 - val_accuracy: 0.7857\n",
            "Epoch 10/100\n",
            "20/20 [==============================] - 0s 4ms/step - loss: 0.4842 - accuracy: 0.7622 - val_loss: 0.4709 - val_accuracy: 0.8052\n",
            "Epoch 11/100\n",
            "20/20 [==============================] - 0s 4ms/step - loss: 0.4779 - accuracy: 0.7606 - val_loss: 0.4659 - val_accuracy: 0.8052\n",
            "Epoch 12/100\n",
            "20/20 [==============================] - 0s 3ms/step - loss: 0.4724 - accuracy: 0.7720 - val_loss: 0.4620 - val_accuracy: 0.8052\n",
            "Epoch 13/100\n",
            "20/20 [==============================] - 0s 3ms/step - loss: 0.4681 - accuracy: 0.7785 - val_loss: 0.4600 - val_accuracy: 0.7922\n",
            "Epoch 14/100\n",
            "20/20 [==============================] - 0s 4ms/step - loss: 0.4649 - accuracy: 0.7818 - val_loss: 0.4588 - val_accuracy: 0.8052\n",
            "Epoch 15/100\n",
            "20/20 [==============================] - 0s 3ms/step - loss: 0.4620 - accuracy: 0.7818 - val_loss: 0.4572 - val_accuracy: 0.7922\n",
            "Epoch 16/100\n",
            "20/20 [==============================] - 0s 4ms/step - loss: 0.4600 - accuracy: 0.7801 - val_loss: 0.4555 - val_accuracy: 0.7857\n",
            "Epoch 17/100\n",
            "20/20 [==============================] - 0s 7ms/step - loss: 0.4584 - accuracy: 0.7769 - val_loss: 0.4557 - val_accuracy: 0.7857\n",
            "Epoch 18/100\n",
            "20/20 [==============================] - 0s 8ms/step - loss: 0.4568 - accuracy: 0.7801 - val_loss: 0.4544 - val_accuracy: 0.7857\n",
            "Epoch 19/100\n",
            "20/20 [==============================] - 0s 6ms/step - loss: 0.4553 - accuracy: 0.7834 - val_loss: 0.4553 - val_accuracy: 0.7922\n",
            "Epoch 20/100\n",
            "20/20 [==============================] - 0s 6ms/step - loss: 0.4542 - accuracy: 0.7818 - val_loss: 0.4552 - val_accuracy: 0.7792\n",
            "Epoch 21/100\n",
            "20/20 [==============================] - 0s 5ms/step - loss: 0.4532 - accuracy: 0.7818 - val_loss: 0.4554 - val_accuracy: 0.7857\n",
            "Epoch 22/100\n",
            "20/20 [==============================] - 0s 5ms/step - loss: 0.4521 - accuracy: 0.7834 - val_loss: 0.4558 - val_accuracy: 0.7922\n",
            "Epoch 23/100\n",
            "20/20 [==============================] - 0s 5ms/step - loss: 0.4514 - accuracy: 0.7850 - val_loss: 0.4550 - val_accuracy: 0.7987\n",
            "Epoch 24/100\n",
            "20/20 [==============================] - 0s 4ms/step - loss: 0.4506 - accuracy: 0.7883 - val_loss: 0.4538 - val_accuracy: 0.7987\n",
            "Epoch 25/100\n",
            "20/20 [==============================] - 0s 5ms/step - loss: 0.4501 - accuracy: 0.7850 - val_loss: 0.4528 - val_accuracy: 0.7987\n",
            "Epoch 26/100\n",
            "20/20 [==============================] - 0s 5ms/step - loss: 0.4491 - accuracy: 0.7834 - val_loss: 0.4522 - val_accuracy: 0.7922\n",
            "Epoch 27/100\n",
            "20/20 [==============================] - 0s 5ms/step - loss: 0.4482 - accuracy: 0.7883 - val_loss: 0.4524 - val_accuracy: 0.7922\n",
            "Epoch 28/100\n",
            "20/20 [==============================] - 0s 5ms/step - loss: 0.4474 - accuracy: 0.7883 - val_loss: 0.4529 - val_accuracy: 0.7922\n",
            "Epoch 29/100\n",
            "20/20 [==============================] - 0s 6ms/step - loss: 0.4465 - accuracy: 0.7850 - val_loss: 0.4527 - val_accuracy: 0.7922\n",
            "Epoch 30/100\n",
            "20/20 [==============================] - 0s 5ms/step - loss: 0.4461 - accuracy: 0.7866 - val_loss: 0.4530 - val_accuracy: 0.7922\n",
            "Epoch 31/100\n",
            "20/20 [==============================] - 0s 5ms/step - loss: 0.4451 - accuracy: 0.7866 - val_loss: 0.4528 - val_accuracy: 0.7857\n",
            "Epoch 32/100\n",
            "20/20 [==============================] - 0s 5ms/step - loss: 0.4446 - accuracy: 0.7850 - val_loss: 0.4537 - val_accuracy: 0.7857\n",
            "Epoch 33/100\n",
            "20/20 [==============================] - 0s 5ms/step - loss: 0.4438 - accuracy: 0.7883 - val_loss: 0.4531 - val_accuracy: 0.7857\n",
            "Epoch 34/100\n",
            "20/20 [==============================] - 0s 5ms/step - loss: 0.4433 - accuracy: 0.7883 - val_loss: 0.4531 - val_accuracy: 0.7922\n",
            "Epoch 35/100\n",
            "20/20 [==============================] - 0s 9ms/step - loss: 0.4425 - accuracy: 0.7915 - val_loss: 0.4529 - val_accuracy: 0.7922\n",
            "Epoch 36/100\n",
            "20/20 [==============================] - 0s 7ms/step - loss: 0.4422 - accuracy: 0.7899 - val_loss: 0.4524 - val_accuracy: 0.7857\n",
            "Epoch 37/100\n",
            "20/20 [==============================] - 0s 5ms/step - loss: 0.4421 - accuracy: 0.7866 - val_loss: 0.4518 - val_accuracy: 0.7922\n",
            "Epoch 38/100\n",
            "20/20 [==============================] - 0s 4ms/step - loss: 0.4407 - accuracy: 0.7899 - val_loss: 0.4509 - val_accuracy: 0.7922\n",
            "Epoch 39/100\n",
            "20/20 [==============================] - 0s 3ms/step - loss: 0.4405 - accuracy: 0.7915 - val_loss: 0.4510 - val_accuracy: 0.7922\n",
            "Epoch 40/100\n",
            "20/20 [==============================] - 0s 4ms/step - loss: 0.4399 - accuracy: 0.7932 - val_loss: 0.4506 - val_accuracy: 0.7987\n",
            "Epoch 41/100\n",
            "20/20 [==============================] - 0s 3ms/step - loss: 0.4394 - accuracy: 0.7915 - val_loss: 0.4511 - val_accuracy: 0.7857\n",
            "Epoch 42/100\n",
            "20/20 [==============================] - 0s 4ms/step - loss: 0.4386 - accuracy: 0.7899 - val_loss: 0.4504 - val_accuracy: 0.7987\n",
            "Epoch 43/100\n",
            "20/20 [==============================] - 0s 3ms/step - loss: 0.4383 - accuracy: 0.7883 - val_loss: 0.4499 - val_accuracy: 0.7987\n",
            "Epoch 44/100\n",
            "20/20 [==============================] - 0s 3ms/step - loss: 0.4378 - accuracy: 0.7883 - val_loss: 0.4508 - val_accuracy: 0.7987\n",
            "Epoch 45/100\n",
            "20/20 [==============================] - 0s 3ms/step - loss: 0.4376 - accuracy: 0.7883 - val_loss: 0.4521 - val_accuracy: 0.7857\n",
            "Epoch 46/100\n",
            "20/20 [==============================] - 0s 3ms/step - loss: 0.4367 - accuracy: 0.7883 - val_loss: 0.4520 - val_accuracy: 0.7857\n",
            "Epoch 47/100\n",
            "20/20 [==============================] - 0s 4ms/step - loss: 0.4365 - accuracy: 0.7932 - val_loss: 0.4512 - val_accuracy: 0.7922\n",
            "Epoch 48/100\n",
            "20/20 [==============================] - 0s 4ms/step - loss: 0.4357 - accuracy: 0.7899 - val_loss: 0.4513 - val_accuracy: 0.7922\n",
            "Epoch 49/100\n",
            "20/20 [==============================] - 0s 4ms/step - loss: 0.4352 - accuracy: 0.7883 - val_loss: 0.4503 - val_accuracy: 0.7987\n",
            "Epoch 50/100\n",
            "20/20 [==============================] - 0s 3ms/step - loss: 0.4345 - accuracy: 0.7899 - val_loss: 0.4508 - val_accuracy: 0.7987\n",
            "Epoch 51/100\n",
            "20/20 [==============================] - 0s 4ms/step - loss: 0.4343 - accuracy: 0.7883 - val_loss: 0.4500 - val_accuracy: 0.7987\n",
            "Epoch 52/100\n",
            "20/20 [==============================] - 0s 4ms/step - loss: 0.4339 - accuracy: 0.7915 - val_loss: 0.4507 - val_accuracy: 0.7922\n",
            "Epoch 53/100\n",
            "20/20 [==============================] - 0s 4ms/step - loss: 0.4333 - accuracy: 0.7899 - val_loss: 0.4509 - val_accuracy: 0.7922\n",
            "Epoch 54/100\n",
            "20/20 [==============================] - 0s 4ms/step - loss: 0.4329 - accuracy: 0.7915 - val_loss: 0.4497 - val_accuracy: 0.7987\n",
            "Epoch 55/100\n",
            "20/20 [==============================] - 0s 4ms/step - loss: 0.4328 - accuracy: 0.7915 - val_loss: 0.4492 - val_accuracy: 0.7987\n",
            "Epoch 56/100\n",
            "20/20 [==============================] - 0s 4ms/step - loss: 0.4320 - accuracy: 0.7899 - val_loss: 0.4492 - val_accuracy: 0.7922\n",
            "Epoch 57/100\n",
            "20/20 [==============================] - 0s 3ms/step - loss: 0.4315 - accuracy: 0.7883 - val_loss: 0.4492 - val_accuracy: 0.7922\n",
            "Epoch 58/100\n",
            "20/20 [==============================] - 0s 3ms/step - loss: 0.4316 - accuracy: 0.7899 - val_loss: 0.4491 - val_accuracy: 0.7987\n",
            "Epoch 59/100\n",
            "20/20 [==============================] - 0s 4ms/step - loss: 0.4310 - accuracy: 0.7899 - val_loss: 0.4477 - val_accuracy: 0.8052\n",
            "Epoch 60/100\n",
            "20/20 [==============================] - 0s 4ms/step - loss: 0.4307 - accuracy: 0.7932 - val_loss: 0.4462 - val_accuracy: 0.8052\n",
            "Epoch 61/100\n",
            "20/20 [==============================] - 0s 3ms/step - loss: 0.4297 - accuracy: 0.7915 - val_loss: 0.4471 - val_accuracy: 0.8052\n",
            "Epoch 62/100\n",
            "20/20 [==============================] - 0s 4ms/step - loss: 0.4297 - accuracy: 0.7899 - val_loss: 0.4473 - val_accuracy: 0.8052\n",
            "Epoch 63/100\n",
            "20/20 [==============================] - 0s 4ms/step - loss: 0.4293 - accuracy: 0.7915 - val_loss: 0.4480 - val_accuracy: 0.8182\n",
            "Epoch 64/100\n",
            "20/20 [==============================] - 0s 4ms/step - loss: 0.4292 - accuracy: 0.7964 - val_loss: 0.4478 - val_accuracy: 0.8117\n",
            "Epoch 65/100\n",
            "20/20 [==============================] - 0s 4ms/step - loss: 0.4285 - accuracy: 0.7915 - val_loss: 0.4477 - val_accuracy: 0.8182\n",
            "Epoch 66/100\n",
            "20/20 [==============================] - 0s 3ms/step - loss: 0.4283 - accuracy: 0.7932 - val_loss: 0.4470 - val_accuracy: 0.8052\n",
            "Epoch 67/100\n",
            "20/20 [==============================] - 0s 3ms/step - loss: 0.4279 - accuracy: 0.7932 - val_loss: 0.4476 - val_accuracy: 0.8182\n",
            "Epoch 68/100\n",
            "20/20 [==============================] - 0s 3ms/step - loss: 0.4273 - accuracy: 0.7948 - val_loss: 0.4469 - val_accuracy: 0.8117\n",
            "Epoch 69/100\n",
            "20/20 [==============================] - 0s 4ms/step - loss: 0.4270 - accuracy: 0.7932 - val_loss: 0.4460 - val_accuracy: 0.8117\n",
            "Epoch 70/100\n",
            "20/20 [==============================] - 0s 3ms/step - loss: 0.4268 - accuracy: 0.7948 - val_loss: 0.4461 - val_accuracy: 0.8182\n",
            "Epoch 71/100\n",
            "20/20 [==============================] - 0s 4ms/step - loss: 0.4265 - accuracy: 0.7932 - val_loss: 0.4458 - val_accuracy: 0.8117\n",
            "Epoch 72/100\n",
            "20/20 [==============================] - 0s 7ms/step - loss: 0.4262 - accuracy: 0.8013 - val_loss: 0.4452 - val_accuracy: 0.8117\n",
            "Epoch 73/100\n",
            "20/20 [==============================] - 0s 6ms/step - loss: 0.4259 - accuracy: 0.7948 - val_loss: 0.4448 - val_accuracy: 0.8182\n",
            "Epoch 74/100\n",
            "20/20 [==============================] - 0s 7ms/step - loss: 0.4259 - accuracy: 0.7964 - val_loss: 0.4447 - val_accuracy: 0.8182\n",
            "Epoch 75/100\n",
            "20/20 [==============================] - 0s 6ms/step - loss: 0.4250 - accuracy: 0.7948 - val_loss: 0.4443 - val_accuracy: 0.8182\n",
            "Epoch 76/100\n",
            "20/20 [==============================] - 0s 7ms/step - loss: 0.4251 - accuracy: 0.7948 - val_loss: 0.4449 - val_accuracy: 0.8052\n",
            "Epoch 77/100\n",
            "20/20 [==============================] - 0s 6ms/step - loss: 0.4246 - accuracy: 0.7964 - val_loss: 0.4455 - val_accuracy: 0.8117\n",
            "Epoch 78/100\n",
            "20/20 [==============================] - 0s 5ms/step - loss: 0.4241 - accuracy: 0.7964 - val_loss: 0.4448 - val_accuracy: 0.8182\n",
            "Epoch 79/100\n",
            "20/20 [==============================] - 0s 6ms/step - loss: 0.4245 - accuracy: 0.7997 - val_loss: 0.4438 - val_accuracy: 0.8182\n",
            "Epoch 80/100\n",
            "20/20 [==============================] - 0s 6ms/step - loss: 0.4237 - accuracy: 0.7915 - val_loss: 0.4446 - val_accuracy: 0.8182\n",
            "Epoch 81/100\n",
            "20/20 [==============================] - 0s 6ms/step - loss: 0.4232 - accuracy: 0.8013 - val_loss: 0.4442 - val_accuracy: 0.8117\n",
            "Epoch 82/100\n",
            "20/20 [==============================] - 0s 9ms/step - loss: 0.4230 - accuracy: 0.7980 - val_loss: 0.4437 - val_accuracy: 0.8117\n",
            "Epoch 83/100\n",
            "20/20 [==============================] - 0s 7ms/step - loss: 0.4229 - accuracy: 0.7980 - val_loss: 0.4437 - val_accuracy: 0.8117\n",
            "Epoch 84/100\n",
            "20/20 [==============================] - 0s 7ms/step - loss: 0.4228 - accuracy: 0.8013 - val_loss: 0.4434 - val_accuracy: 0.8117\n",
            "Epoch 85/100\n",
            "20/20 [==============================] - 0s 6ms/step - loss: 0.4224 - accuracy: 0.7997 - val_loss: 0.4437 - val_accuracy: 0.8182\n",
            "Epoch 86/100\n",
            "20/20 [==============================] - 0s 6ms/step - loss: 0.4219 - accuracy: 0.8013 - val_loss: 0.4434 - val_accuracy: 0.8117\n",
            "Epoch 87/100\n",
            "20/20 [==============================] - 0s 5ms/step - loss: 0.4217 - accuracy: 0.8029 - val_loss: 0.4437 - val_accuracy: 0.8117\n",
            "Epoch 88/100\n",
            "20/20 [==============================] - 0s 5ms/step - loss: 0.4219 - accuracy: 0.8013 - val_loss: 0.4431 - val_accuracy: 0.8117\n",
            "Epoch 89/100\n",
            "20/20 [==============================] - 0s 7ms/step - loss: 0.4211 - accuracy: 0.8062 - val_loss: 0.4427 - val_accuracy: 0.8117\n",
            "Epoch 90/100\n",
            "20/20 [==============================] - 0s 5ms/step - loss: 0.4210 - accuracy: 0.8029 - val_loss: 0.4424 - val_accuracy: 0.8117\n",
            "Epoch 91/100\n",
            "20/20 [==============================] - 0s 7ms/step - loss: 0.4209 - accuracy: 0.8078 - val_loss: 0.4418 - val_accuracy: 0.8182\n",
            "Epoch 92/100\n",
            "20/20 [==============================] - 0s 5ms/step - loss: 0.4207 - accuracy: 0.8013 - val_loss: 0.4419 - val_accuracy: 0.8182\n",
            "Epoch 93/100\n",
            "20/20 [==============================] - 0s 6ms/step - loss: 0.4200 - accuracy: 0.8094 - val_loss: 0.4432 - val_accuracy: 0.8247\n",
            "Epoch 94/100\n",
            "20/20 [==============================] - 0s 6ms/step - loss: 0.4204 - accuracy: 0.8046 - val_loss: 0.4424 - val_accuracy: 0.8247\n",
            "Epoch 95/100\n",
            "20/20 [==============================] - 0s 6ms/step - loss: 0.4198 - accuracy: 0.8094 - val_loss: 0.4413 - val_accuracy: 0.8117\n",
            "Epoch 96/100\n",
            "20/20 [==============================] - 0s 4ms/step - loss: 0.4197 - accuracy: 0.8078 - val_loss: 0.4411 - val_accuracy: 0.8117\n",
            "Epoch 97/100\n",
            "20/20 [==============================] - 0s 5ms/step - loss: 0.4191 - accuracy: 0.8094 - val_loss: 0.4417 - val_accuracy: 0.8117\n",
            "Epoch 98/100\n",
            "20/20 [==============================] - 0s 5ms/step - loss: 0.4191 - accuracy: 0.8062 - val_loss: 0.4423 - val_accuracy: 0.8117\n",
            "Epoch 99/100\n",
            "20/20 [==============================] - 0s 5ms/step - loss: 0.4189 - accuracy: 0.8127 - val_loss: 0.4417 - val_accuracy: 0.8117\n",
            "Epoch 100/100\n",
            "20/20 [==============================] - 0s 6ms/step - loss: 0.4184 - accuracy: 0.8111 - val_loss: 0.4420 - val_accuracy: 0.8182\n"
          ]
        },
        {
          "output_type": "execute_result",
          "data": {
            "text/plain": [
              "<keras.src.callbacks.History at 0x7926bcf9d3c0>"
            ]
          },
          "metadata": {},
          "execution_count": 38
        }
      ]
    },
    {
      "cell_type": "markdown",
      "source": [
        "# No. of neurons in layers"
      ],
      "metadata": {
        "id": "o3UrwgatQVoF"
      }
    },
    {
      "cell_type": "code",
      "source": [
        "def build_model(hp):\n",
        "  model = Sequential()\n",
        "  units = hp.Int('units',min_value=8,max_value=128,step=8)\n",
        "  model.add(Dense(units=units,activation='relu',input_dim=8))\n",
        "  model.add(Dense(1,activation='sigmoid'))\n",
        "\n",
        "  model.compile(optimizer='sgd',loss='binary_crossentropy',metrics=['accuracy'])\n",
        "  return model"
      ],
      "metadata": {
        "id": "RKti26i6PgfN"
      },
      "execution_count": 39,
      "outputs": []
    },
    {
      "cell_type": "code",
      "source": [
        "tuner = kt.RandomSearch(build_model,\n",
        "                        objective='val_accuracy',\n",
        "                        max_trials=5,\n",
        "                        directory='mydir')"
      ],
      "metadata": {
        "id": "yfB4bplGRbBG"
      },
      "execution_count": 40,
      "outputs": []
    },
    {
      "cell_type": "code",
      "source": [
        "tuner.search(X_train,y_train,epochs=5,validation_data=(X_test,y_test))"
      ],
      "metadata": {
        "colab": {
          "base_uri": "https://localhost:8080/"
        },
        "id": "OKJTq56oR93c",
        "outputId": "d5f51a19-0823-4a61-a026-1159fb710868"
      },
      "execution_count": 41,
      "outputs": [
        {
          "output_type": "stream",
          "name": "stdout",
          "text": [
            "Trial 5 Complete [00h 00m 01s]\n",
            "val_accuracy: 0.6038960814476013\n",
            "\n",
            "Best val_accuracy So Far: 0.7532467246055603\n",
            "Total elapsed time: 00h 00m 14s\n"
          ]
        }
      ]
    },
    {
      "cell_type": "code",
      "source": [
        "tuner.get_best_hyperparameters()[0].values"
      ],
      "metadata": {
        "colab": {
          "base_uri": "https://localhost:8080/"
        },
        "id": "YykMA6NgSNvS",
        "outputId": "516383b8-46b7-4179-d572-519f19d8e43f"
      },
      "execution_count": 42,
      "outputs": [
        {
          "output_type": "execute_result",
          "data": {
            "text/plain": [
              "{'units': 24}"
            ]
          },
          "metadata": {},
          "execution_count": 42
        }
      ]
    },
    {
      "cell_type": "code",
      "source": [
        "model = tuner.get_best_models(num_models=1)[0]"
      ],
      "metadata": {
        "id": "CTpcxT8kTQ75"
      },
      "execution_count": 43,
      "outputs": []
    },
    {
      "cell_type": "code",
      "source": [
        "model.fit(X_train,y_train,batch_size=32,epochs=100,initial_epoch=6)"
      ],
      "metadata": {
        "colab": {
          "base_uri": "https://localhost:8080/"
        },
        "id": "1Yk-6tkOT2NT",
        "outputId": "e49d05da-9724-48af-c209-ac14ab2ccf0d"
      },
      "execution_count": 44,
      "outputs": [
        {
          "output_type": "stream",
          "name": "stdout",
          "text": [
            "Epoch 7/100\n",
            "20/20 [==============================] - 0s 2ms/step - loss: 0.6238 - accuracy: 0.6775\n",
            "Epoch 8/100\n",
            "20/20 [==============================] - 0s 2ms/step - loss: 0.6097 - accuracy: 0.6857\n",
            "Epoch 9/100\n",
            "20/20 [==============================] - 0s 2ms/step - loss: 0.5982 - accuracy: 0.6873\n",
            "Epoch 10/100\n",
            "20/20 [==============================] - 0s 2ms/step - loss: 0.5885 - accuracy: 0.6922\n",
            "Epoch 11/100\n",
            "20/20 [==============================] - 0s 2ms/step - loss: 0.5795 - accuracy: 0.7020\n",
            "Epoch 12/100\n",
            "20/20 [==============================] - 0s 2ms/step - loss: 0.5719 - accuracy: 0.7052\n",
            "Epoch 13/100\n",
            "20/20 [==============================] - 0s 2ms/step - loss: 0.5652 - accuracy: 0.7020\n",
            "Epoch 14/100\n",
            "20/20 [==============================] - 0s 2ms/step - loss: 0.5590 - accuracy: 0.7036\n",
            "Epoch 15/100\n",
            "20/20 [==============================] - 0s 2ms/step - loss: 0.5534 - accuracy: 0.7036\n",
            "Epoch 16/100\n",
            "20/20 [==============================] - 0s 2ms/step - loss: 0.5482 - accuracy: 0.7068\n",
            "Epoch 17/100\n",
            "20/20 [==============================] - 0s 2ms/step - loss: 0.5437 - accuracy: 0.7117\n",
            "Epoch 18/100\n",
            "20/20 [==============================] - 0s 2ms/step - loss: 0.5394 - accuracy: 0.7150\n",
            "Epoch 19/100\n",
            "20/20 [==============================] - 0s 2ms/step - loss: 0.5351 - accuracy: 0.7150\n",
            "Epoch 20/100\n",
            "20/20 [==============================] - 0s 2ms/step - loss: 0.5314 - accuracy: 0.7182\n",
            "Epoch 21/100\n",
            "20/20 [==============================] - 0s 2ms/step - loss: 0.5281 - accuracy: 0.7280\n",
            "Epoch 22/100\n",
            "20/20 [==============================] - 0s 2ms/step - loss: 0.5248 - accuracy: 0.7313\n",
            "Epoch 23/100\n",
            "20/20 [==============================] - 0s 2ms/step - loss: 0.5216 - accuracy: 0.7378\n",
            "Epoch 24/100\n",
            "20/20 [==============================] - 0s 2ms/step - loss: 0.5186 - accuracy: 0.7394\n",
            "Epoch 25/100\n",
            "20/20 [==============================] - 0s 2ms/step - loss: 0.5158 - accuracy: 0.7378\n",
            "Epoch 26/100\n",
            "20/20 [==============================] - 0s 2ms/step - loss: 0.5132 - accuracy: 0.7394\n",
            "Epoch 27/100\n",
            "20/20 [==============================] - 0s 2ms/step - loss: 0.5107 - accuracy: 0.7394\n",
            "Epoch 28/100\n",
            "20/20 [==============================] - 0s 3ms/step - loss: 0.5083 - accuracy: 0.7427\n",
            "Epoch 29/100\n",
            "20/20 [==============================] - 0s 3ms/step - loss: 0.5062 - accuracy: 0.7443\n",
            "Epoch 30/100\n",
            "20/20 [==============================] - 0s 2ms/step - loss: 0.5039 - accuracy: 0.7492\n",
            "Epoch 31/100\n",
            "20/20 [==============================] - 0s 2ms/step - loss: 0.5019 - accuracy: 0.7524\n",
            "Epoch 32/100\n",
            "20/20 [==============================] - 0s 2ms/step - loss: 0.4999 - accuracy: 0.7557\n",
            "Epoch 33/100\n",
            "20/20 [==============================] - 0s 2ms/step - loss: 0.4979 - accuracy: 0.7573\n",
            "Epoch 34/100\n",
            "20/20 [==============================] - 0s 2ms/step - loss: 0.4961 - accuracy: 0.7573\n",
            "Epoch 35/100\n",
            "20/20 [==============================] - 0s 3ms/step - loss: 0.4944 - accuracy: 0.7590\n",
            "Epoch 36/100\n",
            "20/20 [==============================] - 0s 2ms/step - loss: 0.4926 - accuracy: 0.7590\n",
            "Epoch 37/100\n",
            "20/20 [==============================] - 0s 2ms/step - loss: 0.4910 - accuracy: 0.7655\n",
            "Epoch 38/100\n",
            "20/20 [==============================] - 0s 2ms/step - loss: 0.4897 - accuracy: 0.7655\n",
            "Epoch 39/100\n",
            "20/20 [==============================] - 0s 2ms/step - loss: 0.4880 - accuracy: 0.7671\n",
            "Epoch 40/100\n",
            "20/20 [==============================] - 0s 2ms/step - loss: 0.4867 - accuracy: 0.7736\n",
            "Epoch 41/100\n",
            "20/20 [==============================] - 0s 2ms/step - loss: 0.4855 - accuracy: 0.7687\n",
            "Epoch 42/100\n",
            "20/20 [==============================] - 0s 2ms/step - loss: 0.4844 - accuracy: 0.7687\n",
            "Epoch 43/100\n",
            "20/20 [==============================] - 0s 2ms/step - loss: 0.4832 - accuracy: 0.7720\n",
            "Epoch 44/100\n",
            "20/20 [==============================] - 0s 2ms/step - loss: 0.4823 - accuracy: 0.7736\n",
            "Epoch 45/100\n",
            "20/20 [==============================] - 0s 2ms/step - loss: 0.4812 - accuracy: 0.7720\n",
            "Epoch 46/100\n",
            "20/20 [==============================] - 0s 2ms/step - loss: 0.4802 - accuracy: 0.7704\n",
            "Epoch 47/100\n",
            "20/20 [==============================] - 0s 2ms/step - loss: 0.4793 - accuracy: 0.7671\n",
            "Epoch 48/100\n",
            "20/20 [==============================] - 0s 2ms/step - loss: 0.4785 - accuracy: 0.7736\n",
            "Epoch 49/100\n",
            "20/20 [==============================] - 0s 2ms/step - loss: 0.4773 - accuracy: 0.7736\n",
            "Epoch 50/100\n",
            "20/20 [==============================] - 0s 3ms/step - loss: 0.4765 - accuracy: 0.7720\n",
            "Epoch 51/100\n",
            "20/20 [==============================] - 0s 2ms/step - loss: 0.4758 - accuracy: 0.7704\n",
            "Epoch 52/100\n",
            "20/20 [==============================] - 0s 2ms/step - loss: 0.4751 - accuracy: 0.7720\n",
            "Epoch 53/100\n",
            "20/20 [==============================] - 0s 3ms/step - loss: 0.4744 - accuracy: 0.7720\n",
            "Epoch 54/100\n",
            "20/20 [==============================] - 0s 4ms/step - loss: 0.4736 - accuracy: 0.7720\n",
            "Epoch 55/100\n",
            "20/20 [==============================] - 0s 3ms/step - loss: 0.4730 - accuracy: 0.7720\n",
            "Epoch 56/100\n",
            "20/20 [==============================] - 0s 2ms/step - loss: 0.4723 - accuracy: 0.7736\n",
            "Epoch 57/100\n",
            "20/20 [==============================] - 0s 2ms/step - loss: 0.4717 - accuracy: 0.7752\n",
            "Epoch 58/100\n",
            "20/20 [==============================] - 0s 2ms/step - loss: 0.4712 - accuracy: 0.7752\n",
            "Epoch 59/100\n",
            "20/20 [==============================] - 0s 2ms/step - loss: 0.4704 - accuracy: 0.7752\n",
            "Epoch 60/100\n",
            "20/20 [==============================] - 0s 2ms/step - loss: 0.4699 - accuracy: 0.7736\n",
            "Epoch 61/100\n",
            "20/20 [==============================] - 0s 3ms/step - loss: 0.4692 - accuracy: 0.7752\n",
            "Epoch 62/100\n",
            "20/20 [==============================] - 0s 3ms/step - loss: 0.4686 - accuracy: 0.7752\n",
            "Epoch 63/100\n",
            "20/20 [==============================] - 0s 3ms/step - loss: 0.4681 - accuracy: 0.7752\n",
            "Epoch 64/100\n",
            "20/20 [==============================] - 0s 2ms/step - loss: 0.4676 - accuracy: 0.7752\n",
            "Epoch 65/100\n",
            "20/20 [==============================] - 0s 3ms/step - loss: 0.4671 - accuracy: 0.7752\n",
            "Epoch 66/100\n",
            "20/20 [==============================] - 0s 3ms/step - loss: 0.4665 - accuracy: 0.7736\n",
            "Epoch 67/100\n",
            "20/20 [==============================] - 0s 2ms/step - loss: 0.4661 - accuracy: 0.7736\n",
            "Epoch 68/100\n",
            "20/20 [==============================] - 0s 2ms/step - loss: 0.4655 - accuracy: 0.7736\n",
            "Epoch 69/100\n",
            "20/20 [==============================] - 0s 2ms/step - loss: 0.4650 - accuracy: 0.7736\n",
            "Epoch 70/100\n",
            "20/20 [==============================] - 0s 2ms/step - loss: 0.4645 - accuracy: 0.7720\n",
            "Epoch 71/100\n",
            "20/20 [==============================] - 0s 2ms/step - loss: 0.4639 - accuracy: 0.7704\n",
            "Epoch 72/100\n",
            "20/20 [==============================] - 0s 2ms/step - loss: 0.4634 - accuracy: 0.7720\n",
            "Epoch 73/100\n",
            "20/20 [==============================] - 0s 2ms/step - loss: 0.4632 - accuracy: 0.7720\n",
            "Epoch 74/100\n",
            "20/20 [==============================] - 0s 2ms/step - loss: 0.4626 - accuracy: 0.7704\n",
            "Epoch 75/100\n",
            "20/20 [==============================] - 0s 2ms/step - loss: 0.4624 - accuracy: 0.7704\n",
            "Epoch 76/100\n",
            "20/20 [==============================] - 0s 2ms/step - loss: 0.4619 - accuracy: 0.7704\n",
            "Epoch 77/100\n",
            "20/20 [==============================] - 0s 2ms/step - loss: 0.4616 - accuracy: 0.7704\n",
            "Epoch 78/100\n",
            "20/20 [==============================] - 0s 2ms/step - loss: 0.4613 - accuracy: 0.7736\n",
            "Epoch 79/100\n",
            "20/20 [==============================] - 0s 2ms/step - loss: 0.4608 - accuracy: 0.7720\n",
            "Epoch 80/100\n",
            "20/20 [==============================] - 0s 2ms/step - loss: 0.4605 - accuracy: 0.7704\n",
            "Epoch 81/100\n",
            "20/20 [==============================] - 0s 2ms/step - loss: 0.4602 - accuracy: 0.7736\n",
            "Epoch 82/100\n",
            "20/20 [==============================] - 0s 2ms/step - loss: 0.4598 - accuracy: 0.7752\n",
            "Epoch 83/100\n",
            "20/20 [==============================] - 0s 2ms/step - loss: 0.4593 - accuracy: 0.7752\n",
            "Epoch 84/100\n",
            "20/20 [==============================] - 0s 2ms/step - loss: 0.4591 - accuracy: 0.7736\n",
            "Epoch 85/100\n",
            "20/20 [==============================] - 0s 2ms/step - loss: 0.4589 - accuracy: 0.7736\n",
            "Epoch 86/100\n",
            "20/20 [==============================] - 0s 2ms/step - loss: 0.4586 - accuracy: 0.7736\n",
            "Epoch 87/100\n",
            "20/20 [==============================] - 0s 2ms/step - loss: 0.4582 - accuracy: 0.7752\n",
            "Epoch 88/100\n",
            "20/20 [==============================] - 0s 2ms/step - loss: 0.4579 - accuracy: 0.7752\n",
            "Epoch 89/100\n",
            "20/20 [==============================] - 0s 2ms/step - loss: 0.4576 - accuracy: 0.7736\n",
            "Epoch 90/100\n",
            "20/20 [==============================] - 0s 2ms/step - loss: 0.4572 - accuracy: 0.7752\n",
            "Epoch 91/100\n",
            "20/20 [==============================] - 0s 2ms/step - loss: 0.4570 - accuracy: 0.7769\n",
            "Epoch 92/100\n",
            "20/20 [==============================] - 0s 2ms/step - loss: 0.4568 - accuracy: 0.7752\n",
            "Epoch 93/100\n",
            "20/20 [==============================] - 0s 2ms/step - loss: 0.4565 - accuracy: 0.7752\n",
            "Epoch 94/100\n",
            "20/20 [==============================] - 0s 2ms/step - loss: 0.4562 - accuracy: 0.7769\n",
            "Epoch 95/100\n",
            "20/20 [==============================] - 0s 2ms/step - loss: 0.4560 - accuracy: 0.7752\n",
            "Epoch 96/100\n",
            "20/20 [==============================] - 0s 2ms/step - loss: 0.4557 - accuracy: 0.7752\n",
            "Epoch 97/100\n",
            "20/20 [==============================] - 0s 2ms/step - loss: 0.4555 - accuracy: 0.7736\n",
            "Epoch 98/100\n",
            "20/20 [==============================] - 0s 2ms/step - loss: 0.4553 - accuracy: 0.7769\n",
            "Epoch 99/100\n",
            "20/20 [==============================] - 0s 2ms/step - loss: 0.4550 - accuracy: 0.7752\n",
            "Epoch 100/100\n",
            "20/20 [==============================] - 0s 2ms/step - loss: 0.4548 - accuracy: 0.7785\n"
          ]
        },
        {
          "output_type": "execute_result",
          "data": {
            "text/plain": [
              "<keras.src.callbacks.History at 0x7926bde48340>"
            ]
          },
          "metadata": {},
          "execution_count": 44
        }
      ]
    },
    {
      "cell_type": "markdown",
      "source": [
        "# No to choose no. of layers"
      ],
      "metadata": {
        "id": "r1RGab52U5ra"
      }
    },
    {
      "cell_type": "code",
      "source": [
        "def build_model(hp):\n",
        "  model = Sequential()\n",
        "  model.add(Dense(72,activation='relu',input_dim=8))\n",
        "  for i in range(hp.Int('num_layers',min_value=1,max_value=10)):\n",
        "    model.add(Dense(72,activation='relu'))\n",
        "  model.add(Dense(1,activation='sigmoid'))\n",
        "  model.compile(optimizer='rmsprop',loss='binary_crossentropy',metrics=['accuracy'])\n",
        "\n",
        "  return model"
      ],
      "metadata": {
        "id": "O_nW1drBUMrP"
      },
      "execution_count": 45,
      "outputs": []
    },
    {
      "cell_type": "code",
      "source": [
        "tuner = kt.RandomSearch(build_model,\n",
        "                        objective='val_accuracy',\n",
        "                        max_trials=3,\n",
        "                        directory='mydir',\n",
        "                        project_name='num_layers')"
      ],
      "metadata": {
        "id": "65IQVir2YHrr"
      },
      "execution_count": 46,
      "outputs": []
    },
    {
      "cell_type": "code",
      "source": [
        "tuner.search(X_train,y_train,epochs=5,validation_data=(X_test,y_test))"
      ],
      "metadata": {
        "colab": {
          "base_uri": "https://localhost:8080/"
        },
        "id": "RL5lzODMYZ6j",
        "outputId": "8251b7f2-9ded-410d-c0b3-fb9482827652"
      },
      "execution_count": 47,
      "outputs": [
        {
          "output_type": "stream",
          "name": "stdout",
          "text": [
            "Trial 3 Complete [00h 00m 02s]\n",
            "val_accuracy: 0.8116883039474487\n",
            "\n",
            "Best val_accuracy So Far: 0.8116883039474487\n",
            "Total elapsed time: 00h 00m 08s\n"
          ]
        }
      ]
    },
    {
      "cell_type": "code",
      "source": [
        "tuner.get_best_hyperparameters()[0].values"
      ],
      "metadata": {
        "colab": {
          "base_uri": "https://localhost:8080/"
        },
        "id": "nPnnsbZhYs14",
        "outputId": "154bc2f9-68fe-4cf9-acbd-99d05ad332d4"
      },
      "execution_count": 48,
      "outputs": [
        {
          "output_type": "execute_result",
          "data": {
            "text/plain": [
              "{'num_layers': 7}"
            ]
          },
          "metadata": {},
          "execution_count": 48
        }
      ]
    },
    {
      "cell_type": "code",
      "source": [
        "model = tuner.get_best_models(num_models=1)[0]"
      ],
      "metadata": {
        "id": "Z54Ahv0ZY1h-"
      },
      "execution_count": 49,
      "outputs": []
    },
    {
      "cell_type": "code",
      "source": [
        "model.fit(X_train,y_train,epochs=100,initial_epoch=6,validation_data=(X_test,y_test))"
      ],
      "metadata": {
        "colab": {
          "base_uri": "https://localhost:8080/"
        },
        "id": "EdOhTA5ZZIuD",
        "outputId": "dc271070-a6f8-4116-d350-43d0a08ba832"
      },
      "execution_count": 50,
      "outputs": [
        {
          "output_type": "stream",
          "name": "stdout",
          "text": [
            "Epoch 7/100\n",
            "20/20 [==============================] - 1s 14ms/step - loss: 0.4683 - accuracy: 0.7655 - val_loss: 0.5014 - val_accuracy: 0.7922\n",
            "Epoch 8/100\n",
            "20/20 [==============================] - 0s 4ms/step - loss: 0.4571 - accuracy: 0.7883 - val_loss: 0.4714 - val_accuracy: 0.8117\n",
            "Epoch 9/100\n",
            "20/20 [==============================] - 0s 5ms/step - loss: 0.4513 - accuracy: 0.7883 - val_loss: 0.4715 - val_accuracy: 0.7987\n",
            "Epoch 10/100\n",
            "20/20 [==============================] - 0s 4ms/step - loss: 0.4419 - accuracy: 0.7964 - val_loss: 0.4690 - val_accuracy: 0.7922\n",
            "Epoch 11/100\n",
            "20/20 [==============================] - 0s 4ms/step - loss: 0.4326 - accuracy: 0.8029 - val_loss: 0.4729 - val_accuracy: 0.8052\n",
            "Epoch 12/100\n",
            "20/20 [==============================] - 0s 4ms/step - loss: 0.4156 - accuracy: 0.7997 - val_loss: 0.4887 - val_accuracy: 0.7727\n",
            "Epoch 13/100\n",
            "20/20 [==============================] - 0s 4ms/step - loss: 0.4111 - accuracy: 0.8192 - val_loss: 0.4672 - val_accuracy: 0.7922\n",
            "Epoch 14/100\n",
            "20/20 [==============================] - 0s 4ms/step - loss: 0.3950 - accuracy: 0.8225 - val_loss: 0.4786 - val_accuracy: 0.7792\n",
            "Epoch 15/100\n",
            "20/20 [==============================] - 0s 4ms/step - loss: 0.3976 - accuracy: 0.8339 - val_loss: 0.4813 - val_accuracy: 0.7792\n",
            "Epoch 16/100\n",
            "20/20 [==============================] - 0s 4ms/step - loss: 0.3739 - accuracy: 0.8420 - val_loss: 0.5430 - val_accuracy: 0.7468\n",
            "Epoch 17/100\n",
            "20/20 [==============================] - 0s 4ms/step - loss: 0.3735 - accuracy: 0.8388 - val_loss: 0.5159 - val_accuracy: 0.7468\n",
            "Epoch 18/100\n",
            "20/20 [==============================] - 0s 6ms/step - loss: 0.3558 - accuracy: 0.8550 - val_loss: 0.5334 - val_accuracy: 0.7857\n",
            "Epoch 19/100\n",
            "20/20 [==============================] - 0s 6ms/step - loss: 0.3508 - accuracy: 0.8632 - val_loss: 0.5743 - val_accuracy: 0.7662\n",
            "Epoch 20/100\n",
            "20/20 [==============================] - 0s 6ms/step - loss: 0.3363 - accuracy: 0.8550 - val_loss: 0.7888 - val_accuracy: 0.6948\n",
            "Epoch 21/100\n",
            "20/20 [==============================] - 0s 7ms/step - loss: 0.3425 - accuracy: 0.8599 - val_loss: 0.5586 - val_accuracy: 0.7662\n",
            "Epoch 22/100\n",
            "20/20 [==============================] - 0s 6ms/step - loss: 0.3200 - accuracy: 0.8795 - val_loss: 0.6752 - val_accuracy: 0.7727\n",
            "Epoch 23/100\n",
            "20/20 [==============================] - 0s 5ms/step - loss: 0.3326 - accuracy: 0.8583 - val_loss: 0.7391 - val_accuracy: 0.6948\n",
            "Epoch 24/100\n",
            "20/20 [==============================] - 0s 6ms/step - loss: 0.2944 - accuracy: 0.8909 - val_loss: 0.6793 - val_accuracy: 0.7143\n",
            "Epoch 25/100\n",
            "20/20 [==============================] - 0s 6ms/step - loss: 0.2981 - accuracy: 0.8746 - val_loss: 0.5828 - val_accuracy: 0.7597\n",
            "Epoch 26/100\n",
            "20/20 [==============================] - 0s 5ms/step - loss: 0.2637 - accuracy: 0.9072 - val_loss: 0.8056 - val_accuracy: 0.7208\n",
            "Epoch 27/100\n",
            "20/20 [==============================] - 0s 6ms/step - loss: 0.2668 - accuracy: 0.8974 - val_loss: 0.6949 - val_accuracy: 0.7727\n",
            "Epoch 28/100\n",
            "20/20 [==============================] - 0s 6ms/step - loss: 0.2618 - accuracy: 0.8958 - val_loss: 0.8012 - val_accuracy: 0.7468\n",
            "Epoch 29/100\n",
            "20/20 [==============================] - 0s 6ms/step - loss: 0.2168 - accuracy: 0.9235 - val_loss: 1.0172 - val_accuracy: 0.7143\n",
            "Epoch 30/100\n",
            "20/20 [==============================] - 0s 6ms/step - loss: 0.2581 - accuracy: 0.9039 - val_loss: 0.7895 - val_accuracy: 0.7273\n",
            "Epoch 31/100\n",
            "20/20 [==============================] - 0s 6ms/step - loss: 0.2465 - accuracy: 0.9104 - val_loss: 0.7436 - val_accuracy: 0.7662\n",
            "Epoch 32/100\n",
            "20/20 [==============================] - 0s 6ms/step - loss: 0.2116 - accuracy: 0.9267 - val_loss: 0.8119 - val_accuracy: 0.7403\n",
            "Epoch 33/100\n",
            "20/20 [==============================] - 0s 6ms/step - loss: 0.2154 - accuracy: 0.9332 - val_loss: 0.8871 - val_accuracy: 0.7273\n",
            "Epoch 34/100\n",
            "20/20 [==============================] - 0s 6ms/step - loss: 0.2116 - accuracy: 0.9202 - val_loss: 0.8974 - val_accuracy: 0.7273\n",
            "Epoch 35/100\n",
            "20/20 [==============================] - 0s 6ms/step - loss: 0.1862 - accuracy: 0.9397 - val_loss: 0.9812 - val_accuracy: 0.7532\n",
            "Epoch 36/100\n",
            "20/20 [==============================] - 0s 6ms/step - loss: 0.2200 - accuracy: 0.9169 - val_loss: 0.7742 - val_accuracy: 0.7143\n",
            "Epoch 37/100\n",
            "20/20 [==============================] - 0s 4ms/step - loss: 0.1882 - accuracy: 0.9316 - val_loss: 0.9763 - val_accuracy: 0.6948\n",
            "Epoch 38/100\n",
            "20/20 [==============================] - 0s 4ms/step - loss: 0.1732 - accuracy: 0.9332 - val_loss: 0.8798 - val_accuracy: 0.7078\n",
            "Epoch 39/100\n",
            "20/20 [==============================] - 0s 5ms/step - loss: 0.1565 - accuracy: 0.9511 - val_loss: 1.1312 - val_accuracy: 0.7143\n",
            "Epoch 40/100\n",
            "20/20 [==============================] - 0s 4ms/step - loss: 0.1572 - accuracy: 0.9397 - val_loss: 1.0624 - val_accuracy: 0.7403\n",
            "Epoch 41/100\n",
            "20/20 [==============================] - 0s 4ms/step - loss: 0.1452 - accuracy: 0.9479 - val_loss: 1.2131 - val_accuracy: 0.7208\n",
            "Epoch 42/100\n",
            "20/20 [==============================] - 0s 4ms/step - loss: 0.1217 - accuracy: 0.9593 - val_loss: 1.2388 - val_accuracy: 0.7078\n",
            "Epoch 43/100\n",
            "20/20 [==============================] - 0s 4ms/step - loss: 0.1651 - accuracy: 0.9349 - val_loss: 1.0562 - val_accuracy: 0.7208\n",
            "Epoch 44/100\n",
            "20/20 [==============================] - 0s 4ms/step - loss: 0.1040 - accuracy: 0.9658 - val_loss: 1.2233 - val_accuracy: 0.7468\n",
            "Epoch 45/100\n",
            "20/20 [==============================] - 0s 4ms/step - loss: 0.1449 - accuracy: 0.9430 - val_loss: 1.1819 - val_accuracy: 0.7468\n",
            "Epoch 46/100\n",
            "20/20 [==============================] - 0s 3ms/step - loss: 0.1208 - accuracy: 0.9577 - val_loss: 1.2421 - val_accuracy: 0.7338\n",
            "Epoch 47/100\n",
            "20/20 [==============================] - 0s 4ms/step - loss: 0.1037 - accuracy: 0.9642 - val_loss: 1.2440 - val_accuracy: 0.7208\n",
            "Epoch 48/100\n",
            "20/20 [==============================] - 0s 4ms/step - loss: 0.1362 - accuracy: 0.9495 - val_loss: 1.2034 - val_accuracy: 0.7273\n",
            "Epoch 49/100\n",
            "20/20 [==============================] - 0s 4ms/step - loss: 0.0947 - accuracy: 0.9658 - val_loss: 1.4530 - val_accuracy: 0.7078\n",
            "Epoch 50/100\n",
            "20/20 [==============================] - 0s 4ms/step - loss: 0.1234 - accuracy: 0.9544 - val_loss: 1.3181 - val_accuracy: 0.7273\n",
            "Epoch 51/100\n",
            "20/20 [==============================] - 0s 5ms/step - loss: 0.0860 - accuracy: 0.9723 - val_loss: 1.2731 - val_accuracy: 0.7403\n",
            "Epoch 52/100\n",
            "20/20 [==============================] - 0s 4ms/step - loss: 0.0897 - accuracy: 0.9756 - val_loss: 1.5512 - val_accuracy: 0.7013\n",
            "Epoch 53/100\n",
            "20/20 [==============================] - 0s 4ms/step - loss: 0.1286 - accuracy: 0.9511 - val_loss: 1.3785 - val_accuracy: 0.7208\n",
            "Epoch 54/100\n",
            "20/20 [==============================] - 0s 4ms/step - loss: 0.0566 - accuracy: 0.9837 - val_loss: 1.6472 - val_accuracy: 0.7143\n",
            "Epoch 55/100\n",
            "20/20 [==============================] - 0s 4ms/step - loss: 0.0999 - accuracy: 0.9658 - val_loss: 1.6135 - val_accuracy: 0.7078\n",
            "Epoch 56/100\n",
            "20/20 [==============================] - 0s 4ms/step - loss: 0.0810 - accuracy: 0.9691 - val_loss: 1.4546 - val_accuracy: 0.7403\n",
            "Epoch 57/100\n",
            "20/20 [==============================] - 0s 4ms/step - loss: 0.0528 - accuracy: 0.9805 - val_loss: 1.7609 - val_accuracy: 0.7532\n",
            "Epoch 58/100\n",
            "20/20 [==============================] - 0s 5ms/step - loss: 0.1240 - accuracy: 0.9528 - val_loss: 1.3847 - val_accuracy: 0.7403\n",
            "Epoch 59/100\n",
            "20/20 [==============================] - 0s 4ms/step - loss: 0.0475 - accuracy: 0.9772 - val_loss: 1.7889 - val_accuracy: 0.7403\n",
            "Epoch 60/100\n",
            "20/20 [==============================] - 0s 4ms/step - loss: 0.0898 - accuracy: 0.9756 - val_loss: 1.3230 - val_accuracy: 0.7338\n",
            "Epoch 61/100\n",
            "20/20 [==============================] - 0s 4ms/step - loss: 0.0496 - accuracy: 0.9837 - val_loss: 1.6465 - val_accuracy: 0.6948\n",
            "Epoch 62/100\n",
            "20/20 [==============================] - 0s 4ms/step - loss: 0.0486 - accuracy: 0.9853 - val_loss: 1.9726 - val_accuracy: 0.7208\n",
            "Epoch 63/100\n",
            "20/20 [==============================] - 0s 4ms/step - loss: 0.1399 - accuracy: 0.9381 - val_loss: 1.4824 - val_accuracy: 0.7273\n",
            "Epoch 64/100\n",
            "20/20 [==============================] - 0s 4ms/step - loss: 0.0267 - accuracy: 0.9951 - val_loss: 1.7247 - val_accuracy: 0.7338\n",
            "Epoch 65/100\n",
            "20/20 [==============================] - 0s 4ms/step - loss: 0.0374 - accuracy: 0.9870 - val_loss: 1.9184 - val_accuracy: 0.6948\n",
            "Epoch 66/100\n",
            "20/20 [==============================] - 0s 4ms/step - loss: 0.0916 - accuracy: 0.9544 - val_loss: 1.6478 - val_accuracy: 0.6558\n",
            "Epoch 67/100\n",
            "20/20 [==============================] - 0s 4ms/step - loss: 0.0462 - accuracy: 0.9886 - val_loss: 1.9179 - val_accuracy: 0.7338\n",
            "Epoch 68/100\n",
            "20/20 [==============================] - 0s 4ms/step - loss: 0.1103 - accuracy: 0.9609 - val_loss: 1.5617 - val_accuracy: 0.7403\n",
            "Epoch 69/100\n",
            "20/20 [==============================] - 0s 4ms/step - loss: 0.0255 - accuracy: 0.9919 - val_loss: 2.1282 - val_accuracy: 0.7013\n",
            "Epoch 70/100\n",
            "20/20 [==============================] - 0s 4ms/step - loss: 0.0429 - accuracy: 0.9837 - val_loss: 1.7622 - val_accuracy: 0.7403\n",
            "Epoch 71/100\n",
            "20/20 [==============================] - 0s 4ms/step - loss: 0.0315 - accuracy: 0.9902 - val_loss: 1.8997 - val_accuracy: 0.7273\n",
            "Epoch 72/100\n",
            "20/20 [==============================] - 0s 4ms/step - loss: 0.0619 - accuracy: 0.9772 - val_loss: 1.8145 - val_accuracy: 0.7597\n",
            "Epoch 73/100\n",
            "20/20 [==============================] - 0s 4ms/step - loss: 0.0329 - accuracy: 0.9853 - val_loss: 1.8577 - val_accuracy: 0.7273\n",
            "Epoch 74/100\n",
            "20/20 [==============================] - 0s 4ms/step - loss: 0.0785 - accuracy: 0.9772 - val_loss: 1.9444 - val_accuracy: 0.6818\n",
            "Epoch 75/100\n",
            "20/20 [==============================] - 0s 4ms/step - loss: 0.0594 - accuracy: 0.9837 - val_loss: 2.0105 - val_accuracy: 0.7468\n",
            "Epoch 76/100\n",
            "20/20 [==============================] - 0s 4ms/step - loss: 0.0454 - accuracy: 0.9853 - val_loss: 1.8682 - val_accuracy: 0.7208\n",
            "Epoch 77/100\n",
            "20/20 [==============================] - 0s 4ms/step - loss: 0.0193 - accuracy: 0.9919 - val_loss: 2.1310 - val_accuracy: 0.6818\n",
            "Epoch 78/100\n",
            "20/20 [==============================] - 0s 4ms/step - loss: 0.0176 - accuracy: 0.9967 - val_loss: 2.3475 - val_accuracy: 0.7143\n",
            "Epoch 79/100\n",
            "20/20 [==============================] - 0s 4ms/step - loss: 0.0599 - accuracy: 0.9805 - val_loss: 2.1056 - val_accuracy: 0.6948\n",
            "Epoch 80/100\n",
            "20/20 [==============================] - 0s 3ms/step - loss: 0.0955 - accuracy: 0.9772 - val_loss: 1.8224 - val_accuracy: 0.7662\n",
            "Epoch 81/100\n",
            "20/20 [==============================] - 0s 3ms/step - loss: 0.0152 - accuracy: 0.9935 - val_loss: 2.0324 - val_accuracy: 0.7273\n",
            "Epoch 82/100\n",
            "20/20 [==============================] - 0s 4ms/step - loss: 0.0521 - accuracy: 0.9805 - val_loss: 1.9309 - val_accuracy: 0.7468\n",
            "Epoch 83/100\n",
            "20/20 [==============================] - 0s 4ms/step - loss: 0.0215 - accuracy: 0.9935 - val_loss: 2.2551 - val_accuracy: 0.7338\n",
            "Epoch 84/100\n",
            "20/20 [==============================] - 0s 4ms/step - loss: 0.0579 - accuracy: 0.9837 - val_loss: 2.0305 - val_accuracy: 0.7597\n",
            "Epoch 85/100\n",
            "20/20 [==============================] - 0s 4ms/step - loss: 0.0207 - accuracy: 0.9935 - val_loss: 1.9629 - val_accuracy: 0.7468\n",
            "Epoch 86/100\n",
            "20/20 [==============================] - 0s 4ms/step - loss: 0.0553 - accuracy: 0.9919 - val_loss: 2.1766 - val_accuracy: 0.7013\n",
            "Epoch 87/100\n",
            "20/20 [==============================] - 0s 5ms/step - loss: 0.0346 - accuracy: 0.9902 - val_loss: 2.1864 - val_accuracy: 0.6753\n",
            "Epoch 88/100\n",
            "20/20 [==============================] - 0s 4ms/step - loss: 0.0289 - accuracy: 0.9902 - val_loss: 2.2117 - val_accuracy: 0.7273\n",
            "Epoch 89/100\n",
            "20/20 [==============================] - 0s 4ms/step - loss: 0.0128 - accuracy: 0.9967 - val_loss: 2.2439 - val_accuracy: 0.7468\n",
            "Epoch 90/100\n",
            "20/20 [==============================] - 0s 4ms/step - loss: 0.0233 - accuracy: 0.9967 - val_loss: 2.2945 - val_accuracy: 0.7532\n",
            "Epoch 91/100\n",
            "20/20 [==============================] - 0s 4ms/step - loss: 0.0051 - accuracy: 0.9984 - val_loss: 2.4617 - val_accuracy: 0.7143\n",
            "Epoch 92/100\n",
            "20/20 [==============================] - 0s 3ms/step - loss: 0.0644 - accuracy: 0.9870 - val_loss: 2.2798 - val_accuracy: 0.6623\n",
            "Epoch 93/100\n",
            "20/20 [==============================] - 0s 5ms/step - loss: 0.0569 - accuracy: 0.9837 - val_loss: 1.9984 - val_accuracy: 0.7403\n",
            "Epoch 94/100\n",
            "20/20 [==============================] - 0s 4ms/step - loss: 0.0311 - accuracy: 0.9886 - val_loss: 2.1208 - val_accuracy: 0.6688\n",
            "Epoch 95/100\n",
            "20/20 [==============================] - 0s 4ms/step - loss: 0.0246 - accuracy: 0.9919 - val_loss: 2.3637 - val_accuracy: 0.7532\n",
            "Epoch 96/100\n",
            "20/20 [==============================] - 0s 4ms/step - loss: 0.0099 - accuracy: 0.9984 - val_loss: 2.3711 - val_accuracy: 0.7273\n",
            "Epoch 97/100\n",
            "20/20 [==============================] - 0s 4ms/step - loss: 8.2250e-04 - accuracy: 1.0000 - val_loss: 2.5956 - val_accuracy: 0.7208\n",
            "Epoch 98/100\n",
            "20/20 [==============================] - 0s 4ms/step - loss: 0.0984 - accuracy: 0.9788 - val_loss: 3.0341 - val_accuracy: 0.6818\n",
            "Epoch 99/100\n",
            "20/20 [==============================] - 0s 4ms/step - loss: 0.0058 - accuracy: 0.9984 - val_loss: 2.8290 - val_accuracy: 0.7338\n",
            "Epoch 100/100\n",
            "20/20 [==============================] - 0s 4ms/step - loss: 0.0470 - accuracy: 0.9886 - val_loss: 2.4539 - val_accuracy: 0.6948\n"
          ]
        },
        {
          "output_type": "execute_result",
          "data": {
            "text/plain": [
              "<keras.src.callbacks.History at 0x7926bdaea8f0>"
            ]
          },
          "metadata": {},
          "execution_count": 50
        }
      ]
    }
  ]
}