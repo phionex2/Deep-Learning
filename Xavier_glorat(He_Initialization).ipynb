{
  "nbformat": 4,
  "nbformat_minor": 0,
  "metadata": {
    "colab": {
      "provenance": [],
      "include_colab_link": true
    },
    "kernelspec": {
      "name": "python3",
      "display_name": "Python 3"
    },
    "language_info": {
      "name": "python"
    }
  },
  "cells": [
    {
      "cell_type": "markdown",
      "metadata": {
        "id": "view-in-github",
        "colab_type": "text"
      },
      "source": [
        "<a href=\"https://colab.research.google.com/github/phionex2/Deep-Learning/blob/main/Xavier_glorat(He_Initialization).ipynb\" target=\"_parent\"><img src=\"https://colab.research.google.com/assets/colab-badge.svg\" alt=\"Open In Colab\"/></a>"
      ]
    },
    {
      "cell_type": "code",
      "execution_count": null,
      "metadata": {
        "id": "cKVzInXrteyO"
      },
      "outputs": [],
      "source": [
        "import numpy as np\n",
        "import pandas as pd\n",
        "import matplotlib.pyplot as plt"
      ]
    },
    {
      "cell_type": "code",
      "source": [
        "df = pd.read_csv('/content/ushape.csv')"
      ],
      "metadata": {
        "id": "l-CtLegnti3_"
      },
      "execution_count": null,
      "outputs": []
    },
    {
      "cell_type": "code",
      "source": [
        "df.head()"
      ],
      "metadata": {
        "colab": {
          "base_uri": "https://localhost:8080/",
          "height": 206
        },
        "id": "T9P8j9Ubtt9t",
        "outputId": "5e2b98b4-108b-4466-b18a-1dd114692c32"
      },
      "execution_count": null,
      "outputs": [
        {
          "output_type": "execute_result",
          "data": {
            "text/plain": [
              "        X       Y  class\n",
              "0  0.0316  0.9870    0.0\n",
              "1  2.1200 -0.0462    1.0\n",
              "2  0.8820 -0.0758    0.0\n",
              "3 -0.0551 -0.0373    1.0\n",
              "4  0.8300 -0.5390    1.0"
            ],
            "text/html": [
              "\n",
              "  <div id=\"df-a1d11e26-bba6-4687-87b8-b1379e18397b\">\n",
              "    <div class=\"colab-df-container\">\n",
              "      <div>\n",
              "<style scoped>\n",
              "    .dataframe tbody tr th:only-of-type {\n",
              "        vertical-align: middle;\n",
              "    }\n",
              "\n",
              "    .dataframe tbody tr th {\n",
              "        vertical-align: top;\n",
              "    }\n",
              "\n",
              "    .dataframe thead th {\n",
              "        text-align: right;\n",
              "    }\n",
              "</style>\n",
              "<table border=\"1\" class=\"dataframe\">\n",
              "  <thead>\n",
              "    <tr style=\"text-align: right;\">\n",
              "      <th></th>\n",
              "      <th>X</th>\n",
              "      <th>Y</th>\n",
              "      <th>class</th>\n",
              "    </tr>\n",
              "  </thead>\n",
              "  <tbody>\n",
              "    <tr>\n",
              "      <th>0</th>\n",
              "      <td>0.0316</td>\n",
              "      <td>0.9870</td>\n",
              "      <td>0.0</td>\n",
              "    </tr>\n",
              "    <tr>\n",
              "      <th>1</th>\n",
              "      <td>2.1200</td>\n",
              "      <td>-0.0462</td>\n",
              "      <td>1.0</td>\n",
              "    </tr>\n",
              "    <tr>\n",
              "      <th>2</th>\n",
              "      <td>0.8820</td>\n",
              "      <td>-0.0758</td>\n",
              "      <td>0.0</td>\n",
              "    </tr>\n",
              "    <tr>\n",
              "      <th>3</th>\n",
              "      <td>-0.0551</td>\n",
              "      <td>-0.0373</td>\n",
              "      <td>1.0</td>\n",
              "    </tr>\n",
              "    <tr>\n",
              "      <th>4</th>\n",
              "      <td>0.8300</td>\n",
              "      <td>-0.5390</td>\n",
              "      <td>1.0</td>\n",
              "    </tr>\n",
              "  </tbody>\n",
              "</table>\n",
              "</div>\n",
              "      <button class=\"colab-df-convert\" onclick=\"convertToInteractive('df-a1d11e26-bba6-4687-87b8-b1379e18397b')\"\n",
              "              title=\"Convert this dataframe to an interactive table.\"\n",
              "              style=\"display:none;\">\n",
              "        \n",
              "  <svg xmlns=\"http://www.w3.org/2000/svg\" height=\"24px\"viewBox=\"0 0 24 24\"\n",
              "       width=\"24px\">\n",
              "    <path d=\"M0 0h24v24H0V0z\" fill=\"none\"/>\n",
              "    <path d=\"M18.56 5.44l.94 2.06.94-2.06 2.06-.94-2.06-.94-.94-2.06-.94 2.06-2.06.94zm-11 1L8.5 8.5l.94-2.06 2.06-.94-2.06-.94L8.5 2.5l-.94 2.06-2.06.94zm10 10l.94 2.06.94-2.06 2.06-.94-2.06-.94-.94-2.06-.94 2.06-2.06.94z\"/><path d=\"M17.41 7.96l-1.37-1.37c-.4-.4-.92-.59-1.43-.59-.52 0-1.04.2-1.43.59L10.3 9.45l-7.72 7.72c-.78.78-.78 2.05 0 2.83L4 21.41c.39.39.9.59 1.41.59.51 0 1.02-.2 1.41-.59l7.78-7.78 2.81-2.81c.8-.78.8-2.07 0-2.86zM5.41 20L4 18.59l7.72-7.72 1.47 1.35L5.41 20z\"/>\n",
              "  </svg>\n",
              "      </button>\n",
              "      \n",
              "  <style>\n",
              "    .colab-df-container {\n",
              "      display:flex;\n",
              "      flex-wrap:wrap;\n",
              "      gap: 12px;\n",
              "    }\n",
              "\n",
              "    .colab-df-convert {\n",
              "      background-color: #E8F0FE;\n",
              "      border: none;\n",
              "      border-radius: 50%;\n",
              "      cursor: pointer;\n",
              "      display: none;\n",
              "      fill: #1967D2;\n",
              "      height: 32px;\n",
              "      padding: 0 0 0 0;\n",
              "      width: 32px;\n",
              "    }\n",
              "\n",
              "    .colab-df-convert:hover {\n",
              "      background-color: #E2EBFA;\n",
              "      box-shadow: 0px 1px 2px rgba(60, 64, 67, 0.3), 0px 1px 3px 1px rgba(60, 64, 67, 0.15);\n",
              "      fill: #174EA6;\n",
              "    }\n",
              "\n",
              "    [theme=dark] .colab-df-convert {\n",
              "      background-color: #3B4455;\n",
              "      fill: #D2E3FC;\n",
              "    }\n",
              "\n",
              "    [theme=dark] .colab-df-convert:hover {\n",
              "      background-color: #434B5C;\n",
              "      box-shadow: 0px 1px 3px 1px rgba(0, 0, 0, 0.15);\n",
              "      filter: drop-shadow(0px 1px 2px rgba(0, 0, 0, 0.3));\n",
              "      fill: #FFFFFF;\n",
              "    }\n",
              "  </style>\n",
              "\n",
              "      <script>\n",
              "        const buttonEl =\n",
              "          document.querySelector('#df-a1d11e26-bba6-4687-87b8-b1379e18397b button.colab-df-convert');\n",
              "        buttonEl.style.display =\n",
              "          google.colab.kernel.accessAllowed ? 'block' : 'none';\n",
              "\n",
              "        async function convertToInteractive(key) {\n",
              "          const element = document.querySelector('#df-a1d11e26-bba6-4687-87b8-b1379e18397b');\n",
              "          const dataTable =\n",
              "            await google.colab.kernel.invokeFunction('convertToInteractive',\n",
              "                                                     [key], {});\n",
              "          if (!dataTable) return;\n",
              "\n",
              "          const docLinkHtml = 'Like what you see? Visit the ' +\n",
              "            '<a target=\"_blank\" href=https://colab.research.google.com/notebooks/data_table.ipynb>data table notebook</a>'\n",
              "            + ' to learn more about interactive tables.';\n",
              "          element.innerHTML = '';\n",
              "          dataTable['output_type'] = 'display_data';\n",
              "          await google.colab.output.renderOutput(dataTable, element);\n",
              "          const docLink = document.createElement('div');\n",
              "          docLink.innerHTML = docLinkHtml;\n",
              "          element.appendChild(docLink);\n",
              "        }\n",
              "      </script>\n",
              "    </div>\n",
              "  </div>\n",
              "  "
            ]
          },
          "metadata": {},
          "execution_count": 3
        }
      ]
    },
    {
      "cell_type": "code",
      "source": [
        "plt.scatter(df['X'],df['Y'],c=df['class'])"
      ],
      "metadata": {
        "colab": {
          "base_uri": "https://localhost:8080/",
          "height": 283
        },
        "id": "ZuYqGD_mtuQG",
        "outputId": "97e607c8-ada0-45c7-d9cc-17fd3bd502a5"
      },
      "execution_count": null,
      "outputs": [
        {
          "output_type": "execute_result",
          "data": {
            "text/plain": [
              "<matplotlib.collections.PathCollection at 0x7fe8883fae50>"
            ]
          },
          "metadata": {},
          "execution_count": 4
        },
        {
          "output_type": "display_data",
          "data": {
            "text/plain": [
              "<Figure size 432x288 with 1 Axes>"
            ],
            "image/png": "[encoded data removed]"
          },
          "metadata": {
            "needs_background": "light"
          }
        }
      ]
    },
    {
      "cell_type": "code",
      "source": [
        "X = df.iloc[:,0:2].values\n",
        "y = df.iloc[:,-1].values"
      ],
      "metadata": {
        "id": "nwXuHnqhtwEJ"
      },
      "execution_count": null,
      "outputs": []
    },
    {
      "cell_type": "code",
      "source": [
        "import tensorflow\n",
        "from tensorflow import keras\n",
        "from keras import Sequential\n",
        "from keras.layers import Dense"
      ],
      "metadata": {
        "id": "ylDVIM8Ltx0H"
      },
      "execution_count": null,
      "outputs": []
    },
    {
      "cell_type": "code",
      "source": [
        "model = Sequential()\n",
        "\n",
        "model.add(Dense(10,activation='relu',input_dim=2,kernel_initializer='he_normal'))\n",
        "model.add(Dense(10,activation='relu',kernel_initializer='he_normal'))\n",
        "model.add(Dense(10,activation='relu',kernel_initializer='he_normal'))\n",
        "model.add(Dense(10,activation='relu',kernel_initializer='he_normal'))\n",
        "model.add(Dense(1,activation='sigmoid'))\n",
        "\n",
        "model.summary()"
      ],
      "metadata": {
        "colab": {
          "base_uri": "https://localhost:8080/"
        },
        "id": "id8rhK5OtzVX",
        "outputId": "d69e652e-27db-472d-9ca4-90a863607606"
      },
      "execution_count": null,
      "outputs": [
        {
          "output_type": "stream",
          "name": "stdout",
          "text": [
            "Model: \"sequential_5\"\n",
            "_________________________________________________________________\n",
            " Layer (type)                Output Shape              Param #   \n",
            "=================================================================\n",
            " dense_22 (Dense)            (None, 10)                30        \n",
            "                                                                 \n",
            " dense_23 (Dense)            (None, 10)                110       \n",
            "                                                                 \n",
            " dense_24 (Dense)            (None, 10)                110       \n",
            "                                                                 \n",
            " dense_25 (Dense)            (None, 10)                110       \n",
            "                                                                 \n",
            " dense_26 (Dense)            (None, 1)                 11        \n",
            "                                                                 \n",
            "=================================================================\n",
            "Total params: 371\n",
            "Trainable params: 371\n",
            "Non-trainable params: 0\n",
            "_________________________________________________________________\n"
          ]
        }
      ]
    },
    {
      "cell_type": "code",
      "source": [
        "model.get_weights()"
      ],
      "metadata": {
        "colab": {
          "base_uri": "https://localhost:8080/"
        },
        "id": "YjST2L1qt1UP",
        "outputId": "e4214b79-73df-4831-ab15-4713b9f2058d"
      },
      "execution_count": null,
      "outputs": [
        {
          "output_type": "execute_result",
          "data": {
            "text/plain": [
              "[array([[ 0.9634355 ,  2.008911  , -0.34264505,  0.6884312 ,  0.7782312 ,\n",
              "         -0.6561154 ,  0.14167677,  0.9779885 ,  0.9325577 ,  1.1402048 ],\n",
              "        [-0.16728629,  1.4618363 , -0.8058679 , -0.50964737, -0.866167  ,\n",
              "          0.5496935 ,  0.13310157,  1.0779827 , -0.6639141 , -0.01463179]],\n",
              "       dtype=float32),\n",
              " array([0., 0., 0., 0., 0., 0., 0., 0., 0., 0.], dtype=float32),\n",
              " array([[-0.10539851,  0.48526895,  0.714316  , -0.18866718, -0.7250839 ,\n",
              "          0.22085175,  0.7534904 ,  0.36095998, -0.6742738 ,  0.5922916 ],\n",
              "        [-0.6299539 ,  0.10253704,  0.30383942, -0.45836744, -0.09067469,\n",
              "         -0.10327455,  0.11008824, -0.01055317, -0.16426785,  0.10706678],\n",
              "        [-0.01778925,  0.6664191 ,  0.6245424 , -0.03912661,  0.0080572 ,\n",
              "          0.6449524 , -0.5234461 ,  0.30333588,  0.33092707,  0.3393051 ],\n",
              "        [-0.00530986, -0.9603113 ,  0.5049274 ,  0.22863166, -0.45042127,\n",
              "         -0.2503643 ,  0.1029162 ,  0.25492725, -0.29852968,  0.48624536],\n",
              "        [-0.8647297 ,  0.6059265 , -0.03488478, -0.9845163 , -0.2521756 ,\n",
              "         -0.6724048 , -0.15583909,  0.8362818 , -0.7816974 ,  0.41586933],\n",
              "        [-0.0256603 , -0.7476501 ,  0.4419385 , -0.42284152,  0.13786316,\n",
              "          0.33295807,  0.29497185, -0.39135888,  0.3087249 ,  0.5474781 ],\n",
              "        [-0.2170632 , -0.89181143,  0.66846764,  0.2825762 ,  0.14591902,\n",
              "         -0.15910214, -0.30370116,  0.08618522, -0.26557195,  0.4293157 ],\n",
              "        [ 0.47798464, -0.3429556 ,  0.38501078,  0.77214956, -0.04640924,\n",
              "          0.59088236, -0.689049  ,  0.27817264,  0.3736175 , -0.2784376 ],\n",
              "        [ 0.42301384, -0.03015674,  0.8002327 , -0.611186  , -0.59336454,\n",
              "         -0.22364625, -0.22954208,  0.36390936,  0.01810098,  0.1830766 ],\n",
              "        [ 0.01415879, -0.51591563, -0.4304976 ,  0.83690506, -0.14185967,\n",
              "         -0.47761172, -0.13387348, -0.23567227,  0.286203  ,  0.08208084]],\n",
              "       dtype=float32),\n",
              " array([0., 0., 0., 0., 0., 0., 0., 0., 0., 0.], dtype=float32),\n",
              " array([[-0.22719581,  0.25135857,  0.11783469,  0.25465578, -0.8545871 ,\n",
              "         -0.545164  ,  0.2919587 ,  0.02047073,  0.0474746 , -0.22990222],\n",
              "        [ 0.20630676,  0.45647845, -0.1643038 , -0.12552026,  0.02140639,\n",
              "          0.18163018,  0.87371415, -0.45510593,  0.03604161, -0.72112197],\n",
              "        [ 0.05588618,  0.33604667,  0.02206722,  0.40988854,  0.36898085,\n",
              "         -0.39405695,  0.39123395, -0.8767327 , -0.14077851, -0.27199763],\n",
              "        [-0.2094524 ,  0.16879848,  0.1295846 ,  0.1220797 , -0.06777103,\n",
              "         -0.46362278,  0.17815213, -0.75938493, -0.10657755, -0.4833386 ],\n",
              "        [-0.10479715, -0.12263593,  0.37804526, -0.16613133, -0.06238799,\n",
              "         -0.13015227,  0.15683806,  0.72975564, -0.542468  , -0.82793933],\n",
              "        [-0.15535268, -0.5324612 , -0.20927174, -0.51257825,  0.6215454 ,\n",
              "          0.15115292, -0.39339757,  0.5876791 , -0.14108567,  0.54076993],\n",
              "        [ 0.16276093,  0.86959326, -0.15111575,  0.6687028 ,  0.32407516,\n",
              "          0.1618845 ,  0.12549894, -0.07277837, -0.06342666,  0.7858933 ],\n",
              "        [-0.19009963,  0.11054919,  0.9038928 ,  0.7062179 ,  0.8278545 ,\n",
              "         -0.5386862 , -0.21597224,  0.13052948, -0.05630735, -0.24903378],\n",
              "        [ 0.23637347, -0.5177935 , -0.06894839,  0.34669626, -0.21427627,\n",
              "         -0.22265106, -0.8586252 ,  0.22244304,  0.7417311 , -0.48316273],\n",
              "        [ 0.22706413,  0.30637008, -0.48278323,  0.66773885, -0.68563974,\n",
              "          0.29843712,  0.41248435, -0.9194688 , -0.30100805, -0.14725935]],\n",
              "       dtype=float32),\n",
              " array([0., 0., 0., 0., 0., 0., 0., 0., 0., 0.], dtype=float32),\n",
              " array([[-0.12719171,  0.32572147, -0.19186367,  0.1080595 ,  0.89044815,\n",
              "         -0.11340923, -0.84662694,  0.14842165, -0.58024925, -0.3221063 ],\n",
              "        [ 0.33102384,  0.6551966 ,  0.9588741 ,  0.61069065,  0.30429554,\n",
              "          0.08153346,  0.30817097,  0.5135824 , -0.07844207,  0.3508088 ],\n",
              "        [ 0.6542758 , -0.35206947, -0.00892634, -0.5251519 ,  0.44953102,\n",
              "          0.47949585,  0.15924747,  0.12385951,  0.10013837,  0.55241907],\n",
              "        [-0.42704555,  0.26947352, -0.22298317, -0.01166455,  0.00808559,\n",
              "         -0.38047653,  0.6130559 ,  0.47299102,  0.02962644, -0.45622355],\n",
              "        [-0.75035554, -0.22285968,  0.6563161 , -0.4446952 , -0.09324932,\n",
              "         -0.07894749,  0.411841  , -0.75119585,  0.08737168, -0.20492852],\n",
              "        [ 0.16069242,  0.6739757 ,  0.65760857,  0.5713518 , -0.6718141 ,\n",
              "          0.4722979 , -0.5915241 , -0.07020925,  0.6156203 , -0.0515183 ],\n",
              "        [ 0.09676498, -0.55927896,  0.01449026, -0.7285553 , -0.22028369,\n",
              "         -0.17292911, -0.27484554,  0.85258913, -0.10506822,  0.07183036],\n",
              "        [-0.12262342, -0.2832302 ,  0.18603727, -0.25330928,  0.72570926,\n",
              "         -0.29362974, -0.34446892,  0.22842209, -0.35709214, -0.7831262 ],\n",
              "        [ 0.539477  ,  0.26295155, -0.3697736 , -0.03813628, -0.13838898,\n",
              "         -0.41117522, -0.529463  ,  0.1416722 ,  0.6740013 ,  0.68463475],\n",
              "        [ 0.00204852,  0.37260506, -0.18784964, -0.13910887, -0.31966048,\n",
              "         -0.12841794, -0.08796065,  0.12654659, -0.21097809, -0.7554491 ]],\n",
              "       dtype=float32),\n",
              " array([0., 0., 0., 0., 0., 0., 0., 0., 0., 0.], dtype=float32),\n",
              " array([[-0.47983712],\n",
              "        [ 0.533161  ],\n",
              "        [-0.25791344],\n",
              "        [-0.6068747 ],\n",
              "        [ 0.08051151],\n",
              "        [ 0.5534523 ],\n",
              "        [-0.73812526],\n",
              "        [-0.38903654],\n",
              "        [-0.32176036],\n",
              "        [-0.59813005]], dtype=float32),\n",
              " array([0.], dtype=float32)]"
            ]
          },
          "metadata": {},
          "execution_count": 61
        }
      ]
    },
    {
      "cell_type": "code",
      "source": [
        "initial_weights = model.get_weights()"
      ],
      "metadata": {
        "id": "SNnRle4Dt4bc"
      },
      "execution_count": null,
      "outputs": []
    },
    {
      "cell_type": "code",
      "source": [
        "initial_weights[0] = np.random.randn(2,10)*np.sqrt(1/2)\n",
        "initial_weights[1] = np.zeros(model.get_weights()[1].shape)\n",
        "initial_weights[2] = np.random.randn(10,10)*np.sqrt(1/10)\n",
        "initial_weights[3] = np.zeros(model.get_weights()[3].shape)\n",
        "initial_weights[4] = np.random.randn(10,10)*np.sqrt(1/10)\n",
        "initial_weights[5] = np.zeros(model.get_weights()[5].shape)\n",
        "initial_weights[6] = np.random.randn(10,10)*np.sqrt(1/10)\n",
        "initial_weights[7] = np.zeros(model.get_weights()[7].shape)\n",
        "initial_weights[8] = np.random.randn(10,1)*np.sqrt(1/10)\n",
        "initial_weights[9] = np.zeros(model.get_weights()[9].shape)"
      ],
      "metadata": {
        "id": "T6mklkSot6GI"
      },
      "execution_count": null,
      "outputs": []
    },
    {
      "cell_type": "code",
      "source": [
        "model.set_weights(initial_weights)"
      ],
      "metadata": {
        "id": "cnoX9yK8ueEM"
      },
      "execution_count": null,
      "outputs": []
    },
    {
      "cell_type": "code",
      "source": [
        "model.get_weights()"
      ],
      "metadata": {
        "colab": {
          "base_uri": "https://localhost:8080/"
        },
        "id": "1guey_KUujTP",
        "outputId": "fb013401-4046-46da-b07b-f080061fdc8a"
      },
      "execution_count": null,
      "outputs": [
        {
          "output_type": "execute_result",
          "data": {
            "text/plain": [
              "[array([[-0.9083814 , -0.42979184, -0.53292066, -0.8351218 , -0.16821018,\n",
              "         -0.17595254,  0.44825128, -0.3543974 , -0.26178998, -1.1923412 ],\n",
              "        [ 0.91741747,  0.3588762 ,  0.50364774, -0.10173513,  0.2106472 ,\n",
              "         -0.21627867, -0.18277432, -0.6875152 ,  0.35624236,  0.4325114 ]],\n",
              "       dtype=float32),\n",
              " array([0., 0., 0., 0., 0., 0., 0., 0., 0., 0.], dtype=float32),\n",
              " array([[ 0.14801227,  0.2561245 ,  0.10928258, -0.20176922,  0.00727606,\n",
              "          0.42879048,  0.13790296, -0.4391284 , -0.06173414, -0.5698351 ],\n",
              "        [-0.7840016 , -0.05161778,  0.06571397, -0.3170529 ,  0.41050068,\n",
              "         -0.03985342, -0.580036  ,  0.294646  , -0.01483387, -0.06064747],\n",
              "        [-0.07505108, -0.05698978,  0.1829229 , -0.13824858,  0.41852456,\n",
              "         -0.663167  , -0.08177052,  0.23831266, -0.21426578, -0.30900267],\n",
              "        [-0.26688266, -0.0863719 ,  0.41794643, -0.03646072,  0.02351558,\n",
              "         -0.28430468,  0.2584214 , -0.1209321 ,  0.4445468 ,  0.05717354],\n",
              "        [ 0.34896645, -0.00430898,  0.23457436, -0.3618909 ,  0.2587986 ,\n",
              "         -0.39212444,  0.08126691, -0.08995533, -0.10002058,  0.08600869],\n",
              "        [-0.04275794, -0.09703516,  0.3815181 ,  0.3097038 ,  0.11292977,\n",
              "          0.117372  , -0.02248203,  0.4889994 ,  0.57115424,  0.43073615],\n",
              "        [-0.04957008, -0.44252124, -0.17205828,  0.41337928, -0.3724524 ,\n",
              "          0.2732053 , -0.4093258 ,  0.0459554 ,  0.19809112,  0.25311488],\n",
              "        [-0.31412154, -0.01881288,  0.56514144,  0.38490713, -0.25869706,\n",
              "         -0.21606022, -0.7732147 , -0.6392791 ,  0.0509569 , -0.20062056],\n",
              "        [ 0.51777196,  0.08096474,  0.21223843, -0.22728097,  0.02850839,\n",
              "         -0.02672394, -0.39952034,  0.08997314,  0.1420588 ,  0.24861185],\n",
              "        [-0.16972117,  0.2020552 , -0.45849884,  0.07805384, -0.10639963,\n",
              "          0.30771437, -0.13902055, -0.48376253,  0.32917154, -0.0343847 ]],\n",
              "       dtype=float32),\n",
              " array([0., 0., 0., 0., 0., 0., 0., 0., 0., 0.], dtype=float32),\n",
              " array([[ 0.351531  ,  0.04825034, -0.09516362, -0.02325017, -0.07679025,\n",
              "         -0.0077562 ,  0.1440094 , -0.01102947,  0.2874337 ,  0.46714061],\n",
              "        [ 0.1952239 , -0.07405984,  0.09022895,  0.4952026 , -0.41903275,\n",
              "         -0.06319922,  0.4024669 , -0.33745408,  0.28385013, -0.3387091 ],\n",
              "        [ 0.09652926, -0.02516844, -0.5685633 ,  0.01987785, -0.28808635,\n",
              "          0.40259665,  0.21185209, -0.5279558 ,  0.48293707, -0.02610426],\n",
              "        [ 0.45866492, -0.09240092, -0.15243736,  0.576126  ,  0.37718555,\n",
              "         -0.08485635,  0.14718197, -0.11515211,  0.24846207, -0.11716742],\n",
              "        [ 0.43098387, -0.25120708, -0.04714221,  0.01326465, -0.19509016,\n",
              "          0.0197177 , -0.10951312,  0.45644504,  0.12346061,  0.30889845],\n",
              "        [ 0.15061665,  0.406988  , -0.11505055,  0.19250084,  0.03419141,\n",
              "          0.24471171,  0.17944743,  0.02243084,  0.10530423,  0.2657897 ],\n",
              "        [ 0.13679977, -0.07137353,  0.19502199, -0.11566745, -0.19738303,\n",
              "          0.08590439,  0.1332807 , -0.35735178,  0.4210001 ,  0.34009323],\n",
              "        [ 0.4538984 , -0.1178948 ,  0.49594876, -0.33116475, -0.06217633,\n",
              "          0.5180906 , -0.0145489 , -0.02893704,  0.16750787, -0.11778154],\n",
              "        [-0.12415569, -0.5834298 ,  0.36892793, -0.24332199, -0.3879341 ,\n",
              "         -0.07469143,  0.04734641, -0.48414105,  0.27407247, -0.05363356],\n",
              "        [-0.12103921, -0.14562546, -0.07509393,  0.06635666, -0.18832582,\n",
              "         -0.12808347, -0.38067216, -0.06058634, -0.5804807 , -0.07056971]],\n",
              "       dtype=float32),\n",
              " array([0., 0., 0., 0., 0., 0., 0., 0., 0., 0.], dtype=float32),\n",
              " array([[-0.08597732,  0.18572108, -0.13289165,  0.08838793, -0.4285278 ,\n",
              "         -0.15164156, -0.3983799 ,  0.2767031 , -0.29137242, -0.17500088],\n",
              "        [ 0.3288246 , -0.20354667, -0.00204105, -0.44299152, -0.03474264,\n",
              "         -0.39402092, -0.10728984, -0.814813  ,  0.37740347, -0.33862337],\n",
              "        [ 0.3411839 , -0.558053  ,  0.01472748, -0.26107407,  0.51546216,\n",
              "          0.00784547,  0.10155795, -0.07124441, -0.21167699,  0.1757577 ],\n",
              "        [-0.08078285, -0.2714235 ,  0.20375411,  0.03531255,  0.10036895,\n",
              "          0.379184  ,  0.15216552,  0.13386655, -0.8858865 , -0.08510572],\n",
              "        [ 0.29753032,  0.2917728 , -0.34465906, -0.6314868 ,  0.26687467,\n",
              "         -0.17768161, -0.03595887,  0.61502004,  1.0953107 , -0.23918802],\n",
              "        [-0.6499511 , -0.0587553 , -0.3308845 ,  0.403132  ,  0.3678444 ,\n",
              "          0.02755055, -0.50861305, -0.28845936, -0.17679316,  0.16417262],\n",
              "        [-0.42013055, -0.608904  ,  0.16306435,  0.65057844, -0.07764271,\n",
              "          0.04140919,  0.2999518 ,  0.42407185,  0.42458203,  1.2834473 ],\n",
              "        [-0.34565133,  0.007961  , -0.12784187, -0.4550144 , -0.06600179,\n",
              "          0.0050748 ,  0.21197614,  0.37626183,  0.15525018, -0.06928831],\n",
              "        [ 0.40581083, -0.43762958,  0.13990934, -0.31520772,  0.27577847,\n",
              "          0.09683099,  0.0994951 ,  0.04477901, -0.36100128,  0.07997894],\n",
              "        [ 0.09929352,  0.5010431 ,  0.3398649 ,  0.27506518,  0.24033281,\n",
              "         -0.22102788, -0.05080588, -0.23599078, -0.1924548 , -0.09766274]],\n",
              "       dtype=float32),\n",
              " array([0., 0., 0., 0., 0., 0., 0., 0., 0., 0.], dtype=float32),\n",
              " array([[ 0.1385054 ],\n",
              "        [ 0.26676077],\n",
              "        [ 0.3960162 ],\n",
              "        [ 0.10575698],\n",
              "        [-0.19347642],\n",
              "        [ 0.27781254],\n",
              "        [ 0.43249965],\n",
              "        [-0.30749798],\n",
              "        [-0.29952312],\n",
              "        [-0.4939854 ]], dtype=float32),\n",
              " array([0.], dtype=float32)]"
            ]
          },
          "metadata": {},
          "execution_count": 49
        }
      ]
    },
    {
      "cell_type": "code",
      "source": [
        "model.compile(loss='binary_crossentropy',optimizer='adam',metrics=['accuracy'])"
      ],
      "metadata": {
        "id": "bjAyhD8mulGG"
      },
      "execution_count": null,
      "outputs": []
    },
    {
      "cell_type": "code",
      "source": [
        "history = model.fit(X,y,epochs=100,validation_split=0.2)"
      ],
      "metadata": {
        "colab": {
          "base_uri": "https://localhost:8080/"
        },
        "id": "H1wa0jCaun8z",
        "outputId": "b9e3d128-6954-4c3a-9624-0b5c59909728"
      },
      "execution_count": null,
      "outputs": [
        {
          "output_type": "stream",
          "name": "stdout",
          "text": [
            "Epoch 1/100\n",
            "3/3 [==============================] - 1s 85ms/step - loss: 1.7058 - accuracy: 0.5000 - val_loss: 1.6510 - val_accuracy: 0.5000\n",
            "Epoch 2/100\n",
            "3/3 [==============================] - 0s 15ms/step - loss: 1.6300 - accuracy: 0.5125 - val_loss: 1.5720 - val_accuracy: 0.5000\n",
            "Epoch 3/100\n",
            "3/3 [==============================] - 0s 15ms/step - loss: 1.5416 - accuracy: 0.5125 - val_loss: 1.4990 - val_accuracy: 0.5000\n",
            "Epoch 4/100\n",
            "3/3 [==============================] - 0s 14ms/step - loss: 1.4703 - accuracy: 0.5125 - val_loss: 1.4281 - val_accuracy: 0.5500\n",
            "Epoch 5/100\n",
            "3/3 [==============================] - 0s 15ms/step - loss: 1.3973 - accuracy: 0.5125 - val_loss: 1.3605 - val_accuracy: 0.5500\n",
            "Epoch 6/100\n",
            "3/3 [==============================] - 0s 15ms/step - loss: 1.3355 - accuracy: 0.4875 - val_loss: 1.2960 - val_accuracy: 0.5000\n",
            "Epoch 7/100\n",
            "3/3 [==============================] - 0s 23ms/step - loss: 1.2629 - accuracy: 0.5000 - val_loss: 1.2362 - val_accuracy: 0.5000\n",
            "Epoch 8/100\n",
            "3/3 [==============================] - 0s 14ms/step - loss: 1.2154 - accuracy: 0.4875 - val_loss: 1.1789 - val_accuracy: 0.5000\n",
            "Epoch 9/100\n",
            "3/3 [==============================] - 0s 15ms/step - loss: 1.1565 - accuracy: 0.4750 - val_loss: 1.1273 - val_accuracy: 0.4500\n",
            "Epoch 10/100\n",
            "3/3 [==============================] - 0s 15ms/step - loss: 1.1053 - accuracy: 0.4875 - val_loss: 1.0798 - val_accuracy: 0.4500\n",
            "Epoch 11/100\n",
            "3/3 [==============================] - 0s 15ms/step - loss: 1.0585 - accuracy: 0.4625 - val_loss: 1.0363 - val_accuracy: 0.4500\n",
            "Epoch 12/100\n",
            "3/3 [==============================] - 0s 14ms/step - loss: 1.0107 - accuracy: 0.4500 - val_loss: 0.9977 - val_accuracy: 0.4500\n",
            "Epoch 13/100\n",
            "3/3 [==============================] - 0s 14ms/step - loss: 0.9755 - accuracy: 0.4625 - val_loss: 0.9607 - val_accuracy: 0.4500\n",
            "Epoch 14/100\n",
            "3/3 [==============================] - 0s 15ms/step - loss: 0.9358 - accuracy: 0.4625 - val_loss: 0.9269 - val_accuracy: 0.4000\n",
            "Epoch 15/100\n",
            "3/3 [==============================] - 0s 15ms/step - loss: 0.9045 - accuracy: 0.4625 - val_loss: 0.8953 - val_accuracy: 0.4500\n",
            "Epoch 16/100\n",
            "3/3 [==============================] - 0s 16ms/step - loss: 0.8716 - accuracy: 0.4875 - val_loss: 0.8674 - val_accuracy: 0.4500\n",
            "Epoch 17/100\n",
            "3/3 [==============================] - 0s 15ms/step - loss: 0.8443 - accuracy: 0.4875 - val_loss: 0.8419 - val_accuracy: 0.3500\n",
            "Epoch 18/100\n",
            "3/3 [==============================] - 0s 15ms/step - loss: 0.8210 - accuracy: 0.4875 - val_loss: 0.8181 - val_accuracy: 0.3000\n",
            "Epoch 19/100\n",
            "3/3 [==============================] - 0s 14ms/step - loss: 0.7964 - accuracy: 0.4875 - val_loss: 0.7965 - val_accuracy: 0.3000\n",
            "Epoch 20/100\n",
            "3/3 [==============================] - 0s 15ms/step - loss: 0.7738 - accuracy: 0.4875 - val_loss: 0.7775 - val_accuracy: 0.3000\n",
            "Epoch 21/100\n",
            "3/3 [==============================] - 0s 17ms/step - loss: 0.7562 - accuracy: 0.4875 - val_loss: 0.7609 - val_accuracy: 0.3500\n",
            "Epoch 22/100\n",
            "3/3 [==============================] - 0s 15ms/step - loss: 0.7401 - accuracy: 0.5000 - val_loss: 0.7458 - val_accuracy: 0.4000\n",
            "Epoch 23/100\n",
            "3/3 [==============================] - 0s 15ms/step - loss: 0.7232 - accuracy: 0.5125 - val_loss: 0.7322 - val_accuracy: 0.4000\n",
            "Epoch 24/100\n",
            "3/3 [==============================] - 0s 19ms/step - loss: 0.7096 - accuracy: 0.5125 - val_loss: 0.7190 - val_accuracy: 0.4000\n",
            "Epoch 25/100\n",
            "3/3 [==============================] - 0s 14ms/step - loss: 0.6961 - accuracy: 0.5250 - val_loss: 0.7067 - val_accuracy: 0.4500\n",
            "Epoch 26/100\n",
            "3/3 [==============================] - 0s 15ms/step - loss: 0.6841 - accuracy: 0.5500 - val_loss: 0.6951 - val_accuracy: 0.4500\n",
            "Epoch 27/100\n",
            "3/3 [==============================] - 0s 15ms/step - loss: 0.6720 - accuracy: 0.5625 - val_loss: 0.6839 - val_accuracy: 0.5000\n",
            "Epoch 28/100\n",
            "3/3 [==============================] - 0s 15ms/step - loss: 0.6622 - accuracy: 0.5750 - val_loss: 0.6729 - val_accuracy: 0.5500\n",
            "Epoch 29/100\n",
            "3/3 [==============================] - 0s 14ms/step - loss: 0.6520 - accuracy: 0.6250 - val_loss: 0.6624 - val_accuracy: 0.6500\n",
            "Epoch 30/100\n",
            "3/3 [==============================] - 0s 14ms/step - loss: 0.6415 - accuracy: 0.7250 - val_loss: 0.6524 - val_accuracy: 0.7000\n",
            "Epoch 31/100\n",
            "3/3 [==============================] - 0s 26ms/step - loss: 0.6323 - accuracy: 0.8125 - val_loss: 0.6427 - val_accuracy: 0.8000\n",
            "Epoch 32/100\n",
            "3/3 [==============================] - 0s 14ms/step - loss: 0.6227 - accuracy: 0.7875 - val_loss: 0.6333 - val_accuracy: 0.8500\n",
            "Epoch 33/100\n",
            "3/3 [==============================] - 0s 15ms/step - loss: 0.6136 - accuracy: 0.8000 - val_loss: 0.6237 - val_accuracy: 0.8500\n",
            "Epoch 34/100\n",
            "3/3 [==============================] - 0s 16ms/step - loss: 0.6048 - accuracy: 0.8000 - val_loss: 0.6141 - val_accuracy: 0.9000\n",
            "Epoch 35/100\n",
            "3/3 [==============================] - 0s 14ms/step - loss: 0.5961 - accuracy: 0.8000 - val_loss: 0.6042 - val_accuracy: 0.9000\n",
            "Epoch 36/100\n",
            "3/3 [==============================] - 0s 14ms/step - loss: 0.5872 - accuracy: 0.7875 - val_loss: 0.5942 - val_accuracy: 0.9000\n",
            "Epoch 37/100\n",
            "3/3 [==============================] - 0s 13ms/step - loss: 0.5780 - accuracy: 0.8250 - val_loss: 0.5841 - val_accuracy: 0.9000\n",
            "Epoch 38/100\n",
            "3/3 [==============================] - 0s 13ms/step - loss: 0.5696 - accuracy: 0.8250 - val_loss: 0.5737 - val_accuracy: 0.9000\n",
            "Epoch 39/100\n",
            "3/3 [==============================] - 0s 14ms/step - loss: 0.5616 - accuracy: 0.8500 - val_loss: 0.5635 - val_accuracy: 0.9000\n",
            "Epoch 40/100\n",
            "3/3 [==============================] - 0s 28ms/step - loss: 0.5521 - accuracy: 0.8375 - val_loss: 0.5536 - val_accuracy: 0.9000\n",
            "Epoch 41/100\n",
            "3/3 [==============================] - 0s 14ms/step - loss: 0.5438 - accuracy: 0.8375 - val_loss: 0.5433 - val_accuracy: 0.9500\n",
            "Epoch 42/100\n",
            "3/3 [==============================] - 0s 15ms/step - loss: 0.5357 - accuracy: 0.8375 - val_loss: 0.5334 - val_accuracy: 0.9500\n",
            "Epoch 43/100\n",
            "3/3 [==============================] - 0s 14ms/step - loss: 0.5277 - accuracy: 0.8625 - val_loss: 0.5235 - val_accuracy: 0.9500\n",
            "Epoch 44/100\n",
            "3/3 [==============================] - 0s 15ms/step - loss: 0.5200 - accuracy: 0.8625 - val_loss: 0.5141 - val_accuracy: 0.9500\n",
            "Epoch 45/100\n",
            "3/3 [==============================] - 0s 17ms/step - loss: 0.5128 - accuracy: 0.8625 - val_loss: 0.5049 - val_accuracy: 0.9500\n",
            "Epoch 46/100\n",
            "3/3 [==============================] - 0s 15ms/step - loss: 0.5056 - accuracy: 0.8625 - val_loss: 0.4961 - val_accuracy: 1.0000\n",
            "Epoch 47/100\n",
            "3/3 [==============================] - 0s 19ms/step - loss: 0.4990 - accuracy: 0.8625 - val_loss: 0.4878 - val_accuracy: 1.0000\n",
            "Epoch 48/100\n",
            "3/3 [==============================] - 0s 26ms/step - loss: 0.4919 - accuracy: 0.8625 - val_loss: 0.4802 - val_accuracy: 1.0000\n",
            "Epoch 49/100\n",
            "3/3 [==============================] - 0s 15ms/step - loss: 0.4861 - accuracy: 0.8625 - val_loss: 0.4725 - val_accuracy: 0.9500\n",
            "Epoch 50/100\n",
            "3/3 [==============================] - 0s 15ms/step - loss: 0.4790 - accuracy: 0.8625 - val_loss: 0.4650 - val_accuracy: 0.9500\n",
            "Epoch 51/100\n",
            "3/3 [==============================] - 0s 14ms/step - loss: 0.4733 - accuracy: 0.8625 - val_loss: 0.4573 - val_accuracy: 0.9500\n",
            "Epoch 52/100\n",
            "3/3 [==============================] - 0s 15ms/step - loss: 0.4668 - accuracy: 0.8750 - val_loss: 0.4498 - val_accuracy: 0.9500\n",
            "Epoch 53/100\n",
            "3/3 [==============================] - 0s 16ms/step - loss: 0.4614 - accuracy: 0.8625 - val_loss: 0.4424 - val_accuracy: 0.9500\n",
            "Epoch 54/100\n",
            "3/3 [==============================] - 0s 18ms/step - loss: 0.4553 - accuracy: 0.8625 - val_loss: 0.4354 - val_accuracy: 0.9500\n",
            "Epoch 55/100\n",
            "3/3 [==============================] - 0s 15ms/step - loss: 0.4498 - accuracy: 0.8625 - val_loss: 0.4284 - val_accuracy: 0.9500\n",
            "Epoch 56/100\n",
            "3/3 [==============================] - 0s 15ms/step - loss: 0.4444 - accuracy: 0.8625 - val_loss: 0.4212 - val_accuracy: 0.9500\n",
            "Epoch 57/100\n",
            "3/3 [==============================] - 0s 14ms/step - loss: 0.4389 - accuracy: 0.8625 - val_loss: 0.4141 - val_accuracy: 0.9500\n",
            "Epoch 58/100\n",
            "3/3 [==============================] - 0s 16ms/step - loss: 0.4338 - accuracy: 0.8625 - val_loss: 0.4071 - val_accuracy: 0.9500\n",
            "Epoch 59/100\n",
            "3/3 [==============================] - 0s 18ms/step - loss: 0.4290 - accuracy: 0.8625 - val_loss: 0.4001 - val_accuracy: 0.9500\n",
            "Epoch 60/100\n",
            "3/3 [==============================] - 0s 18ms/step - loss: 0.4241 - accuracy: 0.8625 - val_loss: 0.3934 - val_accuracy: 0.9500\n",
            "Epoch 61/100\n",
            "3/3 [==============================] - 0s 14ms/step - loss: 0.4198 - accuracy: 0.8625 - val_loss: 0.3869 - val_accuracy: 0.9500\n",
            "Epoch 62/100\n",
            "3/3 [==============================] - 0s 15ms/step - loss: 0.4149 - accuracy: 0.8625 - val_loss: 0.3807 - val_accuracy: 0.9500\n",
            "Epoch 63/100\n",
            "3/3 [==============================] - 0s 17ms/step - loss: 0.4106 - accuracy: 0.8625 - val_loss: 0.3745 - val_accuracy: 0.9500\n",
            "Epoch 64/100\n",
            "3/3 [==============================] - 0s 15ms/step - loss: 0.4074 - accuracy: 0.8625 - val_loss: 0.3683 - val_accuracy: 0.9500\n",
            "Epoch 65/100\n",
            "3/3 [==============================] - 0s 15ms/step - loss: 0.4038 - accuracy: 0.8500 - val_loss: 0.3624 - val_accuracy: 0.9500\n",
            "Epoch 66/100\n",
            "3/3 [==============================] - 0s 15ms/step - loss: 0.3999 - accuracy: 0.8500 - val_loss: 0.3567 - val_accuracy: 0.9500\n",
            "Epoch 67/100\n",
            "3/3 [==============================] - 0s 16ms/step - loss: 0.3966 - accuracy: 0.8500 - val_loss: 0.3514 - val_accuracy: 0.9500\n",
            "Epoch 68/100\n",
            "3/3 [==============================] - 0s 15ms/step - loss: 0.3936 - accuracy: 0.8500 - val_loss: 0.3461 - val_accuracy: 0.9500\n",
            "Epoch 69/100\n",
            "3/3 [==============================] - 0s 16ms/step - loss: 0.3904 - accuracy: 0.8500 - val_loss: 0.3412 - val_accuracy: 0.9500\n",
            "Epoch 70/100\n",
            "3/3 [==============================] - 0s 15ms/step - loss: 0.3873 - accuracy: 0.8500 - val_loss: 0.3363 - val_accuracy: 0.9500\n",
            "Epoch 71/100\n",
            "3/3 [==============================] - 0s 14ms/step - loss: 0.3851 - accuracy: 0.8500 - val_loss: 0.3313 - val_accuracy: 0.9500\n",
            "Epoch 72/100\n",
            "3/3 [==============================] - 0s 15ms/step - loss: 0.3821 - accuracy: 0.8500 - val_loss: 0.3266 - val_accuracy: 0.9500\n",
            "Epoch 73/100\n",
            "3/3 [==============================] - 0s 15ms/step - loss: 0.3796 - accuracy: 0.8500 - val_loss: 0.3222 - val_accuracy: 0.9500\n",
            "Epoch 74/100\n",
            "3/3 [==============================] - 0s 15ms/step - loss: 0.3769 - accuracy: 0.8500 - val_loss: 0.3177 - val_accuracy: 0.9500\n",
            "Epoch 75/100\n",
            "3/3 [==============================] - 0s 15ms/step - loss: 0.3749 - accuracy: 0.8500 - val_loss: 0.3131 - val_accuracy: 0.9500\n",
            "Epoch 76/100\n",
            "3/3 [==============================] - 0s 22ms/step - loss: 0.3722 - accuracy: 0.8500 - val_loss: 0.3084 - val_accuracy: 0.9500\n",
            "Epoch 77/100\n",
            "3/3 [==============================] - 0s 25ms/step - loss: 0.3701 - accuracy: 0.8500 - val_loss: 0.3036 - val_accuracy: 0.9500\n",
            "Epoch 78/100\n",
            "3/3 [==============================] - 0s 14ms/step - loss: 0.3681 - accuracy: 0.8500 - val_loss: 0.2987 - val_accuracy: 0.9500\n",
            "Epoch 79/100\n",
            "3/3 [==============================] - 0s 19ms/step - loss: 0.3661 - accuracy: 0.8500 - val_loss: 0.2942 - val_accuracy: 0.9500\n",
            "Epoch 80/100\n",
            "3/3 [==============================] - 0s 15ms/step - loss: 0.3641 - accuracy: 0.8500 - val_loss: 0.2900 - val_accuracy: 0.9500\n",
            "Epoch 81/100\n",
            "3/3 [==============================] - 0s 15ms/step - loss: 0.3623 - accuracy: 0.8500 - val_loss: 0.2860 - val_accuracy: 0.9500\n",
            "Epoch 82/100\n",
            "3/3 [==============================] - 0s 16ms/step - loss: 0.3603 - accuracy: 0.8500 - val_loss: 0.2822 - val_accuracy: 0.9500\n",
            "Epoch 83/100\n",
            "3/3 [==============================] - 0s 15ms/step - loss: 0.3585 - accuracy: 0.8500 - val_loss: 0.2783 - val_accuracy: 0.9500\n",
            "Epoch 84/100\n",
            "3/3 [==============================] - 0s 14ms/step - loss: 0.3567 - accuracy: 0.8500 - val_loss: 0.2741 - val_accuracy: 0.9500\n",
            "Epoch 85/100\n",
            "3/3 [==============================] - 0s 14ms/step - loss: 0.3539 - accuracy: 0.8500 - val_loss: 0.2694 - val_accuracy: 0.9500\n",
            "Epoch 86/100\n",
            "3/3 [==============================] - 0s 14ms/step - loss: 0.3518 - accuracy: 0.8500 - val_loss: 0.2651 - val_accuracy: 0.9500\n",
            "Epoch 87/100\n",
            "3/3 [==============================] - 0s 16ms/step - loss: 0.3495 - accuracy: 0.8500 - val_loss: 0.2616 - val_accuracy: 0.9500\n",
            "Epoch 88/100\n",
            "3/3 [==============================] - 0s 14ms/step - loss: 0.3475 - accuracy: 0.8500 - val_loss: 0.2586 - val_accuracy: 0.9500\n",
            "Epoch 89/100\n",
            "3/3 [==============================] - 0s 17ms/step - loss: 0.3456 - accuracy: 0.8500 - val_loss: 0.2562 - val_accuracy: 0.9500\n",
            "Epoch 90/100\n",
            "3/3 [==============================] - 0s 14ms/step - loss: 0.3442 - accuracy: 0.8500 - val_loss: 0.2539 - val_accuracy: 0.9500\n",
            "Epoch 91/100\n",
            "3/3 [==============================] - 0s 15ms/step - loss: 0.3425 - accuracy: 0.8500 - val_loss: 0.2511 - val_accuracy: 0.9500\n",
            "Epoch 92/100\n",
            "3/3 [==============================] - 0s 19ms/step - loss: 0.3406 - accuracy: 0.8500 - val_loss: 0.2489 - val_accuracy: 0.9500\n",
            "Epoch 93/100\n",
            "3/3 [==============================] - 0s 14ms/step - loss: 0.3383 - accuracy: 0.8625 - val_loss: 0.2471 - val_accuracy: 0.9500\n",
            "Epoch 94/100\n",
            "3/3 [==============================] - 0s 15ms/step - loss: 0.3366 - accuracy: 0.8625 - val_loss: 0.2456 - val_accuracy: 0.9500\n",
            "Epoch 95/100\n",
            "3/3 [==============================] - 0s 15ms/step - loss: 0.3348 - accuracy: 0.8625 - val_loss: 0.2441 - val_accuracy: 0.9500\n",
            "Epoch 96/100\n",
            "3/3 [==============================] - 0s 15ms/step - loss: 0.3327 - accuracy: 0.8625 - val_loss: 0.2415 - val_accuracy: 0.9500\n",
            "Epoch 97/100\n",
            "3/3 [==============================] - 0s 15ms/step - loss: 0.3306 - accuracy: 0.8625 - val_loss: 0.2388 - val_accuracy: 0.9500\n",
            "Epoch 98/100\n",
            "3/3 [==============================] - 0s 15ms/step - loss: 0.3283 - accuracy: 0.8625 - val_loss: 0.2350 - val_accuracy: 0.9500\n",
            "Epoch 99/100\n",
            "3/3 [==============================] - 0s 15ms/step - loss: 0.3254 - accuracy: 0.8625 - val_loss: 0.2323 - val_accuracy: 1.0000\n",
            "Epoch 100/100\n",
            "3/3 [==============================] - 0s 15ms/step - loss: 0.3233 - accuracy: 0.8625 - val_loss: 0.2294 - val_accuracy: 1.0000\n"
          ]
        }
      ]
    },
    {
      "cell_type": "code",
      "source": [
        "model.get_weights()"
      ],
      "metadata": {
        "colab": {
          "base_uri": "https://localhost:8080/"
        },
        "id": "8K2E1Z5Oupj_",
        "outputId": "b2f6dae5-ea9a-4cc9-8668-1d54a7b78d9d"
      },
      "execution_count": null,
      "outputs": [
        {
          "output_type": "execute_result",
          "data": {
            "text/plain": [
              "[array([[-0.7534644 , -0.40642726, -0.46373174, -0.7715832 , -0.1277438 ,\n",
              "         -0.2729551 ,  0.34282172, -0.2771892 , -0.26632193, -1.429772  ],\n",
              "        [ 1.0737787 ,  0.47488663,  0.62465155, -0.12547861,  0.20325062,\n",
              "         -0.28902182, -0.28489602, -0.7651134 ,  0.32014093,  0.38592413]],\n",
              "       dtype=float32),\n",
              " array([ 0.17320989,  0.00114872,  0.0397424 , -0.13545433,  0.00454802,\n",
              "        -0.22851905, -0.04516467,  0.15110366, -0.06830908,  0.17423655],\n",
              "       dtype=float32),\n",
              " array([[ 0.07947282,  0.26585355,  0.15415847, -0.25968108, -0.01067472,\n",
              "          0.37633535,  0.03868366, -0.38048545, -0.19025889, -0.65158546],\n",
              "        [-0.85772514, -0.04266584,  0.12410757, -0.38518146,  0.4134989 ,\n",
              "         -0.11743478, -0.66751945,  0.37822312, -0.16036926, -0.14447264],\n",
              "        [-0.14926817, -0.04317714,  0.24179652, -0.20616755,  0.4172752 ,\n",
              "         -0.737155  , -0.17425217,  0.3156445 , -0.3552739 , -0.395115  ],\n",
              "        [-0.26271275, -0.16797927,  0.30563584, -0.03270569, -0.01150104,\n",
              "         -0.24627677,  0.24142104, -0.07621646,  0.3339557 ,  0.10243275],\n",
              "        [ 0.26255026,  0.02363358,  0.3236393 , -0.43547204,  0.26811856,\n",
              "         -0.49417892, -0.0136685 ,  0.00086602, -0.24076873, -0.00815725],\n",
              "        [ 0.06651404, -0.16314201,  0.26959333,  0.3236881 ,  0.11817549,\n",
              "          0.17660452,  0.11021394,  0.47018412,  0.5029724 ,  0.54021436],\n",
              "        [ 0.01232329, -0.43329835, -0.21424858,  0.48738435, -0.38471356,\n",
              "          0.35022077, -0.33246592, -0.03527692,  0.34334227,  0.33408895],\n",
              "        [-0.17499602, -0.08846112,  0.44534263,  0.41706678, -0.25442937,\n",
              "         -0.13242589, -0.5917319 , -0.75003874,  0.0550186 , -0.08872192],\n",
              "        [ 0.4335519 ,  0.11488257,  0.29251856, -0.29791567,  0.03763288,\n",
              "         -0.11979282, -0.4849098 ,  0.18739605,  0.00637927,  0.16282775],\n",
              "        [-0.17443036,  0.08167496, -0.5419055 ,  0.12802073, -0.22356339,\n",
              "          0.38808206, -0.21330813, -0.49614394,  0.22101277, -0.00226254]],\n",
              "       dtype=float32),\n",
              " array([ 0.049227  ,  0.02721086,  0.03504166, -0.01238636, -0.01706586,\n",
              "         0.01988176,  0.00092993, -0.07296985,  0.04619956, -0.05349142],\n",
              "       dtype=float32),\n",
              " array([[ 0.29350972,  0.01495209, -0.16467233,  0.02042359, -0.14378741,\n",
              "         -0.05700863,  0.11989471, -0.05637817,  0.27254355,  0.47402745],\n",
              "        [ 0.25167063, -0.14288695,  0.17566955,  0.41847163, -0.3347687 ,\n",
              "          0.00793358,  0.48080194, -0.25084803,  0.34036502, -0.39949074],\n",
              "        [ 0.2644032 , -0.0856568 , -0.4119659 , -0.09630942, -0.17804305,\n",
              "          0.52713746,  0.3026423 , -0.40907007,  0.5909925 , -0.0976069 ],\n",
              "        [ 0.36357093, -0.00488952, -0.26088867,  0.67006505,  0.28054923,\n",
              "         -0.17542177,  0.05486431, -0.21949461,  0.16455914, -0.04049552],\n",
              "        [ 0.55641574, -0.34682623,  0.07759377, -0.08662193, -0.09695615,\n",
              "          0.11891202, -0.01521198,  0.56446314,  0.23075795,  0.23031878],\n",
              "        [-0.09142579,  0.5548033 , -0.32469928,  0.3647462 , -0.12595163,\n",
              "          0.07089631,  0.03449333, -0.14888313, -0.05808999,  0.39150393],\n",
              "        [ 0.07599428, -0.12699255,  0.13093065, -0.07967905, -0.2547059 ,\n",
              "          0.04206409,  0.12510847, -0.39710048,  0.40889964,  0.32673928],\n",
              "        [ 0.5740713 , -0.2281679 ,  0.58825105, -0.40184653, -0.00410547,\n",
              "          0.58658844,  0.05537734,  0.03298928,  0.31169656, -0.19233175],\n",
              "        [-0.12104338, -0.5014624 ,  0.3113903 , -0.18781507, -0.46274775,\n",
              "         -0.11499538, -0.02999777, -0.53375983,  0.18876345,  0.00505815],\n",
              "        [-0.19417681, -0.06788933, -0.17673816,  0.1532216 , -0.28136235,\n",
              "         -0.2114139 , -0.47005594, -0.15971005, -0.65872353, -0.00340652]],\n",
              "       dtype=float32),\n",
              " array([-0.10150597, -0.03123332, -0.0282005 ,  0.00438787, -0.0004478 ,\n",
              "        -0.01638761,  0.02175754, -0.0104647 , -0.0085741 ,  0.0146223 ],\n",
              "       dtype=float32),\n",
              " array([[-0.22318298,  0.07007452, -0.2524823 , -0.05630882, -0.28767478,\n",
              "         -0.30032828, -0.53940725,  0.39169684, -0.15365812, -0.0530921 ],\n",
              "        [ 0.4531743 , -0.08485935,  0.12253729, -0.30106953, -0.1967986 ,\n",
              "         -0.23179246,  0.03937139, -0.92975223,  0.24682377, -0.42667037],\n",
              "        [ 0.21209171, -0.67760456, -0.10822933, -0.41114506,  0.6541816 ,\n",
              "         -0.14481081, -0.03953418,  0.04622973, -0.0592063 ,  0.29646206],\n",
              "        [ 0.0608221 , -0.13862969,  0.33889246,  0.17931186, -0.05995693,\n",
              "          0.54015994,  0.3014577 ,  0.00219015, -1.0318656 , -0.20843661],\n",
              "        [ 0.37494394,  0.3653853 , -0.27225742, -0.565997  ,  0.18694456,\n",
              "         -0.10070051,  0.03893152,  0.54326385,  1.0207042 , -0.3092072 ],\n",
              "        [-0.8066734 , -0.2072293 , -0.48196635,  0.23339203,  0.5445601 ,\n",
              "         -0.1517635 , -0.67532665, -0.14281388, -0.01136848,  0.30655432],\n",
              "        [-0.5232737 , -0.71261376,  0.06331099,  0.5418455 ,  0.04043067,\n",
              "         -0.07597745,  0.19247657,  0.52028334,  0.5407295 ,  1.3793249 ],\n",
              "        [-0.4539783 , -0.09870224, -0.23679186, -0.5744874 ,  0.06544055,\n",
              "         -0.12984492,  0.08924435,  0.48100042,  0.28226385,  0.02544265],\n",
              "        [ 0.27545497, -0.5602012 ,  0.02050368, -0.43816292,  0.4175032 ,\n",
              "         -0.04267948, -0.0295357 ,  0.16153401, -0.2269098 ,  0.1951963 ],\n",
              "        [ 0.0839916 ,  0.5102925 ,  0.36176258,  0.32111955,  0.16688062,\n",
              "         -0.14484844,  0.00219644, -0.24006948, -0.2244049 , -0.06599794]],\n",
              "       dtype=float32),\n",
              " array([-0.0068772 ,  0.0014922 ,  0.01118906,  0.0100634 , -0.04027907,\n",
              "         0.04657998,  0.03504817, -0.00922029, -0.00490694,  0.01948539],\n",
              "       dtype=float32),\n",
              " array([[ 0.29533505],\n",
              "        [ 0.40718013],\n",
              "        [ 0.52056015],\n",
              "        [ 0.09189746],\n",
              "        [-0.37449685],\n",
              "        [ 0.3979505 ],\n",
              "        [ 0.5800399 ],\n",
              "        [-0.46293905],\n",
              "        [-0.34727475],\n",
              "        [-0.62581825]], dtype=float32),\n",
              " array([0.03037571], dtype=float32)]"
            ]
          },
          "metadata": {},
          "execution_count": 52
        }
      ]
    },
    {
      "cell_type": "code",
      "source": [
        "from mlxtend.plotting import plot_decision_regions\n",
        "plot_decision_regions(X,y.astype('int'), clf=model, legend=2)"
      ],
      "metadata": {
        "colab": {
          "base_uri": "https://localhost:8080/",
          "height": 338
        },
        "id": "h2jKnSGeuuLY",
        "outputId": "a959a920-8398-4e16-b370-fabf274eff61"
      },
      "execution_count": null,
      "outputs": [
        {
          "output_type": "stream",
          "name": "stderr",
          "text": [
            "/usr/local/lib/python3.7/dist-packages/mlxtend/plotting/decision_regions.py:244: MatplotlibDeprecationWarning: Passing unsupported keyword arguments to axis() will raise a TypeError in 3.3.\n",
            "  ax.axis(xmin=xx.min(), xmax=xx.max(), y_min=yy.min(), y_max=yy.max())\n"
          ]
        },
        {
          "output_type": "execute_result",
          "data": {
            "text/plain": [
              "<matplotlib.axes._subplots.AxesSubplot at 0x7fe801e4ef50>"
            ]
          },
          "metadata": {},
          "execution_count": 64
        },
        {
          "output_type": "display_data",
          "data": {
            "text/plain": [
              "<Figure size 432x288 with 1 Axes>"
            ],
            "image/png": "[encoded data removed]"
          },
          "metadata": {
            "needs_background": "light"
          }
        }
      ]
    },
    {
      "cell_type": "code",
      "source": [
        "(np.random.randn(10,10)*0.01).min()"
      ],
      "metadata": {
        "colab": {
          "base_uri": "https://localhost:8080/"
        },
        "id": "6cQtO9mpuxLI",
        "outputId": "141c2890-cc9b-44ee-bd6e-8a3b0c84004a"
      },
      "execution_count": null,
      "outputs": [
        {
          "output_type": "execute_result",
          "data": {
            "text/plain": [
              "-0.01538420487066039"
            ]
          },
          "metadata": {},
          "execution_count": 58
        }
      ]
    },
    {
      "cell_type": "code",
      "source": [
        "(np.random.randn(10,10)*0.01).max()"
      ],
      "metadata": {
        "colab": {
          "base_uri": "https://localhost:8080/"
        },
        "id": "diiaUiL92T7H",
        "outputId": "82f87541-8dcc-4cb1-a3ff-cf31048421f3"
      },
      "execution_count": null,
      "outputs": [
        {
          "output_type": "execute_result",
          "data": {
            "text/plain": [
              "0.02825126600648443"
            ]
          },
          "metadata": {},
          "execution_count": 59
        }
      ]
    },
    {
      "cell_type": "code",
      "source": [],
      "metadata": {
        "id": "b2DJRNfI3BOE"
      },
      "execution_count": null,
      "outputs": []
    }
  ]
}